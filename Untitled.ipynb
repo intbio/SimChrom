{
 "cells": [
  {
   "cell_type": "code",
   "execution_count": 370,
   "id": "0c4ae505-2769-45a8-ad0b-e931656fa3c4",
   "metadata": {
    "tags": []
   },
   "outputs": [],
   "source": [
    "import pandas as pd"
   ]
  },
  {
   "cell_type": "code",
   "execution_count": 371,
   "id": "fa485015-4194-4167-a676-a3c88e2596b4",
   "metadata": {
    "tags": []
   },
   "outputs": [],
   "source": [
    "df = pd.read_csv(\"protein_localization_info.csv\")\n",
    "df.to_json(\"data.json\", orient=\"records\")"
   ]
  },
  {
   "cell_type": "code",
   "execution_count": 372,
   "id": "bb64e722-690e-4716-9df7-81bf12254167",
   "metadata": {
    "tags": []
   },
   "outputs": [],
   "source": [
    "!echo '{\"data\":' | cat - data.json > data_n.json\n",
    "!echo '}' >> data_n.json"
   ]
  },
  {
   "cell_type": "code",
   "execution_count": 374,
   "id": "25c5d44b-af4d-48e1-bfb2-40b79308095e",
   "metadata": {
    "tags": []
   },
   "outputs": [
    {
     "data": {
      "text/plain": [
       "0           LRAT(Lecithin retinol acyltransferase,PF04970)\n",
       "1                                                      NaN\n",
       "2                                PAN_1(PAN domain,PF00024)\n",
       "3        CAP(Cysteine-rich secretory protein family,PF0...\n",
       "4        Prot_ATP_ID_OB(Proteasomal ATPase OB C-termina...\n",
       "                               ...                        \n",
       "20220    CTP_transf_like(Cytidylyltransferase-like,PF01...\n",
       "20221    V-set(Immunoglobulin V-set domain,PF07686);C2-...\n",
       "20222    Filament_head(Intermediate filament head (DNA ...\n",
       "20223                                                  NaN\n",
       "20224    C2(C2 domain,PF00168);WW(WW domain,PF00397);WW...\n",
       "Name: Protein domains and families (by PFAM), Length: 20225, dtype: object"
      ]
     },
     "execution_count": 374,
     "metadata": {},
     "output_type": "execute_result"
    }
   ],
   "source": [
    "df['Protein domains and families (by PFAM)']"
   ]
  },
  {
   "cell_type": "code",
   "execution_count": 4,
   "id": "f703e5e9-b5e9-47e1-805b-428242bd12d0",
   "metadata": {},
   "outputs": [],
   "source": [
    "# plot1"
   ]
  },
  {
   "cell_type": "code",
   "execution_count": 2,
   "id": "4cccd46d-61cd-44f2-bbcf-ca6741d61177",
   "metadata": {
    "tags": []
   },
   "outputs": [],
   "source": [
    "import matplotlib as mpl\n",
    "import matplotlib.pyplot as plt\n",
    "import mpld3\n",
    "import numpy as np\n",
    "import seaborn as sns\n",
    "import pandas as pd"
   ]
  },
  {
   "cell_type": "code",
   "execution_count": 14,
   "id": "2e0a2e9e-abc9-4329-8b8b-c62cc86f2c29",
   "metadata": {
    "tags": []
   },
   "outputs": [],
   "source": [
    "df_color = pd.read_csv(\"simchrom_sl_func_domains_percent.csv\", index_col=0).sort_index()\n",
    "df_size = pd.read_csv(\"simchrom_sl_func_domains_number.csv\", index_col=0).sort_index()"
   ]
  },
  {
   "cell_type": "code",
   "execution_count": 366,
   "id": "87af84e3-1b91-4866-a40e-910cb887d272",
   "metadata": {
    "tags": []
   },
   "outputs": [
    {
     "data": {
      "application/vnd.plotly.v1+json": {
       "config": {
        "plotlyServerURL": "https://plot.ly"
       },
       "data": [
        {
         "marker": {
          "cmax": 100,
          "cmin": 0,
          "color": [
           2.272727272727273,
           3.409090909090909,
           30.681818181818183,
           31.818181818181817,
           5.681818181818182,
           1.1363636363636365,
           7.954545454545454,
           6.818181818181818,
           5.681818181818182,
           21.428571428571427,
           0.5434782608695652,
           0.5434782608695652,
           0.5434782608695652,
           9.23913043478261,
           1.851851851851852,
           1.851851851851852,
           3.703703703703704,
           44.44444444444444,
           44.44444444444444,
           4.081632653061225,
           30.612244897959183,
           16.3265306122449,
           22.448979591836736,
           12.244897959183673,
           5.797101449275362,
           5.797101449275362,
           1.4492753623188406,
           1.4492753623188406,
           2.898550724637681,
           1.4492753623188406,
           17.391304347826086,
           17.391304347826086,
           20.28985507246377,
           1.0526315789473684,
           2.1052631578947367,
           1.0526315789473684,
           2.1052631578947367,
           1.0526315789473684,
           29.473684210526315,
           22.105263157894736,
           7.368421052631579,
           4.2105263157894735,
           5.2631578947368425,
           3.571428571428572,
           3.571428571428572,
           3.571428571428572,
           3.571428571428572,
           21.428571428571427,
           7.042253521126761,
           1.408450704225352,
           2.816901408450704,
           8.450704225352112,
           14.084507042253522,
           5.633802816901408,
           1.408450704225352,
           1.408450704225352,
           1.408450704225352,
           4.225352112676056,
           81.48148148148148,
           16.666666666666668,
           31.48148148148148,
           0.8456659619450317,
           0.2114164904862579,
           64.48202959830867,
           39.53488372093023,
           0.2114164904862579,
           0.2114164904862579,
           2.1141649048625792,
           0.2114164904862579,
           0.2114164904862579,
           0.2114164904862579,
           18.51851851851852,
           3.703703703703704,
           14.814814814814817,
           11.11111111111111,
           29.62962962962963,
           29.62962962962963,
           3.703703703703704,
           0.4087193460490463,
           36.51226158038147,
           17.983651226158038,
           0.1362397820163488,
           26.56675749318801,
           0.1362397820163488,
           77.58620689655173,
           77.58620689655173,
           1.7241379310344829,
           92.3076923076923,
           7.6923076923076925,
           3.8461538461538463,
           5,
           5,
           5,
           5,
           30,
           10,
           9.090909090909092,
           22.727272727272727,
           35.22727272727273,
           9.090909090909092,
           1.1363636363636365,
           1.7045454545454546,
           5.2631578947368425,
           1.7543859649122806,
           3.508771929824561,
           23.80952380952381,
           33.333333333333336,
           1.487778958554729,
           1.5940488841657812,
           1.6294721927027984,
           1.6294721927027984,
           21.04144527098831,
           11.441728657456606,
           0.2479631597591215,
           2.7275947573503365,
           1.1335458731845554,
           2.3379383634431457,
           0.4605030109812256,
           0.2125398512221041,
           0.2479631597591215,
           7.545164718384697,
           0.4250797024442083,
           0.2833864682961388,
           0.2833864682961388,
           1.2752391073326248,
           1.7003188097768331,
           0.3542330853701735,
           0.602196245129295,
           0.7438894792773645,
           0.3542330853701735,
           0.3896563939071909,
           1.4169323414806942,
           0.8147360963513992,
           1.1335458731845554,
           0.2479631597591215,
           0.2833864682961388
          ],
          "colorscale": [
           [
            0,
            "rgb(247,251,255)"
           ],
           [
            0.125,
            "rgb(222,235,247)"
           ],
           [
            0.25,
            "rgb(198,219,239)"
           ],
           [
            0.375,
            "rgb(158,202,225)"
           ],
           [
            0.5,
            "rgb(107,174,214)"
           ],
           [
            0.625,
            "rgb(66,146,198)"
           ],
           [
            0.75,
            "rgb(33,113,181)"
           ],
           [
            0.875,
            "rgb(8,81,156)"
           ],
           [
            1,
            "rgb(8,48,107)"
           ]
          ],
          "line": {
           "color": "DarkSlateGrey",
           "width": 1
          },
          "opacity": 0.7,
          "showscale": true,
          "size": [
           2,
           3,
           27,
           28,
           5,
           1,
           7,
           6,
           5,
           3,
           1,
           1,
           1,
           17,
           1,
           1,
           2,
           4,
           4,
           2,
           15,
           8,
           11,
           6,
           4,
           4,
           1,
           1,
           2,
           1,
           12,
           12,
           14,
           1,
           2,
           1,
           2,
           1,
           28,
           21,
           7,
           4,
           5,
           1,
           1,
           1,
           1,
           6,
           5,
           1,
           2,
           6,
           10,
           4,
           1,
           1,
           1,
           3,
           44,
           9,
           17,
           4,
           1,
           305,
           187,
           1,
           1,
           10,
           1,
           1,
           1,
           5,
           1,
           4,
           3,
           8,
           8,
           1,
           3,
           268,
           132,
           1,
           195,
           1,
           45,
           45,
           1,
           24,
           2,
           1,
           1,
           1,
           1,
           1,
           6,
           2,
           2,
           5,
           62,
           16,
           2,
           3,
           3,
           1,
           2,
           5,
           7,
           42,
           45,
           46,
           46,
           594,
           323,
           7,
           77,
           32,
           66,
           13,
           6,
           7,
           213,
           12,
           8,
           8,
           36,
           48,
           10,
           17,
           21,
           10,
           11,
           40,
           23,
           32,
           7,
           8
          ],
          "sizemode": "area",
          "sizeref": 0.3
         },
         "mode": "markers",
         "text": [
          "2.3%, 2 proteins",
          "3.4%, 3 proteins",
          "30.7%, 27 proteins",
          "31.8%, 28 proteins",
          "5.7%, 5 proteins",
          "1.1%, 1 proteins",
          "8.0%, 7 proteins",
          "6.8%, 6 proteins",
          "5.7%, 5 proteins",
          "21.4%, 3 proteins",
          "0.5%, 1 proteins",
          "0.5%, 1 proteins",
          "0.5%, 1 proteins",
          "9.2%, 17 proteins",
          "1.9%, 1 proteins",
          "1.9%, 1 proteins",
          "3.7%, 2 proteins",
          "44.4%, 4 proteins",
          "44.4%, 4 proteins",
          "4.1%, 2 proteins",
          "30.6%, 15 proteins",
          "16.3%, 8 proteins",
          "22.4%, 11 proteins",
          "12.2%, 6 proteins",
          "5.8%, 4 proteins",
          "5.8%, 4 proteins",
          "1.4%, 1 proteins",
          "1.4%, 1 proteins",
          "2.9%, 2 proteins",
          "1.4%, 1 proteins",
          "17.4%, 12 proteins",
          "17.4%, 12 proteins",
          "20.3%, 14 proteins",
          "1.1%, 1 proteins",
          "2.1%, 2 proteins",
          "1.1%, 1 proteins",
          "2.1%, 2 proteins",
          "1.1%, 1 proteins",
          "29.5%, 28 proteins",
          "22.1%, 21 proteins",
          "7.4%, 7 proteins",
          "4.2%, 4 proteins",
          "5.3%, 5 proteins",
          "3.6%, 1 proteins",
          "3.6%, 1 proteins",
          "3.6%, 1 proteins",
          "3.6%, 1 proteins",
          "21.4%, 6 proteins",
          "7.0%, 5 proteins",
          "1.4%, 1 proteins",
          "2.8%, 2 proteins",
          "8.5%, 6 proteins",
          "14.1%, 10 proteins",
          "5.6%, 4 proteins",
          "1.4%, 1 proteins",
          "1.4%, 1 proteins",
          "1.4%, 1 proteins",
          "4.2%, 3 proteins",
          "81.5%, 44 proteins",
          "16.7%, 9 proteins",
          "31.5%, 17 proteins",
          "0.8%, 4 proteins",
          "0.2%, 1 proteins",
          "64.5%, 305 proteins",
          "39.5%, 187 proteins",
          "0.2%, 1 proteins",
          "0.2%, 1 proteins",
          "2.1%, 10 proteins",
          "0.2%, 1 proteins",
          "0.2%, 1 proteins",
          "0.2%, 1 proteins",
          "18.5%, 5 proteins",
          "3.7%, 1 proteins",
          "14.8%, 4 proteins",
          "11.1%, 3 proteins",
          "29.6%, 8 proteins",
          "29.6%, 8 proteins",
          "3.7%, 1 proteins",
          "0.4%, 3 proteins",
          "36.5%, 268 proteins",
          "18.0%, 132 proteins",
          "0.1%, 1 proteins",
          "26.6%, 195 proteins",
          "0.1%, 1 proteins",
          "77.6%, 45 proteins",
          "77.6%, 45 proteins",
          "1.7%, 1 proteins",
          "92.3%, 24 proteins",
          "7.7%, 2 proteins",
          "3.8%, 1 proteins",
          "5.0%, 1 proteins",
          "5.0%, 1 proteins",
          "5.0%, 1 proteins",
          "5.0%, 1 proteins",
          "30.0%, 6 proteins",
          "10.0%, 2 proteins",
          "9.1%, 2 proteins",
          "22.7%, 5 proteins",
          "35.2%, 62 proteins",
          "9.1%, 16 proteins",
          "1.1%, 2 proteins",
          "1.7%, 3 proteins",
          "5.3%, 3 proteins",
          "1.8%, 1 proteins",
          "3.5%, 2 proteins",
          "23.8%, 5 proteins",
          "33.3%, 7 proteins",
          "1.5%, 42 proteins",
          "1.6%, 45 proteins",
          "1.6%, 46 proteins",
          "1.6%, 46 proteins",
          "21.0%, 594 proteins",
          "11.4%, 323 proteins",
          "0.2%, 7 proteins",
          "2.7%, 77 proteins",
          "1.1%, 32 proteins",
          "2.3%, 66 proteins",
          "0.5%, 13 proteins",
          "0.2%, 6 proteins",
          "0.2%, 7 proteins",
          "7.5%, 213 proteins",
          "0.4%, 12 proteins",
          "0.3%, 8 proteins",
          "0.3%, 8 proteins",
          "1.3%, 36 proteins",
          "1.7%, 48 proteins",
          "0.4%, 10 proteins",
          "0.6%, 17 proteins",
          "0.7%, 21 proteins",
          "0.4%, 10 proteins",
          "0.4%, 11 proteins",
          "1.4%, 40 proteins",
          "0.8%, 23 proteins",
          "1.1%, 32 proteins",
          "0.2%, 7 proteins",
          "0.3%, 8 proteins"
         ],
         "type": "scatter",
         "x": [
          0,
          4,
          8,
          9,
          10,
          19,
          24,
          25,
          26,
          14,
          0,
          5,
          7,
          9,
          18,
          24,
          26,
          0,
          6,
          14,
          21,
          22,
          23,
          24,
          8,
          9,
          14,
          17,
          21,
          22,
          24,
          25,
          26,
          0,
          4,
          5,
          7,
          14,
          17,
          18,
          24,
          25,
          26,
          0,
          7,
          8,
          9,
          27,
          4,
          5,
          14,
          17,
          18,
          21,
          22,
          24,
          25,
          26,
          1,
          19,
          20,
          0,
          1,
          4,
          5,
          6,
          10,
          13,
          17,
          24,
          26,
          4,
          5,
          13,
          14,
          15,
          16,
          24,
          0,
          4,
          5,
          10,
          13,
          26,
          2,
          3,
          13,
          0,
          6,
          26,
          0,
          2,
          3,
          4,
          10,
          13,
          7,
          28,
          7,
          9,
          18,
          28,
          7,
          18,
          24,
          11,
          12,
          0,
          1,
          2,
          3,
          4,
          5,
          6,
          7,
          8,
          9,
          10,
          11,
          12,
          13,
          14,
          15,
          16,
          17,
          18,
          19,
          20,
          21,
          22,
          23,
          24,
          25,
          26,
          27,
          28
         ],
         "y": [
          0,
          0,
          0,
          0,
          0,
          0,
          0,
          0,
          0,
          1,
          2,
          2,
          2,
          2,
          3,
          3,
          3,
          4,
          4,
          5,
          5,
          5,
          5,
          5,
          6,
          6,
          6,
          6,
          6,
          6,
          6,
          6,
          6,
          7,
          7,
          7,
          7,
          7,
          7,
          7,
          7,
          7,
          7,
          8,
          8,
          8,
          8,
          8,
          9,
          9,
          9,
          9,
          9,
          9,
          9,
          9,
          9,
          9,
          10,
          10,
          10,
          11,
          11,
          11,
          11,
          11,
          11,
          11,
          11,
          11,
          11,
          12,
          12,
          12,
          12,
          12,
          12,
          12,
          13,
          13,
          13,
          13,
          13,
          13,
          14,
          14,
          14,
          15,
          15,
          15,
          16,
          16,
          16,
          16,
          16,
          16,
          17,
          17,
          18,
          18,
          18,
          18,
          19,
          19,
          19,
          20,
          20,
          21,
          21,
          21,
          21,
          21,
          21,
          21,
          21,
          21,
          21,
          21,
          21,
          21,
          21,
          21,
          21,
          21,
          21,
          21,
          21,
          21,
          21,
          21,
          21,
          21,
          21,
          21,
          21,
          21
         ]
        }
       ],
       "layout": {
        "annotations": [
         {
          "font": {
           "size": 16
          },
          "showarrow": false,
          "text": "% of SimChrom-SL category<br>with corresponding domain",
          "textangle": 90,
          "x": 1.23,
          "xref": "paper",
          "y": 0.5,
          "yref": "paper"
         }
        ],
        "autosize": false,
        "coloraxis": {
         "colorbar": {
          "title": {
           "text": ""
          }
         }
        },
        "dragmode": false,
        "height": 650,
        "margin": {
         "r": 150,
         "t": 30
        },
        "plot_bgcolor": "white",
        "template": {
         "data": {
          "bar": [
           {
            "error_x": {
             "color": "#2a3f5f"
            },
            "error_y": {
             "color": "#2a3f5f"
            },
            "marker": {
             "line": {
              "color": "#E5ECF6",
              "width": 0.5
             },
             "pattern": {
              "fillmode": "overlay",
              "size": 10,
              "solidity": 0.2
             }
            },
            "type": "bar"
           }
          ],
          "barpolar": [
           {
            "marker": {
             "line": {
              "color": "#E5ECF6",
              "width": 0.5
             },
             "pattern": {
              "fillmode": "overlay",
              "size": 10,
              "solidity": 0.2
             }
            },
            "type": "barpolar"
           }
          ],
          "carpet": [
           {
            "aaxis": {
             "endlinecolor": "#2a3f5f",
             "gridcolor": "white",
             "linecolor": "white",
             "minorgridcolor": "white",
             "startlinecolor": "#2a3f5f"
            },
            "baxis": {
             "endlinecolor": "#2a3f5f",
             "gridcolor": "white",
             "linecolor": "white",
             "minorgridcolor": "white",
             "startlinecolor": "#2a3f5f"
            },
            "type": "carpet"
           }
          ],
          "choropleth": [
           {
            "colorbar": {
             "outlinewidth": 0,
             "ticks": ""
            },
            "type": "choropleth"
           }
          ],
          "contour": [
           {
            "colorbar": {
             "outlinewidth": 0,
             "ticks": ""
            },
            "colorscale": [
             [
              0,
              "#0d0887"
             ],
             [
              0.1111111111111111,
              "#46039f"
             ],
             [
              0.2222222222222222,
              "#7201a8"
             ],
             [
              0.3333333333333333,
              "#9c179e"
             ],
             [
              0.4444444444444444,
              "#bd3786"
             ],
             [
              0.5555555555555556,
              "#d8576b"
             ],
             [
              0.6666666666666666,
              "#ed7953"
             ],
             [
              0.7777777777777778,
              "#fb9f3a"
             ],
             [
              0.8888888888888888,
              "#fdca26"
             ],
             [
              1,
              "#f0f921"
             ]
            ],
            "type": "contour"
           }
          ],
          "contourcarpet": [
           {
            "colorbar": {
             "outlinewidth": 0,
             "ticks": ""
            },
            "type": "contourcarpet"
           }
          ],
          "heatmap": [
           {
            "colorbar": {
             "outlinewidth": 0,
             "ticks": ""
            },
            "colorscale": [
             [
              0,
              "#0d0887"
             ],
             [
              0.1111111111111111,
              "#46039f"
             ],
             [
              0.2222222222222222,
              "#7201a8"
             ],
             [
              0.3333333333333333,
              "#9c179e"
             ],
             [
              0.4444444444444444,
              "#bd3786"
             ],
             [
              0.5555555555555556,
              "#d8576b"
             ],
             [
              0.6666666666666666,
              "#ed7953"
             ],
             [
              0.7777777777777778,
              "#fb9f3a"
             ],
             [
              0.8888888888888888,
              "#fdca26"
             ],
             [
              1,
              "#f0f921"
             ]
            ],
            "type": "heatmap"
           }
          ],
          "heatmapgl": [
           {
            "colorbar": {
             "outlinewidth": 0,
             "ticks": ""
            },
            "colorscale": [
             [
              0,
              "#0d0887"
             ],
             [
              0.1111111111111111,
              "#46039f"
             ],
             [
              0.2222222222222222,
              "#7201a8"
             ],
             [
              0.3333333333333333,
              "#9c179e"
             ],
             [
              0.4444444444444444,
              "#bd3786"
             ],
             [
              0.5555555555555556,
              "#d8576b"
             ],
             [
              0.6666666666666666,
              "#ed7953"
             ],
             [
              0.7777777777777778,
              "#fb9f3a"
             ],
             [
              0.8888888888888888,
              "#fdca26"
             ],
             [
              1,
              "#f0f921"
             ]
            ],
            "type": "heatmapgl"
           }
          ],
          "histogram": [
           {
            "marker": {
             "pattern": {
              "fillmode": "overlay",
              "size": 10,
              "solidity": 0.2
             }
            },
            "type": "histogram"
           }
          ],
          "histogram2d": [
           {
            "colorbar": {
             "outlinewidth": 0,
             "ticks": ""
            },
            "colorscale": [
             [
              0,
              "#0d0887"
             ],
             [
              0.1111111111111111,
              "#46039f"
             ],
             [
              0.2222222222222222,
              "#7201a8"
             ],
             [
              0.3333333333333333,
              "#9c179e"
             ],
             [
              0.4444444444444444,
              "#bd3786"
             ],
             [
              0.5555555555555556,
              "#d8576b"
             ],
             [
              0.6666666666666666,
              "#ed7953"
             ],
             [
              0.7777777777777778,
              "#fb9f3a"
             ],
             [
              0.8888888888888888,
              "#fdca26"
             ],
             [
              1,
              "#f0f921"
             ]
            ],
            "type": "histogram2d"
           }
          ],
          "histogram2dcontour": [
           {
            "colorbar": {
             "outlinewidth": 0,
             "ticks": ""
            },
            "colorscale": [
             [
              0,
              "#0d0887"
             ],
             [
              0.1111111111111111,
              "#46039f"
             ],
             [
              0.2222222222222222,
              "#7201a8"
             ],
             [
              0.3333333333333333,
              "#9c179e"
             ],
             [
              0.4444444444444444,
              "#bd3786"
             ],
             [
              0.5555555555555556,
              "#d8576b"
             ],
             [
              0.6666666666666666,
              "#ed7953"
             ],
             [
              0.7777777777777778,
              "#fb9f3a"
             ],
             [
              0.8888888888888888,
              "#fdca26"
             ],
             [
              1,
              "#f0f921"
             ]
            ],
            "type": "histogram2dcontour"
           }
          ],
          "mesh3d": [
           {
            "colorbar": {
             "outlinewidth": 0,
             "ticks": ""
            },
            "type": "mesh3d"
           }
          ],
          "parcoords": [
           {
            "line": {
             "colorbar": {
              "outlinewidth": 0,
              "ticks": ""
             }
            },
            "type": "parcoords"
           }
          ],
          "pie": [
           {
            "automargin": true,
            "type": "pie"
           }
          ],
          "scatter": [
           {
            "fillpattern": {
             "fillmode": "overlay",
             "size": 10,
             "solidity": 0.2
            },
            "type": "scatter"
           }
          ],
          "scatter3d": [
           {
            "line": {
             "colorbar": {
              "outlinewidth": 0,
              "ticks": ""
             }
            },
            "marker": {
             "colorbar": {
              "outlinewidth": 0,
              "ticks": ""
             }
            },
            "type": "scatter3d"
           }
          ],
          "scattercarpet": [
           {
            "marker": {
             "colorbar": {
              "outlinewidth": 0,
              "ticks": ""
             }
            },
            "type": "scattercarpet"
           }
          ],
          "scattergeo": [
           {
            "marker": {
             "colorbar": {
              "outlinewidth": 0,
              "ticks": ""
             }
            },
            "type": "scattergeo"
           }
          ],
          "scattergl": [
           {
            "marker": {
             "colorbar": {
              "outlinewidth": 0,
              "ticks": ""
             }
            },
            "type": "scattergl"
           }
          ],
          "scattermapbox": [
           {
            "marker": {
             "colorbar": {
              "outlinewidth": 0,
              "ticks": ""
             }
            },
            "type": "scattermapbox"
           }
          ],
          "scatterpolar": [
           {
            "marker": {
             "colorbar": {
              "outlinewidth": 0,
              "ticks": ""
             }
            },
            "type": "scatterpolar"
           }
          ],
          "scatterpolargl": [
           {
            "marker": {
             "colorbar": {
              "outlinewidth": 0,
              "ticks": ""
             }
            },
            "type": "scatterpolargl"
           }
          ],
          "scatterternary": [
           {
            "marker": {
             "colorbar": {
              "outlinewidth": 0,
              "ticks": ""
             }
            },
            "type": "scatterternary"
           }
          ],
          "surface": [
           {
            "colorbar": {
             "outlinewidth": 0,
             "ticks": ""
            },
            "colorscale": [
             [
              0,
              "#0d0887"
             ],
             [
              0.1111111111111111,
              "#46039f"
             ],
             [
              0.2222222222222222,
              "#7201a8"
             ],
             [
              0.3333333333333333,
              "#9c179e"
             ],
             [
              0.4444444444444444,
              "#bd3786"
             ],
             [
              0.5555555555555556,
              "#d8576b"
             ],
             [
              0.6666666666666666,
              "#ed7953"
             ],
             [
              0.7777777777777778,
              "#fb9f3a"
             ],
             [
              0.8888888888888888,
              "#fdca26"
             ],
             [
              1,
              "#f0f921"
             ]
            ],
            "type": "surface"
           }
          ],
          "table": [
           {
            "cells": {
             "fill": {
              "color": "#EBF0F8"
             },
             "line": {
              "color": "white"
             }
            },
            "header": {
             "fill": {
              "color": "#C8D4E3"
             },
             "line": {
              "color": "white"
             }
            },
            "type": "table"
           }
          ]
         },
         "layout": {
          "annotationdefaults": {
           "arrowcolor": "#2a3f5f",
           "arrowhead": 0,
           "arrowwidth": 1
          },
          "autotypenumbers": "strict",
          "coloraxis": {
           "colorbar": {
            "outlinewidth": 0,
            "ticks": ""
           }
          },
          "colorscale": {
           "diverging": [
            [
             0,
             "#8e0152"
            ],
            [
             0.1,
             "#c51b7d"
            ],
            [
             0.2,
             "#de77ae"
            ],
            [
             0.3,
             "#f1b6da"
            ],
            [
             0.4,
             "#fde0ef"
            ],
            [
             0.5,
             "#f7f7f7"
            ],
            [
             0.6,
             "#e6f5d0"
            ],
            [
             0.7,
             "#b8e186"
            ],
            [
             0.8,
             "#7fbc41"
            ],
            [
             0.9,
             "#4d9221"
            ],
            [
             1,
             "#276419"
            ]
           ],
           "sequential": [
            [
             0,
             "#0d0887"
            ],
            [
             0.1111111111111111,
             "#46039f"
            ],
            [
             0.2222222222222222,
             "#7201a8"
            ],
            [
             0.3333333333333333,
             "#9c179e"
            ],
            [
             0.4444444444444444,
             "#bd3786"
            ],
            [
             0.5555555555555556,
             "#d8576b"
            ],
            [
             0.6666666666666666,
             "#ed7953"
            ],
            [
             0.7777777777777778,
             "#fb9f3a"
            ],
            [
             0.8888888888888888,
             "#fdca26"
            ],
            [
             1,
             "#f0f921"
            ]
           ],
           "sequentialminus": [
            [
             0,
             "#0d0887"
            ],
            [
             0.1111111111111111,
             "#46039f"
            ],
            [
             0.2222222222222222,
             "#7201a8"
            ],
            [
             0.3333333333333333,
             "#9c179e"
            ],
            [
             0.4444444444444444,
             "#bd3786"
            ],
            [
             0.5555555555555556,
             "#d8576b"
            ],
            [
             0.6666666666666666,
             "#ed7953"
            ],
            [
             0.7777777777777778,
             "#fb9f3a"
            ],
            [
             0.8888888888888888,
             "#fdca26"
            ],
            [
             1,
             "#f0f921"
            ]
           ]
          },
          "colorway": [
           "#636efa",
           "#EF553B",
           "#00cc96",
           "#ab63fa",
           "#FFA15A",
           "#19d3f3",
           "#FF6692",
           "#B6E880",
           "#FF97FF",
           "#FECB52"
          ],
          "font": {
           "color": "#2a3f5f"
          },
          "geo": {
           "bgcolor": "white",
           "lakecolor": "white",
           "landcolor": "#E5ECF6",
           "showlakes": true,
           "showland": true,
           "subunitcolor": "white"
          },
          "hoverlabel": {
           "align": "left"
          },
          "hovermode": "closest",
          "mapbox": {
           "style": "light"
          },
          "paper_bgcolor": "white",
          "plot_bgcolor": "#E5ECF6",
          "polar": {
           "angularaxis": {
            "gridcolor": "white",
            "linecolor": "white",
            "ticks": ""
           },
           "bgcolor": "#E5ECF6",
           "radialaxis": {
            "gridcolor": "white",
            "linecolor": "white",
            "ticks": ""
           }
          },
          "scene": {
           "xaxis": {
            "backgroundcolor": "#E5ECF6",
            "gridcolor": "white",
            "gridwidth": 2,
            "linecolor": "white",
            "showbackground": true,
            "ticks": "",
            "zerolinecolor": "white"
           },
           "yaxis": {
            "backgroundcolor": "#E5ECF6",
            "gridcolor": "white",
            "gridwidth": 2,
            "linecolor": "white",
            "showbackground": true,
            "ticks": "",
            "zerolinecolor": "white"
           },
           "zaxis": {
            "backgroundcolor": "#E5ECF6",
            "gridcolor": "white",
            "gridwidth": 2,
            "linecolor": "white",
            "showbackground": true,
            "ticks": "",
            "zerolinecolor": "white"
           }
          },
          "shapedefaults": {
           "line": {
            "color": "#2a3f5f"
           }
          },
          "ternary": {
           "aaxis": {
            "gridcolor": "white",
            "linecolor": "white",
            "ticks": ""
           },
           "baxis": {
            "gridcolor": "white",
            "linecolor": "white",
            "ticks": ""
           },
           "bgcolor": "#E5ECF6",
           "caxis": {
            "gridcolor": "white",
            "linecolor": "white",
            "ticks": ""
           }
          },
          "title": {
           "x": 0.05
          },
          "xaxis": {
           "automargin": true,
           "gridcolor": "white",
           "linecolor": "white",
           "ticks": "",
           "title": {
            "standoff": 15
           },
           "zerolinecolor": "white",
           "zerolinewidth": 2
          },
          "yaxis": {
           "automargin": true,
           "gridcolor": "white",
           "linecolor": "white",
           "ticks": "",
           "title": {
            "standoff": 15
           },
           "zerolinecolor": "white",
           "zerolinewidth": 2
          }
         }
        },
        "width": 950,
        "xaxis": {
         "gridcolor": "silver",
         "linecolor": "black",
         "linewidth": 1,
         "mirror": true,
         "range": [
          -1,
          29
         ],
         "showline": true,
         "tickmode": "array",
         "ticktext": [
          "HMG_box",
          "Histone",
          "zf-C4",
          "Hormone_recep",
          "zf-C2H2",
          "KRAB",
          "HMG_box_2",
          "RRM_1",
          "SNF2-rel_dom",
          "Helicase_C",
          "GATA",
          "SMC_hinge",
          "SMC_N",
          "Homeodomain",
          "zf-CXXC",
          "MBDa",
          "MBD_C",
          "SET",
          "Pkinase",
          "Linker_histone",
          "Histone_H2A_C",
          "JmjC",
          "JmjN",
          "Hist_deacetyl",
          "PHD",
          "Chromo",
          "Bromodomain",
          "NAP",
          "LSM"
         ],
         "tickvals": [
          0,
          1,
          2,
          3,
          4,
          5,
          6,
          7,
          8,
          9,
          10,
          11,
          12,
          13,
          14,
          15,
          16,
          17,
          18,
          19,
          20,
          21,
          22,
          23,
          24,
          25,
          26,
          27,
          28
         ],
         "title": {
          "text": "Protein domains and families (by Pfam)"
         },
         "type": "linear",
         "zeroline": false
        },
        "yaxis": {
         "gridcolor": "silver",
         "linecolor": "black",
         "linewidth": 1,
         "mirror": true,
         "range": [
          23,
          -1
         ],
         "showline": true,
         "tickmode": "array",
         "ticktext": [
          "Chromatin remodelers",
          "DNA de_methylation",
          "DNA-acting enzymes",
          "General TFs",
          "HMG_A/B/N",
          "Histone PTM erasers",
          "Histone PTM readers",
          "Histone PTM writers",
          "Histone chaperones",
          "Histone modification",
          "Histones",
          "Housekeeping DNA-binding TFs",
          "Methylated DNA binding",
          "Non-Housekeeping DNA-binding TFs",
          "Nuclear hormone receptors",
          "Other families with HMG-box domain",
          "Pioneer TFs",
          "RNA modification",
          "RNA processing",
          "Regulation of transcription",
          "SMC complexes",
          "SimChrom"
         ],
         "tickvals": [
          0,
          1,
          2,
          3,
          4,
          5,
          6,
          7,
          8,
          9,
          10,
          11,
          12,
          13,
          14,
          15,
          16,
          17,
          18,
          19,
          20,
          21
         ],
         "title": {
          "text": "SimChrom-SL functional categories"
         },
         "type": "linear",
         "zeroline": false,
         "zerolinecolor": "black"
        }
       }
      },
      "image/png": "[encoded data removed]",
      "text/html": [
       "<div>                            <div id=\"5bdfc086-1b7d-4160-99be-b96962f72163\" class=\"plotly-graph-div\" style=\"height:650px; width:950px;\"></div>            <script type=\"text/javascript\">                require([\"plotly\"], function(Plotly) {                    window.PLOTLYENV=window.PLOTLYENV || {};                                    if (document.getElementById(\"5bdfc086-1b7d-4160-99be-b96962f72163\")) {                    Plotly.newPlot(                        \"5bdfc086-1b7d-4160-99be-b96962f72163\",                        [{\"marker\":{\"cmax\":100,\"cmin\":0,\"color\":[2.272727272727273,3.409090909090909,30.681818181818183,31.818181818181817,5.681818181818182,1.1363636363636365,7.954545454545454,6.818181818181818,5.681818181818182,21.428571428571427,0.5434782608695652,0.5434782608695652,0.5434782608695652,9.23913043478261,1.851851851851852,1.851851851851852,3.703703703703704,44.44444444444444,44.44444444444444,4.081632653061225,30.612244897959183,16.3265306122449,22.448979591836736,12.244897959183673,5.797101449275362,5.797101449275362,1.4492753623188406,1.4492753623188406,2.898550724637681,1.4492753623188406,17.391304347826086,17.391304347826086,20.28985507246377,1.0526315789473684,2.1052631578947367,1.0526315789473684,2.1052631578947367,1.0526315789473684,29.473684210526315,22.105263157894736,7.368421052631579,4.2105263157894735,5.2631578947368425,3.571428571428572,3.571428571428572,3.571428571428572,3.571428571428572,21.428571428571427,7.042253521126761,1.408450704225352,2.816901408450704,8.450704225352112,14.084507042253522,5.633802816901408,1.408450704225352,1.408450704225352,1.408450704225352,4.225352112676056,81.48148148148148,16.666666666666668,31.48148148148148,0.8456659619450317,0.2114164904862579,64.48202959830867,39.53488372093023,0.2114164904862579,0.2114164904862579,2.1141649048625792,0.2114164904862579,0.2114164904862579,0.2114164904862579,18.51851851851852,3.703703703703704,14.814814814814817,11.11111111111111,29.62962962962963,29.62962962962963,3.703703703703704,0.4087193460490463,36.51226158038147,17.983651226158038,0.1362397820163488,26.56675749318801,0.1362397820163488,77.58620689655173,77.58620689655173,1.7241379310344829,92.3076923076923,7.6923076923076925,3.8461538461538463,5.0,5.0,5.0,5.0,30.0,10.0,9.090909090909092,22.727272727272727,35.22727272727273,9.090909090909092,1.1363636363636365,1.7045454545454546,5.2631578947368425,1.7543859649122806,3.508771929824561,23.80952380952381,33.333333333333336,1.487778958554729,1.5940488841657812,1.6294721927027984,1.6294721927027984,21.04144527098831,11.441728657456606,0.2479631597591215,2.7275947573503365,1.1335458731845554,2.3379383634431457,0.4605030109812256,0.2125398512221041,0.2479631597591215,7.545164718384697,0.4250797024442083,0.2833864682961388,0.2833864682961388,1.2752391073326248,1.7003188097768331,0.3542330853701735,0.602196245129295,0.7438894792773645,0.3542330853701735,0.3896563939071909,1.4169323414806942,0.8147360963513992,1.1335458731845554,0.2479631597591215,0.2833864682961388],\"colorscale\":[[0.0,\"rgb(247,251,255)\"],[0.125,\"rgb(222,235,247)\"],[0.25,\"rgb(198,219,239)\"],[0.375,\"rgb(158,202,225)\"],[0.5,\"rgb(107,174,214)\"],[0.625,\"rgb(66,146,198)\"],[0.75,\"rgb(33,113,181)\"],[0.875,\"rgb(8,81,156)\"],[1.0,\"rgb(8,48,107)\"]],\"opacity\":0.7,\"showscale\":true,\"size\":[2.0,3.0,27.0,28.0,5.0,1.0,7.0,6.0,5.0,3.0,1.0,1.0,1.0,17.0,1.0,1.0,2.0,4.0,4.0,2.0,15.0,8.0,11.0,6.0,4.0,4.0,1.0,1.0,2.0,1.0,12.0,12.0,14.0,1.0,2.0,1.0,2.0,1.0,28.0,21.0,7.0,4.0,5.0,1.0,1.0,1.0,1.0,6.0,5.0,1.0,2.0,6.0,10.0,4.0,1.0,1.0,1.0,3.0,44.0,9.0,17.0,4.0,1.0,305.0,187.0,1.0,1.0,10.0,1.0,1.0,1.0,5.0,1.0,4.0,3.0,8.0,8.0,1.0,3.0,268.0,132.0,1.0,195.0,1.0,45.0,45.0,1.0,24.0,2.0,1.0,1.0,1.0,1.0,1.0,6.0,2.0,2.0,5.0,62.0,16.0,2.0,3.0,3.0,1.0,2.0,5.0,7.0,42.0,45.0,46.0,46.0,594.0,323.0,7.0,77.0,32.0,66.0,13.0,6.0,7.0,213.0,12.0,8.0,8.0,36.0,48.0,10.0,17.0,21.0,10.0,11.0,40.0,23.0,32.0,7.0,8.0],\"line\":{\"color\":\"DarkSlateGrey\",\"width\":1},\"sizemode\":\"area\",\"sizeref\":0.3},\"mode\":\"markers\",\"text\":[\"2.3%, 2 proteins\",\"3.4%, 3 proteins\",\"30.7%, 27 proteins\",\"31.8%, 28 proteins\",\"5.7%, 5 proteins\",\"1.1%, 1 proteins\",\"8.0%, 7 proteins\",\"6.8%, 6 proteins\",\"5.7%, 5 proteins\",\"21.4%, 3 proteins\",\"0.5%, 1 proteins\",\"0.5%, 1 proteins\",\"0.5%, 1 proteins\",\"9.2%, 17 proteins\",\"1.9%, 1 proteins\",\"1.9%, 1 proteins\",\"3.7%, 2 proteins\",\"44.4%, 4 proteins\",\"44.4%, 4 proteins\",\"4.1%, 2 proteins\",\"30.6%, 15 proteins\",\"16.3%, 8 proteins\",\"22.4%, 11 proteins\",\"12.2%, 6 proteins\",\"5.8%, 4 proteins\",\"5.8%, 4 proteins\",\"1.4%, 1 proteins\",\"1.4%, 1 proteins\",\"2.9%, 2 proteins\",\"1.4%, 1 proteins\",\"17.4%, 12 proteins\",\"17.4%, 12 proteins\",\"20.3%, 14 proteins\",\"1.1%, 1 proteins\",\"2.1%, 2 proteins\",\"1.1%, 1 proteins\",\"2.1%, 2 proteins\",\"1.1%, 1 proteins\",\"29.5%, 28 proteins\",\"22.1%, 21 proteins\",\"7.4%, 7 proteins\",\"4.2%, 4 proteins\",\"5.3%, 5 proteins\",\"3.6%, 1 proteins\",\"3.6%, 1 proteins\",\"3.6%, 1 proteins\",\"3.6%, 1 proteins\",\"21.4%, 6 proteins\",\"7.0%, 5 proteins\",\"1.4%, 1 proteins\",\"2.8%, 2 proteins\",\"8.5%, 6 proteins\",\"14.1%, 10 proteins\",\"5.6%, 4 proteins\",\"1.4%, 1 proteins\",\"1.4%, 1 proteins\",\"1.4%, 1 proteins\",\"4.2%, 3 proteins\",\"81.5%, 44 proteins\",\"16.7%, 9 proteins\",\"31.5%, 17 proteins\",\"0.8%, 4 proteins\",\"0.2%, 1 proteins\",\"64.5%, 305 proteins\",\"39.5%, 187 proteins\",\"0.2%, 1 proteins\",\"0.2%, 1 proteins\",\"2.1%, 10 proteins\",\"0.2%, 1 proteins\",\"0.2%, 1 proteins\",\"0.2%, 1 proteins\",\"18.5%, 5 proteins\",\"3.7%, 1 proteins\",\"14.8%, 4 proteins\",\"11.1%, 3 proteins\",\"29.6%, 8 proteins\",\"29.6%, 8 proteins\",\"3.7%, 1 proteins\",\"0.4%, 3 proteins\",\"36.5%, 268 proteins\",\"18.0%, 132 proteins\",\"0.1%, 1 proteins\",\"26.6%, 195 proteins\",\"0.1%, 1 proteins\",\"77.6%, 45 proteins\",\"77.6%, 45 proteins\",\"1.7%, 1 proteins\",\"92.3%, 24 proteins\",\"7.7%, 2 proteins\",\"3.8%, 1 proteins\",\"5.0%, 1 proteins\",\"5.0%, 1 proteins\",\"5.0%, 1 proteins\",\"5.0%, 1 proteins\",\"30.0%, 6 proteins\",\"10.0%, 2 proteins\",\"9.1%, 2 proteins\",\"22.7%, 5 proteins\",\"35.2%, 62 proteins\",\"9.1%, 16 proteins\",\"1.1%, 2 proteins\",\"1.7%, 3 proteins\",\"5.3%, 3 proteins\",\"1.8%, 1 proteins\",\"3.5%, 2 proteins\",\"23.8%, 5 proteins\",\"33.3%, 7 proteins\",\"1.5%, 42 proteins\",\"1.6%, 45 proteins\",\"1.6%, 46 proteins\",\"1.6%, 46 proteins\",\"21.0%, 594 proteins\",\"11.4%, 323 proteins\",\"0.2%, 7 proteins\",\"2.7%, 77 proteins\",\"1.1%, 32 proteins\",\"2.3%, 66 proteins\",\"0.5%, 13 proteins\",\"0.2%, 6 proteins\",\"0.2%, 7 proteins\",\"7.5%, 213 proteins\",\"0.4%, 12 proteins\",\"0.3%, 8 proteins\",\"0.3%, 8 proteins\",\"1.3%, 36 proteins\",\"1.7%, 48 proteins\",\"0.4%, 10 proteins\",\"0.6%, 17 proteins\",\"0.7%, 21 proteins\",\"0.4%, 10 proteins\",\"0.4%, 11 proteins\",\"1.4%, 40 proteins\",\"0.8%, 23 proteins\",\"1.1%, 32 proteins\",\"0.2%, 7 proteins\",\"0.3%, 8 proteins\"],\"x\":[0,4,8,9,10,19,24,25,26,14,0,5,7,9,18,24,26,0,6,14,21,22,23,24,8,9,14,17,21,22,24,25,26,0,4,5,7,14,17,18,24,25,26,0,7,8,9,27,4,5,14,17,18,21,22,24,25,26,1,19,20,0,1,4,5,6,10,13,17,24,26,4,5,13,14,15,16,24,0,4,5,10,13,26,2,3,13,0,6,26,0,2,3,4,10,13,7,28,7,9,18,28,7,18,24,11,12,0,1,2,3,4,5,6,7,8,9,10,11,12,13,14,15,16,17,18,19,20,21,22,23,24,25,26,27,28],\"y\":[0,0,0,0,0,0,0,0,0,1,2,2,2,2,3,3,3,4,4,5,5,5,5,5,6,6,6,6,6,6,6,6,6,7,7,7,7,7,7,7,7,7,7,8,8,8,8,8,9,9,9,9,9,9,9,9,9,9,10,10,10,11,11,11,11,11,11,11,11,11,11,12,12,12,12,12,12,12,13,13,13,13,13,13,14,14,14,15,15,15,16,16,16,16,16,16,17,17,18,18,18,18,19,19,19,20,20,21,21,21,21,21,21,21,21,21,21,21,21,21,21,21,21,21,21,21,21,21,21,21,21,21,21,21,21,21],\"type\":\"scatter\"}],                        {\"template\":{\"data\":{\"histogram2dcontour\":[{\"type\":\"histogram2dcontour\",\"colorbar\":{\"outlinewidth\":0,\"ticks\":\"\"},\"colorscale\":[[0.0,\"#0d0887\"],[0.1111111111111111,\"#46039f\"],[0.2222222222222222,\"#7201a8\"],[0.3333333333333333,\"#9c179e\"],[0.4444444444444444,\"#bd3786\"],[0.5555555555555556,\"#d8576b\"],[0.6666666666666666,\"#ed7953\"],[0.7777777777777778,\"#fb9f3a\"],[0.8888888888888888,\"#fdca26\"],[1.0,\"#f0f921\"]]}],\"choropleth\":[{\"type\":\"choropleth\",\"colorbar\":{\"outlinewidth\":0,\"ticks\":\"\"}}],\"histogram2d\":[{\"type\":\"histogram2d\",\"colorbar\":{\"outlinewidth\":0,\"ticks\":\"\"},\"colorscale\":[[0.0,\"#0d0887\"],[0.1111111111111111,\"#46039f\"],[0.2222222222222222,\"#7201a8\"],[0.3333333333333333,\"#9c179e\"],[0.4444444444444444,\"#bd3786\"],[0.5555555555555556,\"#d8576b\"],[0.6666666666666666,\"#ed7953\"],[0.7777777777777778,\"#fb9f3a\"],[0.8888888888888888,\"#fdca26\"],[1.0,\"#f0f921\"]]}],\"heatmap\":[{\"type\":\"heatmap\",\"colorbar\":{\"outlinewidth\":0,\"ticks\":\"\"},\"colorscale\":[[0.0,\"#0d0887\"],[0.1111111111111111,\"#46039f\"],[0.2222222222222222,\"#7201a8\"],[0.3333333333333333,\"#9c179e\"],[0.4444444444444444,\"#bd3786\"],[0.5555555555555556,\"#d8576b\"],[0.6666666666666666,\"#ed7953\"],[0.7777777777777778,\"#fb9f3a\"],[0.8888888888888888,\"#fdca26\"],[1.0,\"#f0f921\"]]}],\"heatmapgl\":[{\"type\":\"heatmapgl\",\"colorbar\":{\"outlinewidth\":0,\"ticks\":\"\"},\"colorscale\":[[0.0,\"#0d0887\"],[0.1111111111111111,\"#46039f\"],[0.2222222222222222,\"#7201a8\"],[0.3333333333333333,\"#9c179e\"],[0.4444444444444444,\"#bd3786\"],[0.5555555555555556,\"#d8576b\"],[0.6666666666666666,\"#ed7953\"],[0.7777777777777778,\"#fb9f3a\"],[0.8888888888888888,\"#fdca26\"],[1.0,\"#f0f921\"]]}],\"contourcarpet\":[{\"type\":\"contourcarpet\",\"colorbar\":{\"outlinewidth\":0,\"ticks\":\"\"}}],\"contour\":[{\"type\":\"contour\",\"colorbar\":{\"outlinewidth\":0,\"ticks\":\"\"},\"colorscale\":[[0.0,\"#0d0887\"],[0.1111111111111111,\"#46039f\"],[0.2222222222222222,\"#7201a8\"],[0.3333333333333333,\"#9c179e\"],[0.4444444444444444,\"#bd3786\"],[0.5555555555555556,\"#d8576b\"],[0.6666666666666666,\"#ed7953\"],[0.7777777777777778,\"#fb9f3a\"],[0.8888888888888888,\"#fdca26\"],[1.0,\"#f0f921\"]]}],\"surface\":[{\"type\":\"surface\",\"colorbar\":{\"outlinewidth\":0,\"ticks\":\"\"},\"colorscale\":[[0.0,\"#0d0887\"],[0.1111111111111111,\"#46039f\"],[0.2222222222222222,\"#7201a8\"],[0.3333333333333333,\"#9c179e\"],[0.4444444444444444,\"#bd3786\"],[0.5555555555555556,\"#d8576b\"],[0.6666666666666666,\"#ed7953\"],[0.7777777777777778,\"#fb9f3a\"],[0.8888888888888888,\"#fdca26\"],[1.0,\"#f0f921\"]]}],\"mesh3d\":[{\"type\":\"mesh3d\",\"colorbar\":{\"outlinewidth\":0,\"ticks\":\"\"}}],\"scatter\":[{\"fillpattern\":{\"fillmode\":\"overlay\",\"size\":10,\"solidity\":0.2},\"type\":\"scatter\"}],\"parcoords\":[{\"type\":\"parcoords\",\"line\":{\"colorbar\":{\"outlinewidth\":0,\"ticks\":\"\"}}}],\"scatterpolargl\":[{\"type\":\"scatterpolargl\",\"marker\":{\"colorbar\":{\"outlinewidth\":0,\"ticks\":\"\"}}}],\"bar\":[{\"error_x\":{\"color\":\"#2a3f5f\"},\"error_y\":{\"color\":\"#2a3f5f\"},\"marker\":{\"line\":{\"color\":\"#E5ECF6\",\"width\":0.5},\"pattern\":{\"fillmode\":\"overlay\",\"size\":10,\"solidity\":0.2}},\"type\":\"bar\"}],\"scattergeo\":[{\"type\":\"scattergeo\",\"marker\":{\"colorbar\":{\"outlinewidth\":0,\"ticks\":\"\"}}}],\"scatterpolar\":[{\"type\":\"scatterpolar\",\"marker\":{\"colorbar\":{\"outlinewidth\":0,\"ticks\":\"\"}}}],\"histogram\":[{\"marker\":{\"pattern\":{\"fillmode\":\"overlay\",\"size\":10,\"solidity\":0.2}},\"type\":\"histogram\"}],\"scattergl\":[{\"type\":\"scattergl\",\"marker\":{\"colorbar\":{\"outlinewidth\":0,\"ticks\":\"\"}}}],\"scatter3d\":[{\"type\":\"scatter3d\",\"line\":{\"colorbar\":{\"outlinewidth\":0,\"ticks\":\"\"}},\"marker\":{\"colorbar\":{\"outlinewidth\":0,\"ticks\":\"\"}}}],\"scattermapbox\":[{\"type\":\"scattermapbox\",\"marker\":{\"colorbar\":{\"outlinewidth\":0,\"ticks\":\"\"}}}],\"scatterternary\":[{\"type\":\"scatterternary\",\"marker\":{\"colorbar\":{\"outlinewidth\":0,\"ticks\":\"\"}}}],\"scattercarpet\":[{\"type\":\"scattercarpet\",\"marker\":{\"colorbar\":{\"outlinewidth\":0,\"ticks\":\"\"}}}],\"carpet\":[{\"aaxis\":{\"endlinecolor\":\"#2a3f5f\",\"gridcolor\":\"white\",\"linecolor\":\"white\",\"minorgridcolor\":\"white\",\"startlinecolor\":\"#2a3f5f\"},\"baxis\":{\"endlinecolor\":\"#2a3f5f\",\"gridcolor\":\"white\",\"linecolor\":\"white\",\"minorgridcolor\":\"white\",\"startlinecolor\":\"#2a3f5f\"},\"type\":\"carpet\"}],\"table\":[{\"cells\":{\"fill\":{\"color\":\"#EBF0F8\"},\"line\":{\"color\":\"white\"}},\"header\":{\"fill\":{\"color\":\"#C8D4E3\"},\"line\":{\"color\":\"white\"}},\"type\":\"table\"}],\"barpolar\":[{\"marker\":{\"line\":{\"color\":\"#E5ECF6\",\"width\":0.5},\"pattern\":{\"fillmode\":\"overlay\",\"size\":10,\"solidity\":0.2}},\"type\":\"barpolar\"}],\"pie\":[{\"automargin\":true,\"type\":\"pie\"}]},\"layout\":{\"autotypenumbers\":\"strict\",\"colorway\":[\"#636efa\",\"#EF553B\",\"#00cc96\",\"#ab63fa\",\"#FFA15A\",\"#19d3f3\",\"#FF6692\",\"#B6E880\",\"#FF97FF\",\"#FECB52\"],\"font\":{\"color\":\"#2a3f5f\"},\"hovermode\":\"closest\",\"hoverlabel\":{\"align\":\"left\"},\"paper_bgcolor\":\"white\",\"plot_bgcolor\":\"#E5ECF6\",\"polar\":{\"bgcolor\":\"#E5ECF6\",\"angularaxis\":{\"gridcolor\":\"white\",\"linecolor\":\"white\",\"ticks\":\"\"},\"radialaxis\":{\"gridcolor\":\"white\",\"linecolor\":\"white\",\"ticks\":\"\"}},\"ternary\":{\"bgcolor\":\"#E5ECF6\",\"aaxis\":{\"gridcolor\":\"white\",\"linecolor\":\"white\",\"ticks\":\"\"},\"baxis\":{\"gridcolor\":\"white\",\"linecolor\":\"white\",\"ticks\":\"\"},\"caxis\":{\"gridcolor\":\"white\",\"linecolor\":\"white\",\"ticks\":\"\"}},\"coloraxis\":{\"colorbar\":{\"outlinewidth\":0,\"ticks\":\"\"}},\"colorscale\":{\"sequential\":[[0.0,\"#0d0887\"],[0.1111111111111111,\"#46039f\"],[0.2222222222222222,\"#7201a8\"],[0.3333333333333333,\"#9c179e\"],[0.4444444444444444,\"#bd3786\"],[0.5555555555555556,\"#d8576b\"],[0.6666666666666666,\"#ed7953\"],[0.7777777777777778,\"#fb9f3a\"],[0.8888888888888888,\"#fdca26\"],[1.0,\"#f0f921\"]],\"sequentialminus\":[[0.0,\"#0d0887\"],[0.1111111111111111,\"#46039f\"],[0.2222222222222222,\"#7201a8\"],[0.3333333333333333,\"#9c179e\"],[0.4444444444444444,\"#bd3786\"],[0.5555555555555556,\"#d8576b\"],[0.6666666666666666,\"#ed7953\"],[0.7777777777777778,\"#fb9f3a\"],[0.8888888888888888,\"#fdca26\"],[1.0,\"#f0f921\"]],\"diverging\":[[0,\"#8e0152\"],[0.1,\"#c51b7d\"],[0.2,\"#de77ae\"],[0.3,\"#f1b6da\"],[0.4,\"#fde0ef\"],[0.5,\"#f7f7f7\"],[0.6,\"#e6f5d0\"],[0.7,\"#b8e186\"],[0.8,\"#7fbc41\"],[0.9,\"#4d9221\"],[1,\"#276419\"]]},\"xaxis\":{\"gridcolor\":\"white\",\"linecolor\":\"white\",\"ticks\":\"\",\"title\":{\"standoff\":15},\"zerolinecolor\":\"white\",\"automargin\":true,\"zerolinewidth\":2},\"yaxis\":{\"gridcolor\":\"white\",\"linecolor\":\"white\",\"ticks\":\"\",\"title\":{\"standoff\":15},\"zerolinecolor\":\"white\",\"automargin\":true,\"zerolinewidth\":2},\"scene\":{\"xaxis\":{\"backgroundcolor\":\"#E5ECF6\",\"gridcolor\":\"white\",\"linecolor\":\"white\",\"showbackground\":true,\"ticks\":\"\",\"zerolinecolor\":\"white\",\"gridwidth\":2},\"yaxis\":{\"backgroundcolor\":\"#E5ECF6\",\"gridcolor\":\"white\",\"linecolor\":\"white\",\"showbackground\":true,\"ticks\":\"\",\"zerolinecolor\":\"white\",\"gridwidth\":2},\"zaxis\":{\"backgroundcolor\":\"#E5ECF6\",\"gridcolor\":\"white\",\"linecolor\":\"white\",\"showbackground\":true,\"ticks\":\"\",\"zerolinecolor\":\"white\",\"gridwidth\":2}},\"shapedefaults\":{\"line\":{\"color\":\"#2a3f5f\"}},\"annotationdefaults\":{\"arrowcolor\":\"#2a3f5f\",\"arrowhead\":0,\"arrowwidth\":1},\"geo\":{\"bgcolor\":\"white\",\"landcolor\":\"#E5ECF6\",\"subunitcolor\":\"white\",\"showland\":true,\"showlakes\":true,\"lakecolor\":\"white\"},\"title\":{\"x\":0.05},\"mapbox\":{\"style\":\"light\"}}},\"xaxis\":{\"title\":{\"text\":\"Protein domains and families (by Pfam)\"},\"tickmode\":\"array\",\"tickvals\":[0,1,2,3,4,5,6,7,8,9,10,11,12,13,14,15,16,17,18,19,20,21,22,23,24,25,26,27,28],\"ticktext\":[\"HMG_box\",\"Histone\",\"zf-C4\",\"Hormone_recep\",\"zf-C2H2\",\"KRAB\",\"HMG_box_2\",\"RRM_1\",\"SNF2-rel_dom\",\"Helicase_C\",\"GATA\",\"SMC_hinge\",\"SMC_N\",\"Homeodomain\",\"zf-CXXC\",\"MBDa\",\"MBD_C\",\"SET\",\"Pkinase\",\"Linker_histone\",\"Histone_H2A_C\",\"JmjC\",\"JmjN\",\"Hist_deacetyl\",\"PHD\",\"Chromo\",\"Bromodomain\",\"NAP\",\"LSM\"],\"gridcolor\":\"silver\",\"range\":[-1,29],\"zeroline\":false,\"linewidth\":1,\"linecolor\":\"black\",\"showline\":true,\"mirror\":true},\"yaxis\":{\"title\":{\"text\":\"SimChrom-SL functional categories\"},\"tickmode\":\"array\",\"tickvals\":[0,1,2,3,4,5,6,7,8,9,10,11,12,13,14,15,16,17,18,19,20,21],\"ticktext\":[\"Chromatin remodelers\",\"DNA de_methylation\",\"DNA-acting enzymes\",\"General TFs\",\"HMG_A\\u002fB\\u002fN\",\"Histone PTM erasers\",\"Histone PTM readers\",\"Histone PTM writers\",\"Histone chaperones\",\"Histone modification\",\"Histones\",\"Housekeeping DNA-binding TFs\",\"Methylated DNA binding\",\"Non-Housekeeping DNA-binding TFs\",\"Nuclear hormone receptors\",\"Other families with HMG-box domain\",\"Pioneer TFs\",\"RNA modification\",\"RNA processing\",\"Regulation of transcription\",\"SMC complexes\",\"SimChrom\"],\"gridcolor\":\"silver\",\"range\":[23,-1],\"zerolinecolor\":\"black\",\"zeroline\":false,\"linewidth\":1,\"linecolor\":\"black\",\"showline\":true,\"mirror\":true},\"margin\":{\"r\":150,\"t\":30},\"autosize\":false,\"width\":950,\"height\":650,\"coloraxis\":{\"colorbar\":{\"title\":{\"text\":\"\"}}},\"plot_bgcolor\":\"white\",\"dragmode\":false,\"annotations\":[{\"showarrow\":false,\"text\":\"% of SimChrom-SL category\\u003cbr\\u003ewith corresponding domain\",\"textangle\":90,\"x\":1.23,\"xref\":\"paper\",\"y\":0.5,\"yref\":\"paper\",\"font\":{\"size\":16}}]},                        {\"responsive\": true}                    ).then(function(){\n",
       "                            \n",
       "var gd = document.getElementById('5bdfc086-1b7d-4160-99be-b96962f72163');\n",
       "var x = new MutationObserver(function (mutations, observer) {{\n",
       "        var display = window.getComputedStyle(gd).display;\n",
       "        if (!display || display === 'none') {{\n",
       "            console.log([gd, 'removed!']);\n",
       "            Plotly.purge(gd);\n",
       "            observer.disconnect();\n",
       "        }}\n",
       "}});\n",
       "\n",
       "// Listen for the removal of the full notebook cells\n",
       "var notebookContainer = gd.closest('#notebook-container');\n",
       "if (notebookContainer) {{\n",
       "    x.observe(notebookContainer, {childList: true});\n",
       "}}\n",
       "\n",
       "// Listen for the clearing of the current output cell\n",
       "var outputEl = gd.closest('.output');\n",
       "if (outputEl) {{\n",
       "    x.observe(outputEl, {childList: true});\n",
       "}}\n",
       "\n",
       "                        })                };                });            </script>        </div>"
      ]
     },
     "metadata": {},
     "output_type": "display_data"
    }
   ],
   "source": [
    "import plotly.graph_objects as go\n",
    "\n",
    "n_rows, n_cols = df_size.shape\n",
    "n_rows, n_cols = df_size.shape\n",
    "x = np.arange(n_cols)\n",
    "y = np.arange(n_rows)\n",
    "\n",
    "x, y = np.meshgrid(x, y)\n",
    "\n",
    "x = x.flatten()\n",
    "y = y.flatten()\n",
    "\n",
    "\n",
    "sizes = df_size.values.flatten()\n",
    "colors = df_color.values.flatten()\n",
    "mask = sizes != 0\n",
    "\n",
    "fig = go.Figure(\n",
    "    data=[\n",
    "        go.Scatter(\n",
    "            x=x[mask],\n",
    "            y=y[mask],\n",
    "            text=[\n",
    "                f\"{percent:.1f}%, {num:n} proteins\"\n",
    "                for num, percent in zip(sizes[mask], colors[mask])\n",
    "            ],\n",
    "            mode=\"markers\",\n",
    "            marker=dict(\n",
    "                color=colors[mask],\n",
    "                size=sizes[mask],\n",
    "                showscale=True,\n",
    "                opacity=0.7,\n",
    "                colorscale=\"blues\",\n",
    "                cmax=100,\n",
    "                cmin=0\n",
    "                # colorscale=[(0, \"white\"),(100, \"blue\")]\n",
    "                # size_max=30\n",
    "            ),\n",
    "            # ,width=500, height=600,size_max=30\n",
    "        )\n",
    "    ]\n",
    ")\n",
    "\n",
    "fig.update_layout(\n",
    "    autosize=False,\n",
    "    width=950,\n",
    "    height=650,\n",
    "    xaxis=dict(\n",
    "        title=\"Protein domains and families (by Pfam)\",\n",
    "        tickmode=\"array\",\n",
    "        tickvals=np.arange(n_cols),\n",
    "        ticktext=df_size.columns,\n",
    "        gridcolor=\"silver\",\n",
    "        range=[-1, 29],\n",
    "        # griddash=\"dot\",\n",
    "        zeroline=False,\n",
    "        linewidth=1,\n",
    "        linecolor=\"black\",\n",
    "        showline=True,\n",
    "        mirror=True,\n",
    "    ),\n",
    "    yaxis=dict(\n",
    "        # scaleanchor=\"x\",\n",
    "        # scaleratio=1,\n",
    "        title=\"SimChrom-SL functional categories\",\n",
    "        tickmode=\"array\",\n",
    "        tickvals=np.arange(n_rows),\n",
    "        ticktext=df_size.index,\n",
    "        gridcolor=\"silver\",\n",
    "        range=[23, -1],\n",
    "        zerolinecolor=\"black\",\n",
    "        zeroline=False,\n",
    "        # griddash=\"dot\",\n",
    "        linewidth=1,\n",
    "        linecolor=\"black\",\n",
    "        showline=True,\n",
    "        mirror=True,\n",
    "    ),\n",
    "    coloraxis_colorbar={\"title\": \"\"},\n",
    "    margin=dict(r=150,t=30),\n",
    "    plot_bgcolor=\"white\",\n",
    "    dragmode=False,\n",
    "    annotations=[\n",
    "        dict(\n",
    "            text=\"% of SimChrom-SL category<br>with corresponding domain\",\n",
    "            font_size=16,\n",
    "            # font_family='arial',\n",
    "            # font_color='red',\n",
    "            textangle=90,\n",
    "            showarrow=False,\n",
    "            # ^^ appearance\n",
    "            xref=\"paper\",\n",
    "            yref=\"paper\",\n",
    "            x=1.23,\n",
    "            y=0.5,\n",
    "            # ^^ position\n",
    "        )\n",
    "    ],\n",
    ")\n",
    "\n",
    "fig.update_traces(\n",
    "    mode=\"markers\",\n",
    "    marker=dict(sizemode=\"area\", sizeref=0.3, line_width=1, line_color=\"DarkSlateGrey\"),\n",
    ")\n",
    "\n",
    "js_snippet = '''\n",
    "var plot = $('#SHvsPfam_plot');\n",
    "plot.on('plotly_click', function(data){\n",
    "    var pts = '';\n",
    "    var point = data.points[0];\n",
    "    console.log(plot.layout.xaxis.ticktext[point.x]);\n",
    "    console.log(plot.layout.yaxis.ticktext[point.y]);\n",
    "});\n",
    "'''\n",
    "config = {\n",
    "    'scrollZoom': False,  # Disable scroll to zoom\n",
    "    'modeBarButtonsToRemove': ['zoom2d'],\n",
    "    'displayModeBar': False,  # Hide the mode bar (toolbar)\n",
    "    'doubleClick': False,  # Disable double click to reset zoom\n",
    "    'editable': False,  # Disable edits like moving title and axes\n",
    "    'staticPlot': False  # Disable all interactivity (makes the plot static)\n",
    "}\n",
    "\n",
    "fig.write_html(\"SHvsPfam_plot.html\", full_html=False,div_id='SHvsPfam_plot',include_plotlyjs='js/plotly-2.35.2.min.js',config=config)\n",
    "fig.show()"
   ]
  },
  {
   "cell_type": "code",
   "execution_count": 10,
   "id": "9b01f173-a9db-416a-a2fa-b777bf8b9ebe",
   "metadata": {
    "tags": []
   },
   "outputs": [],
   "source": [
    "# plot"
   ]
  },
  {
   "cell_type": "code",
   "execution_count": 333,
   "id": "7972d77d-4911-49c6-91a3-b481a18c2a4d",
   "metadata": {
    "tags": []
   },
   "outputs": [],
   "source": [
    "df_cooc = pd.read_csv(\"domain_coocurence.csv\", index_col=0)\n",
    "df_cooc_num = pd.read_csv(\"domain_coocurence_number.csv\", index_col=0)\n",
    "\n",
    "# s = df_cooc.sum()\n",
    "# df_cooc = df_cooc[s.sort_values(ascending=False).index]\n",
    "# s = df_cooc.sum(axis=1)\n",
    "# df_cooc= df_cooc.loc[:,s.sort_values(ascending=False).index]"
   ]
  },
  {
   "cell_type": "code",
   "execution_count": 282,
   "id": "7e0da990-9b7f-4b45-8637-bb23004464d4",
   "metadata": {
    "tags": []
   },
   "outputs": [],
   "source": [
    "color_nodes = {'Pre-SET': 'olive',\n",
    " 'SET': 'olive',\n",
    " 'FYRC': 'olive',\n",
    " 'FYRN': 'olive',\n",
    " 'JmjC': 'green',\n",
    " 'JmjN': 'green',\n",
    " 'Chromo': 'yellow',\n",
    " 'PHD': 'yellow',\n",
    " 'PHD_2': 'yellow',\n",
    " 'PWWP': 'yellow',\n",
    " 'Tudor_2': 'yellow',\n",
    " 'C5HCH': 'yellow',\n",
    " 'EPL1': 'plum',\n",
    " 'MOZ_SAS': 'plum',\n",
    " 'zf-MYST': 'plum',\n",
    " 'HDAC4_Gln': 'cadetblue',\n",
    " 'Hist_deacetyl': 'cadetblue',\n",
    " 'Bromodomain': 'red',\n",
    " 'Pkinase': 'blue',\n",
    " 'Pkinase_C': 'blue',\n",
    " 'PI3_PI4_kinase': 'blue',\n",
    " 'Helicase_C': 'pink',\n",
    " 'SNF2-rel_dom': 'pink',\n",
    " 'DUF1087': 'pink',\n",
    " 'CHDII_SANT-like': 'pink',\n",
    " 'Chromo_shadow': 'pink',\n",
    " 'HSA': 'pink',\n",
    " 'DPF1-3_N': 'pink',\n",
    " 'AWS': 'brown',\n",
    " 'Myb_DNA-binding': 'brown',\n",
    " 'zf-C5HC2': 'brown',\n",
    " 'zf-HC5HC2H': 'brown',\n",
    " 'zf-C2H2': 'brown',\n",
    " 'zf-HC5HC2H_2': 'brown',\n",
    " 'zf-CXXC': 'brown',\n",
    " 'PHD_4': 'brown',\n",
    " 'SWIRM': 'brown',\n",
    " 'GATA': 'brown',\n",
    " 'zf-C3HC4_2': 'brown',\n",
    " 'ARID': 'brown',\n",
    " 'PLU-1': 'brown',\n",
    " 'WSD': 'brown',\n",
    " 'BRK': 'lightgray',\n",
    " 'ECH_1': 'lightgray',\n",
    " 'BET': 'lightgray',\n",
    " 'CHDNT': 'lightgray',\n",
    " 'CHDCT2': 'lightgray',\n",
    " 'F-box': 'lightgray',\n",
    " 'JHD': 'lightgray',\n",
    " 'BAH': 'lightgray',\n",
    " 'MTA_R1': 'lightgray',\n",
    " 'C1_1': 'lightgray',\n",
    " 'RAWUL': 'lightgray',\n",
    " 'PAS': 'lightgray',\n",
    " 'PAS_11': 'lightgray',\n",
    " 'Mtf2_C': 'lightgray',\n",
    " 'UCH': 'lightgray',\n",
    " 'DDT': 'lightgray',\n",
    " 'ELM2': 'lightgray',\n",
    " 'FATC': 'lightgray',\n",
    " 'zf-UBP': 'lightgray',\n",
    " 'zf-MYND': 'lightgray'}\n",
    "color_cats = [\n",
    "    (\"Writer of histone Me\", 'olive'),\n",
    "    (\"Eraser of histone Me\", 'green'),\n",
    "    (\"Reader of histone Me\", 'yellow'),\n",
    "    (\"Writer of histone Ac\", 'red'),\n",
    "    (\"Eraser of histone Ac\", 'plum'),\n",
    "    (\"Reader of histone Ac\", 'cadetblue'),\n",
    "    (\"Writer of (histone) Ph\", 'blue'),\n",
    "    (\"Chromarin remodelers\", 'pink'),\n",
    "    (\"DNA binding\", 'brown'),\n",
    "    ('Other', 'lightgray')\n",
    "]\n",
    "color_to_cat = {col:cat for cat,col in color_cats}\n",
    "\n"
   ]
  },
  {
   "cell_type": "code",
   "execution_count": 365,
   "id": "7c702227-12fa-4f64-b8f7-94b47d852158",
   "metadata": {
    "tags": []
   },
   "outputs": [
    {
     "data": {
      "application/vnd.plotly.v1+json": {
       "config": {
        "plotlyServerURL": "https://plot.ly"
       },
       "data": [
        {
         "marker": {
          "cmax": 1,
          "cmin": 0,
          "color": [
           0.625,
           0.625,
           0.5,
           0.625,
           0.5,
           1,
           0.2,
           0.2,
           0.6,
           0.6,
           0.2,
           0.6,
           0.4,
           0.6,
           0.6,
           0.4,
           0.2,
           1,
           0.4,
           0.4,
           1,
           1,
           0.6,
           0.037037037037037,
           0.074074074074074,
           0.037037037037037,
           0.1851851851851851,
           0.1111111111111111,
           0.1111111111111111,
           0.1111111111111111,
           0.1481481481481481,
           0.1111111111111111,
           0.074074074074074,
           0.074074074074074,
           0.1481481481481481,
           0.1851851851851851,
           0.074074074074074,
           0.074074074074074,
           1,
           1,
           1,
           1,
           1,
           1,
           1,
           1,
           1,
           1,
           1,
           1,
           1,
           1,
           1,
           1,
           1,
           1,
           1,
           1,
           1,
           1,
           1,
           1,
           1,
           1,
           0.0869565217391304,
           0.1304347826086956,
           0.1304347826086956,
           0.1739130434782608,
           0.0869565217391304,
           0.1304347826086956,
           0.391304347826087,
           0.391304347826087,
           0.1304347826086956,
           0.1304347826086956,
           0.1304347826086956,
           0.1304347826086956,
           1,
           1,
           1,
           1,
           1,
           1,
           1,
           1,
           1,
           1,
           1,
           1,
           1,
           0.5,
           0.3333333333333333,
           0.5,
           0.5,
           0.4285714285714285,
           0.4285714285714285,
           0.7142857142857143,
           0.7142857142857143,
           1,
           1,
           0.6666666666666666,
           1,
           1,
           1,
           1,
           0.5,
           0.5,
           1,
           1,
           1,
           1,
           0.5,
           0.5,
           1,
           0.6,
           0.4,
           0.6,
           0.6,
           1,
           0.5,
           0.5,
           1,
           1,
           0.0606060606060606,
           0.0303030303030303,
           0.1515151515151515,
           0.1212121212121212,
           0.0909090909090909,
           0.9696969696969696,
           0.2727272727272727,
           0.0909090909090909,
           0.0909090909090909,
           0.0909090909090909,
           0.0909090909090909,
           0.0909090909090909,
           0.2727272727272727,
           0.6,
           0.4,
           0.4,
           0.4,
           0.6,
           0.238095238095238,
           0.1904761904761904,
           0.238095238095238,
           0.4761904761904761,
           0.1428571428571428,
           0.1428571428571428,
           0.1428571428571428,
           0.1428571428571428,
           0.3333333333333333,
           1,
           0.5,
           0.4,
           0.5,
           0.3,
           0.3,
           0.3,
           0.4,
           1,
           0.4,
           0.6666666666666666,
           1,
           1,
           1,
           1,
           1,
           0.25,
           0.25,
           0.25,
           0.25,
           0.5,
           1,
           1,
           0.2121212121212121,
           0.1212121212121212,
           0.1212121212121212,
           0.1212121212121212,
           0.1212121212121212,
           0.1515151515151515,
           0.1212121212121212,
           0.1212121212121212,
           0.1212121212121212,
           0.0909090909090909,
           0.0909090909090909,
           0.1515151515151515,
           0.0606060606060606,
           0.0909090909090909,
           0.1212121212121212,
           0.0606060606060606,
           0.0606060606060606,
           0.0909090909090909,
           0.0909090909090909,
           0.0909090909090909,
           0.0909090909090909,
           0.0909090909090909,
           0.0909090909090909,
           0.0909090909090909,
           0.0909090909090909,
           0.0909090909090909,
           0.0909090909090909,
           0.375,
           0.375,
           0.375,
           0.375,
           1,
           0.625,
           0.375,
           1,
           1,
           0.6666666666666666,
           1,
           1,
           1,
           1,
           1,
           1,
           0.2307692307692307,
           0.3846153846153846,
           0.2307692307692307,
           0.2307692307692307,
           0.2307692307692307,
           0.2307692307692307,
           0.2307692307692307,
           0.1935483870967742,
           0.0967741935483871,
           1,
           0.5,
           1,
           0.2857142857142857,
           0.75,
           0.0285714285714285,
           0.1142857142857142,
           0.1142857142857142,
           0.1142857142857142,
           0.0571428571428571,
           0.0285714285714285,
           0.1428571428571428,
           0.0857142857142857,
           0.0571428571428571,
           0.0857142857142857,
           0.2,
           0.0857142857142857,
           0.0857142857142857,
           0.1428571428571428,
           0.0571428571428571,
           0.0625,
           0.03125,
           0.15625,
           0.125,
           0.09375,
           1,
           0.28125,
           0.09375,
           0.09375,
           0.09375,
           0.09375,
           0.6666666666666666,
           0.5,
           0.5,
           0.5,
           0.5,
           0.5,
           0.5,
           0.7142857142857143,
           1,
           0.75,
           1,
           0.3,
           0.5,
           0.1666666666666666,
           0.1666666666666666,
           1,
           0.8,
           1,
           1,
           0.8,
           0.3333333333333333,
           0.3333333333333333,
           0.3333333333333333,
           0.3333333333333333,
           0.5,
           0.5,
           0.3333333333333333,
           0.5,
           1,
           1,
           1,
           0.5,
           0.5,
           1,
           0.3,
           0.3,
           0.2,
           0.2,
           0.2,
           0.2,
           0.3,
           0.3,
           0.8,
           0.5,
           0.3,
           0.2,
           1,
           1,
           0.4,
           0.1666666666666666,
           0.8333333333333334
          ],
          "colorbar": {
           "len": 0.5
          },
          "colorscale": [
           [
            0,
            "rgb(247,251,255)"
           ],
           [
            0.125,
            "rgb(222,235,247)"
           ],
           [
            0.25,
            "rgb(198,219,239)"
           ],
           [
            0.375,
            "rgb(158,202,225)"
           ],
           [
            0.5,
            "rgb(107,174,214)"
           ],
           [
            0.625,
            "rgb(66,146,198)"
           ],
           [
            0.75,
            "rgb(33,113,181)"
           ],
           [
            0.875,
            "rgb(8,81,156)"
           ],
           [
            1,
            "rgb(8,48,107)"
           ]
          ],
          "line": {
           "color": "DarkSlateGrey",
           "width": 1
          },
          "showscale": true,
          "size": [
           39.12023005428146,
           39.12023005428146,
           36.88879454113936,
           39.12023005428146,
           36.88879454113936,
           39.12023005428146,
           23.02585092994046,
           23.02585092994046,
           34.011973816621555,
           34.011973816621555,
           23.02585092994046,
           34.011973816621555,
           29.957322735539908,
           34.011973816621555,
           34.011973816621555,
           29.957322735539908,
           23.02585092994046,
           36.88879454113936,
           29.957322735539908,
           29.957322735539908,
           39.12023005428146,
           39.12023005428146,
           34.011973816621555,
           23.02585092994046,
           29.957322735539908,
           23.02585092994046,
           39.12023005428146,
           34.011973816621555,
           34.011973816621555,
           34.011973816621555,
           36.88879454113936,
           34.011973816621555,
           29.957322735539908,
           29.957322735539908,
           36.88879454113936,
           39.12023005428146,
           29.957322735539908,
           29.957322735539908,
           34.011973816621555,
           34.011973816621555,
           34.011973816621555,
           34.011973816621555,
           34.011973816621555,
           34.011973816621555,
           34.011973816621555,
           34.011973816621555,
           34.011973816621555,
           34.011973816621555,
           34.011973816621555,
           34.011973816621555,
           34.011973816621555,
           34.011973816621555,
           34.011973816621555,
           34.011973816621555,
           34.011973816621555,
           34.011973816621555,
           34.011973816621555,
           34.011973816621555,
           34.011973816621555,
           34.011973816621555,
           34.011973816621555,
           34.011973816621555,
           34.011973816621555,
           34.011973816621555,
           29.957322735539908,
           34.011973816621555,
           34.011973816621555,
           36.88879454113936,
           29.957322735539908,
           34.011973816621555,
           44.99809670330265,
           44.99809670330265,
           34.011973816621555,
           34.011973816621555,
           34.011973816621555,
           34.011973816621555,
           34.011973816621555,
           34.011973816621555,
           34.011973816621555,
           34.011973816621555,
           34.011973816621555,
           34.011973816621555,
           34.011973816621555,
           34.011973816621555,
           34.011973816621555,
           34.011973816621555,
           34.011973816621555,
           34.011973816621555,
           36.88879454113936,
           34.011973816621555,
           29.957322735539908,
           34.011973816621555,
           34.011973816621555,
           34.011973816621555,
           34.011973816621555,
           39.12023005428146,
           39.12023005428146,
           34.011973816621555,
           34.011973816621555,
           29.957322735539908,
           34.011973816621555,
           36.88879454113936,
           36.88879454113936,
           36.88879454113936,
           29.957322735539908,
           29.957322735539908,
           36.88879454113936,
           36.88879454113936,
           36.88879454113936,
           36.88879454113936,
           29.957322735539908,
           29.957322735539908,
           36.88879454113936,
           34.011973816621555,
           29.957322735539908,
           34.011973816621555,
           34.011973816621555,
           34.011973816621555,
           29.957322735539908,
           29.957322735539908,
           36.88879454113936,
           36.88879454113936,
           29.957322735539908,
           23.02585092994046,
           39.12023005428146,
           36.88879454113936,
           34.011973816621555,
           57.68320995793772,
           44.99809670330265,
           34.011973816621555,
           34.011973816621555,
           34.011973816621555,
           34.011973816621555,
           23.02585092994046,
           34.011973816621555,
           34.011973816621555,
           29.957322735539908,
           29.957322735539908,
           29.957322735539908,
           34.011973816621555,
           39.12023005428146,
           36.88879454113936,
           39.12023005428146,
           46.05170185988092,
           34.011973816621555,
           34.011973816621555,
           34.011973816621555,
           34.011973816621555,
           42.48495242049359,
           46.05170185988092,
           39.12023005428146,
           36.88879454113936,
           39.12023005428146,
           34.011973816621555,
           34.011973816621555,
           34.011973816621555,
           36.88879454113936,
           39.12023005428146,
           29.957322735539908,
           29.957322735539908,
           34.011973816621555,
           34.011973816621555,
           34.011973816621555,
           34.011973816621555,
           34.011973816621555,
           29.957322735539908,
           29.957322735539908,
           29.957322735539908,
           29.957322735539908,
           36.88879454113936,
           34.011973816621555,
           34.011973816621555,
           42.48495242049359,
           36.88879454113936,
           36.88879454113936,
           36.88879454113936,
           36.88879454113936,
           39.12023005428146,
           36.88879454113936,
           36.88879454113936,
           36.88879454113936,
           34.011973816621555,
           34.011973816621555,
           39.12023005428146,
           29.957322735539908,
           34.011973816621555,
           36.88879454113936,
           29.957322735539908,
           29.957322735539908,
           34.011973816621555,
           34.011973816621555,
           34.011973816621555,
           34.011973816621555,
           34.011973816621555,
           34.011973816621555,
           34.011973816621555,
           34.011973816621555,
           34.011973816621555,
           34.011973816621555,
           34.011973816621555,
           34.011973816621555,
           34.011973816621555,
           34.011973816621555,
           43.82026634673881,
           39.12023005428146,
           34.011973816621555,
           34.011973816621555,
           34.011973816621555,
           29.957322735539908,
           34.011973816621555,
           36.88879454113936,
           36.88879454113936,
           36.88879454113936,
           36.88879454113936,
           36.88879454113936,
           34.011973816621555,
           39.12023005428146,
           34.011973816621555,
           34.011973816621555,
           34.011973816621555,
           34.011973816621555,
           34.011973816621555,
           40.943445622221006,
           34.011973816621555,
           40.943445622221006,
           34.011973816621555,
           42.48495242049359,
           29.957322735539908,
           34.011973816621555,
           23.02585092994046,
           36.88879454113936,
           36.88879454113936,
           36.88879454113936,
           29.957322735539908,
           23.02585092994046,
           39.12023005428146,
           34.011973816621555,
           29.957322735539908,
           34.011973816621555,
           42.48495242049359,
           34.011973816621555,
           34.011973816621555,
           39.12023005428146,
           29.957322735539908,
           29.957322735539908,
           23.02585092994046,
           39.12023005428146,
           36.88879454113936,
           34.011973816621555,
           57.68320995793772,
           44.99809670330265,
           34.011973816621555,
           34.011973816621555,
           34.011973816621555,
           34.011973816621555,
           36.88879454113936,
           34.011973816621555,
           34.011973816621555,
           34.011973816621555,
           34.011973816621555,
           34.011973816621555,
           34.011973816621555,
           39.12023005428146,
           36.88879454113936,
           34.011973816621555,
           36.88879454113936,
           34.011973816621555,
           34.011973816621555,
           23.02585092994046,
           23.02585092994046,
           39.12023005428146,
           36.88879454113936,
           39.12023005428146,
           39.12023005428146,
           36.88879454113936,
           29.957322735539908,
           29.957322735539908,
           29.957322735539908,
           29.957322735539908,
           34.011973816621555,
           34.011973816621555,
           29.957322735539908,
           34.011973816621555,
           36.88879454113936,
           36.88879454113936,
           36.88879454113936,
           29.957322735539908,
           29.957322735539908,
           36.88879454113936,
           34.011973816621555,
           34.011973816621555,
           29.957322735539908,
           29.957322735539908,
           29.957322735539908,
           29.957322735539908,
           34.011973816621555,
           34.011973816621555,
           43.82026634673881,
           39.12023005428146,
           34.011973816621555,
           29.957322735539908,
           34.011973816621555,
           39.12023005428146,
           29.957322735539908,
           23.02585092994046,
           39.12023005428146
          ],
          "sizemode": "area",
          "sizeref": 0.6
         },
         "mode": "markers",
         "text": [
          "0.62%, 5 proteins",
          "0.62%, 5 proteins",
          "0.50%, 4 proteins",
          "0.62%, 5 proteins",
          "0.50%, 4 proteins",
          "1.00%, 5 proteins",
          "0.20%, 1 proteins",
          "0.20%, 1 proteins",
          "0.60%, 3 proteins",
          "0.60%, 3 proteins",
          "0.20%, 1 proteins",
          "0.60%, 3 proteins",
          "0.40%, 2 proteins",
          "0.60%, 3 proteins",
          "0.60%, 3 proteins",
          "0.40%, 2 proteins",
          "0.20%, 1 proteins",
          "1.00%, 4 proteins",
          "0.40%, 2 proteins",
          "0.40%, 2 proteins",
          "1.00%, 5 proteins",
          "1.00%, 5 proteins",
          "0.60%, 3 proteins",
          "0.04%, 1 proteins",
          "0.07%, 2 proteins",
          "0.04%, 1 proteins",
          "0.19%, 5 proteins",
          "0.11%, 3 proteins",
          "0.11%, 3 proteins",
          "0.11%, 3 proteins",
          "0.15%, 4 proteins",
          "0.11%, 3 proteins",
          "0.07%, 2 proteins",
          "0.07%, 2 proteins",
          "0.15%, 4 proteins",
          "0.19%, 5 proteins",
          "0.07%, 2 proteins",
          "0.07%, 2 proteins",
          "1.00%, 3 proteins",
          "1.00%, 3 proteins",
          "1.00%, 3 proteins",
          "1.00%, 3 proteins",
          "1.00%, 3 proteins",
          "1.00%, 3 proteins",
          "1.00%, 3 proteins",
          "1.00%, 3 proteins",
          "1.00%, 3 proteins",
          "1.00%, 3 proteins",
          "1.00%, 3 proteins",
          "1.00%, 3 proteins",
          "1.00%, 3 proteins",
          "1.00%, 3 proteins",
          "1.00%, 3 proteins",
          "1.00%, 3 proteins",
          "1.00%, 3 proteins",
          "1.00%, 3 proteins",
          "1.00%, 3 proteins",
          "1.00%, 3 proteins",
          "1.00%, 3 proteins",
          "1.00%, 3 proteins",
          "1.00%, 3 proteins",
          "1.00%, 3 proteins",
          "1.00%, 3 proteins",
          "1.00%, 3 proteins",
          "0.09%, 2 proteins",
          "0.13%, 3 proteins",
          "0.13%, 3 proteins",
          "0.17%, 4 proteins",
          "0.09%, 2 proteins",
          "0.13%, 3 proteins",
          "0.39%, 9 proteins",
          "0.39%, 9 proteins",
          "0.13%, 3 proteins",
          "0.13%, 3 proteins",
          "0.13%, 3 proteins",
          "0.13%, 3 proteins",
          "1.00%, 3 proteins",
          "1.00%, 3 proteins",
          "1.00%, 3 proteins",
          "1.00%, 3 proteins",
          "1.00%, 3 proteins",
          "1.00%, 3 proteins",
          "1.00%, 3 proteins",
          "1.00%, 3 proteins",
          "1.00%, 3 proteins",
          "1.00%, 3 proteins",
          "1.00%, 3 proteins",
          "1.00%, 3 proteins",
          "1.00%, 4 proteins",
          "0.50%, 3 proteins",
          "0.33%, 2 proteins",
          "0.50%, 3 proteins",
          "0.50%, 3 proteins",
          "0.43%, 3 proteins",
          "0.43%, 3 proteins",
          "0.71%, 5 proteins",
          "0.71%, 5 proteins",
          "1.00%, 3 proteins",
          "1.00%, 3 proteins",
          "0.67%, 2 proteins",
          "1.00%, 3 proteins",
          "1.00%, 4 proteins",
          "1.00%, 4 proteins",
          "1.00%, 4 proteins",
          "0.50%, 2 proteins",
          "0.50%, 2 proteins",
          "1.00%, 4 proteins",
          "1.00%, 4 proteins",
          "1.00%, 4 proteins",
          "1.00%, 4 proteins",
          "0.50%, 2 proteins",
          "0.50%, 2 proteins",
          "1.00%, 4 proteins",
          "0.60%, 3 proteins",
          "0.40%, 2 proteins",
          "0.60%, 3 proteins",
          "0.60%, 3 proteins",
          "1.00%, 3 proteins",
          "0.50%, 2 proteins",
          "0.50%, 2 proteins",
          "1.00%, 4 proteins",
          "1.00%, 4 proteins",
          "0.06%, 2 proteins",
          "0.03%, 1 proteins",
          "0.15%, 5 proteins",
          "0.12%, 4 proteins",
          "0.09%, 3 proteins",
          "0.97%, 32 proteins",
          "0.27%, 9 proteins",
          "0.09%, 3 proteins",
          "0.09%, 3 proteins",
          "0.09%, 3 proteins",
          "0.09%, 3 proteins",
          "0.09%, 1 proteins",
          "0.27%, 3 proteins",
          "0.60%, 3 proteins",
          "0.40%, 2 proteins",
          "0.40%, 2 proteins",
          "0.40%, 2 proteins",
          "0.60%, 3 proteins",
          "0.24%, 5 proteins",
          "0.19%, 4 proteins",
          "0.24%, 5 proteins",
          "0.48%, 10 proteins",
          "0.14%, 3 proteins",
          "0.14%, 3 proteins",
          "0.14%, 3 proteins",
          "0.14%, 3 proteins",
          "0.33%, 7 proteins",
          "1.00%, 10 proteins",
          "0.50%, 5 proteins",
          "0.40%, 4 proteins",
          "0.50%, 5 proteins",
          "0.30%, 3 proteins",
          "0.30%, 3 proteins",
          "0.30%, 3 proteins",
          "0.40%, 4 proteins",
          "1.00%, 5 proteins",
          "0.40%, 2 proteins",
          "0.67%, 2 proteins",
          "1.00%, 3 proteins",
          "1.00%, 3 proteins",
          "1.00%, 3 proteins",
          "1.00%, 3 proteins",
          "1.00%, 3 proteins",
          "0.25%, 2 proteins",
          "0.25%, 2 proteins",
          "0.25%, 2 proteins",
          "0.25%, 2 proteins",
          "0.50%, 4 proteins",
          "1.00%, 3 proteins",
          "1.00%, 3 proteins",
          "0.21%, 7 proteins",
          "0.12%, 4 proteins",
          "0.12%, 4 proteins",
          "0.12%, 4 proteins",
          "0.12%, 4 proteins",
          "0.15%, 5 proteins",
          "0.12%, 4 proteins",
          "0.12%, 4 proteins",
          "0.12%, 4 proteins",
          "0.09%, 3 proteins",
          "0.09%, 3 proteins",
          "0.15%, 5 proteins",
          "0.06%, 2 proteins",
          "0.09%, 3 proteins",
          "0.12%, 4 proteins",
          "0.06%, 2 proteins",
          "0.06%, 2 proteins",
          "0.09%, 3 proteins",
          "0.09%, 3 proteins",
          "0.09%, 3 proteins",
          "0.09%, 3 proteins",
          "0.09%, 3 proteins",
          "0.09%, 3 proteins",
          "0.09%, 3 proteins",
          "0.09%, 3 proteins",
          "0.09%, 3 proteins",
          "0.09%, 3 proteins",
          "0.38%, 3 proteins",
          "0.38%, 3 proteins",
          "0.38%, 3 proteins",
          "0.38%, 3 proteins",
          "1.00%, 8 proteins",
          "0.62%, 5 proteins",
          "0.38%, 3 proteins",
          "1.00%, 3 proteins",
          "1.00%, 3 proteins",
          "0.67%, 2 proteins",
          "1.00%, 3 proteins",
          "1.00%, 4 proteins",
          "1.00%, 4 proteins",
          "1.00%, 4 proteins",
          "1.00%, 4 proteins",
          "1.00%, 4 proteins",
          "0.23%, 3 proteins",
          "0.38%, 5 proteins",
          "0.23%, 3 proteins",
          "0.23%, 3 proteins",
          "0.23%, 3 proteins",
          "0.23%, 3 proteins",
          "0.23%, 3 proteins",
          "0.19%, 6 proteins",
          "0.10%, 3 proteins",
          "1.00%, 6 proteins",
          "0.50%, 3 proteins",
          "1.00%, 7 proteins",
          "0.29%, 2 proteins",
          "0.75%, 3 proteins",
          "0.03%, 1 proteins",
          "0.11%, 4 proteins",
          "0.11%, 4 proteins",
          "0.11%, 4 proteins",
          "0.06%, 2 proteins",
          "0.03%, 1 proteins",
          "0.14%, 5 proteins",
          "0.09%, 3 proteins",
          "0.06%, 2 proteins",
          "0.09%, 3 proteins",
          "0.20%, 7 proteins",
          "0.09%, 3 proteins",
          "0.09%, 3 proteins",
          "0.14%, 5 proteins",
          "0.06%, 2 proteins",
          "0.06%, 2 proteins",
          "0.03%, 1 proteins",
          "0.16%, 5 proteins",
          "0.12%, 4 proteins",
          "0.09%, 3 proteins",
          "1.00%, 32 proteins",
          "0.28%, 9 proteins",
          "0.09%, 3 proteins",
          "0.09%, 3 proteins",
          "0.09%, 3 proteins",
          "0.09%, 3 proteins",
          "0.67%, 4 proteins",
          "0.50%, 3 proteins",
          "0.50%, 3 proteins",
          "0.50%, 3 proteins",
          "0.50%, 3 proteins",
          "0.50%, 3 proteins",
          "0.50%, 3 proteins",
          "0.71%, 5 proteins",
          "1.00%, 4 proteins",
          "0.75%, 3 proteins",
          "1.00%, 4 proteins",
          "0.30%, 3 proteins",
          "0.50%, 3 proteins",
          "0.17%, 1 proteins",
          "0.17%, 1 proteins",
          "1.00%, 5 proteins",
          "0.80%, 4 proteins",
          "1.00%, 5 proteins",
          "1.00%, 5 proteins",
          "0.80%, 4 proteins",
          "0.33%, 2 proteins",
          "0.33%, 2 proteins",
          "0.33%, 2 proteins",
          "0.33%, 2 proteins",
          "0.50%, 3 proteins",
          "0.50%, 3 proteins",
          "0.33%, 2 proteins",
          "0.50%, 3 proteins",
          "1.00%, 4 proteins",
          "1.00%, 4 proteins",
          "1.00%, 4 proteins",
          "0.50%, 2 proteins",
          "0.50%, 2 proteins",
          "1.00%, 4 proteins",
          "0.30%, 3 proteins",
          "0.30%, 3 proteins",
          "0.20%, 2 proteins",
          "0.20%, 2 proteins",
          "0.20%, 2 proteins",
          "0.20%, 2 proteins",
          "0.30%, 3 proteins",
          "0.30%, 3 proteins",
          "0.80%, 8 proteins",
          "0.50%, 5 proteins",
          "0.30%, 3 proteins",
          "0.20%, 2 proteins",
          "1.00%, 3 proteins",
          "1.00%, 5 proteins",
          "0.40%, 2 proteins",
          "0.17%, 1 proteins",
          "0.83%, 5 proteins"
         ],
         "type": "scatter",
         "x": [
          0,
          1,
          2,
          4,
          54,
          5,
          8,
          18,
          20,
          39,
          5,
          6,
          7,
          9,
          10,
          18,
          19,
          18,
          18,
          45,
          55,
          56,
          57,
          5,
          8,
          19,
          20,
          21,
          22,
          23,
          27,
          36,
          40,
          45,
          50,
          54,
          55,
          56,
          25,
          26,
          5,
          19,
          20,
          54,
          55,
          56,
          57,
          58,
          59,
          61,
          54,
          55,
          56,
          57,
          58,
          59,
          60,
          54,
          55,
          56,
          57,
          58,
          60,
          61,
          5,
          40,
          47,
          48,
          49,
          54,
          55,
          56,
          58,
          59,
          60,
          61,
          57,
          18,
          27,
          54,
          54,
          54,
          55,
          56,
          57,
          59,
          60,
          61,
          57,
          6,
          7,
          8,
          10,
          18,
          20,
          21,
          22,
          14,
          15,
          17,
          31,
          5,
          11,
          13,
          14,
          21,
          54,
          5,
          11,
          12,
          14,
          21,
          54,
          6,
          7,
          8,
          9,
          28,
          18,
          40,
          55,
          56,
          18,
          37,
          40,
          45,
          54,
          56,
          57,
          58,
          59,
          60,
          61,
          38,
          46,
          0,
          14,
          15,
          16,
          54,
          1,
          2,
          3,
          4,
          17,
          21,
          22,
          24,
          54,
          0,
          1,
          2,
          3,
          21,
          22,
          24,
          54,
          29,
          54,
          7,
          8,
          9,
          10,
          24,
          54,
          6,
          8,
          9,
          10,
          43,
          32,
          33,
          0,
          1,
          2,
          3,
          4,
          5,
          11,
          12,
          13,
          14,
          17,
          18,
          21,
          24,
          27,
          29,
          30,
          36,
          42,
          51,
          55,
          56,
          57,
          58,
          59,
          60,
          61,
          0,
          4,
          18,
          20,
          21,
          23,
          24,
          14,
          16,
          17,
          34,
          0,
          1,
          3,
          4,
          54,
          5,
          18,
          19,
          21,
          22,
          23,
          39,
          26,
          41,
          25,
          41,
          5,
          57,
          37,
          8,
          11,
          12,
          13,
          14,
          18,
          19,
          20,
          21,
          39,
          49,
          52,
          53,
          54,
          57,
          18,
          37,
          40,
          45,
          54,
          55,
          57,
          58,
          59,
          60,
          61,
          7,
          0,
          4,
          21,
          22,
          42,
          54,
          38,
          18,
          36,
          54,
          5,
          44,
          55,
          56,
          0,
          2,
          3,
          4,
          54,
          5,
          11,
          12,
          13,
          15,
          16,
          17,
          54,
          5,
          12,
          13,
          14,
          21,
          54,
          0,
          4,
          5,
          11,
          12,
          13,
          18,
          20,
          22,
          23,
          24,
          54,
          5,
          30,
          54,
          28,
          35
         ],
         "y": [
          0,
          0,
          0,
          0,
          0,
          1,
          1,
          1,
          1,
          1,
          2,
          2,
          2,
          2,
          2,
          2,
          2,
          3,
          4,
          4,
          4,
          4,
          4,
          5,
          5,
          5,
          5,
          5,
          5,
          5,
          5,
          5,
          5,
          5,
          5,
          5,
          5,
          5,
          6,
          6,
          7,
          7,
          7,
          8,
          8,
          8,
          8,
          8,
          8,
          8,
          9,
          9,
          9,
          9,
          9,
          9,
          9,
          10,
          10,
          10,
          10,
          10,
          10,
          10,
          11,
          11,
          11,
          11,
          11,
          11,
          11,
          11,
          11,
          11,
          11,
          11,
          12,
          13,
          13,
          13,
          14,
          15,
          15,
          15,
          15,
          15,
          15,
          15,
          16,
          17,
          17,
          17,
          17,
          18,
          18,
          18,
          18,
          19,
          19,
          19,
          20,
          21,
          21,
          21,
          21,
          21,
          21,
          22,
          22,
          22,
          22,
          22,
          22,
          23,
          23,
          23,
          23,
          24,
          25,
          25,
          25,
          25,
          26,
          26,
          26,
          26,
          26,
          26,
          26,
          26,
          26,
          26,
          26,
          27,
          27,
          28,
          28,
          28,
          28,
          28,
          29,
          29,
          29,
          29,
          29,
          29,
          29,
          29,
          29,
          30,
          30,
          30,
          30,
          30,
          30,
          30,
          30,
          31,
          31,
          32,
          32,
          32,
          32,
          33,
          33,
          34,
          34,
          34,
          34,
          34,
          35,
          36,
          37,
          37,
          37,
          37,
          37,
          37,
          37,
          37,
          37,
          37,
          37,
          37,
          37,
          37,
          37,
          37,
          37,
          37,
          37,
          37,
          37,
          37,
          37,
          37,
          37,
          37,
          37,
          38,
          38,
          38,
          38,
          38,
          38,
          38,
          39,
          39,
          39,
          40,
          41,
          41,
          41,
          41,
          41,
          42,
          42,
          42,
          42,
          42,
          42,
          42,
          43,
          43,
          44,
          44,
          45,
          45,
          46,
          47,
          47,
          47,
          47,
          47,
          47,
          47,
          47,
          47,
          47,
          47,
          47,
          47,
          47,
          47,
          48,
          48,
          48,
          48,
          48,
          48,
          48,
          48,
          48,
          48,
          48,
          49,
          50,
          50,
          50,
          50,
          50,
          50,
          51,
          52,
          52,
          52,
          53,
          54,
          54,
          54,
          55,
          55,
          55,
          55,
          55,
          56,
          56,
          56,
          56,
          56,
          56,
          56,
          56,
          57,
          57,
          57,
          57,
          57,
          57,
          58,
          58,
          58,
          58,
          58,
          58,
          58,
          58,
          58,
          58,
          58,
          58,
          59,
          60,
          60,
          61,
          61
         ]
        }
       ],
       "layout": {
        "annotations": [
         {
          "align": "right",
          "bgcolor": "rgba(165.0, 42.0, 42.0, 0.5)",
          "borderpad": 0,
          "borderwidth": 0,
          "font": {
           "color": "black",
           "size": 11
          },
          "height": 13,
          "hovertext": "ARID<br>DNA binding",
          "name": "lol",
          "opacity": 1,
          "showarrow": false,
          "text": "ARID",
          "textangle": 0,
          "valign": "middle",
          "width": 100,
          "x": -0.5,
          "xanchor": "right",
          "y": 0.5,
          "yanchor": "bottom"
         },
         {
          "align": "right",
          "bgcolor": "rgba(165.0, 42.0, 42.0, 0.5)",
          "borderpad": 0,
          "borderwidth": 0,
          "font": {
           "color": "black",
           "size": 11
          },
          "height": 13,
          "hovertext": "AWS<br>DNA binding",
          "name": "lol",
          "opacity": 1,
          "showarrow": false,
          "text": "AWS",
          "textangle": 0,
          "valign": "middle",
          "width": 100,
          "x": -0.5,
          "xanchor": "right",
          "y": 1.5,
          "yanchor": "bottom"
         },
         {
          "align": "right",
          "bgcolor": "rgba(211.0, 211.0, 211.0, 0.5)",
          "borderpad": 0,
          "borderwidth": 0,
          "font": {
           "color": "black",
           "size": 11
          },
          "height": 13,
          "hovertext": "BAH<br>Other",
          "name": "lol",
          "opacity": 1,
          "showarrow": false,
          "text": "BAH",
          "textangle": 0,
          "valign": "middle",
          "width": 100,
          "x": -0.5,
          "xanchor": "right",
          "y": 2.5,
          "yanchor": "bottom"
         },
         {
          "align": "right",
          "bgcolor": "rgba(211.0, 211.0, 211.0, 0.5)",
          "borderpad": 0,
          "borderwidth": 0,
          "font": {
           "color": "black",
           "size": 11
          },
          "height": 13,
          "hovertext": "BET<br>Other",
          "name": "lol",
          "opacity": 1,
          "showarrow": false,
          "text": "BET",
          "textangle": 0,
          "valign": "middle",
          "width": 100,
          "x": -0.5,
          "xanchor": "right",
          "y": 3.5,
          "yanchor": "bottom"
         },
         {
          "align": "right",
          "bgcolor": "rgba(211.0, 211.0, 211.0, 0.5)",
          "borderpad": 0,
          "borderwidth": 0,
          "font": {
           "color": "black",
           "size": 11
          },
          "height": 13,
          "hovertext": "BRK<br>Other",
          "name": "lol",
          "opacity": 1,
          "showarrow": false,
          "text": "BRK",
          "textangle": 0,
          "valign": "middle",
          "width": 100,
          "x": -0.5,
          "xanchor": "right",
          "y": 4.5,
          "yanchor": "bottom"
         },
         {
          "align": "right",
          "bgcolor": "rgba(255.0, 0.0, 0.0, 0.5)",
          "borderpad": 0,
          "borderwidth": 0,
          "font": {
           "color": "black",
           "size": 11
          },
          "height": 13,
          "hovertext": "Bromodomain<br>Writer of histone Ac",
          "name": "lol",
          "opacity": 1,
          "showarrow": false,
          "text": "Bromodomain",
          "textangle": 0,
          "valign": "middle",
          "width": 100,
          "x": -0.5,
          "xanchor": "right",
          "y": 5.5,
          "yanchor": "bottom"
         },
         {
          "align": "right",
          "bgcolor": "rgba(211.0, 211.0, 211.0, 0.5)",
          "borderpad": 0,
          "borderwidth": 0,
          "font": {
           "color": "black",
           "size": 11
          },
          "height": 13,
          "hovertext": "C1_1<br>Other",
          "name": "lol",
          "opacity": 1,
          "showarrow": false,
          "text": "C1_1",
          "textangle": 0,
          "valign": "middle",
          "width": 100,
          "x": -0.5,
          "xanchor": "right",
          "y": 6.5,
          "yanchor": "bottom"
         },
         {
          "align": "right",
          "bgcolor": "rgba(255.0, 255.0, 0.0, 0.5)",
          "borderpad": 0,
          "borderwidth": 0,
          "font": {
           "color": "black",
           "size": 11
          },
          "height": 13,
          "hovertext": "C5HCH<br>Reader of histone Me",
          "name": "lol",
          "opacity": 1,
          "showarrow": false,
          "text": "C5HCH",
          "textangle": 0,
          "valign": "middle",
          "width": 100,
          "x": -0.5,
          "xanchor": "right",
          "y": 7.5,
          "yanchor": "bottom"
         },
         {
          "align": "right",
          "bgcolor": "rgba(211.0, 211.0, 211.0, 0.5)",
          "borderpad": 0,
          "borderwidth": 0,
          "font": {
           "color": "black",
           "size": 11
          },
          "height": 13,
          "hovertext": "CHDCT2<br>Other",
          "name": "lol",
          "opacity": 1,
          "showarrow": false,
          "text": "CHDCT2",
          "textangle": 0,
          "valign": "middle",
          "width": 100,
          "x": -0.5,
          "xanchor": "right",
          "y": 8.5,
          "yanchor": "bottom"
         },
         {
          "align": "right",
          "bgcolor": "rgba(255.0, 192.0, 203.0, 0.5)",
          "borderpad": 0,
          "borderwidth": 0,
          "font": {
           "color": "black",
           "size": 11
          },
          "height": 13,
          "hovertext": "CHDII_SANT-like<br>Chromarin remodelers",
          "name": "lol",
          "opacity": 1,
          "showarrow": false,
          "text": "CHDII_SANT-like",
          "textangle": 0,
          "valign": "middle",
          "width": 100,
          "x": -0.5,
          "xanchor": "right",
          "y": 9.5,
          "yanchor": "bottom"
         },
         {
          "align": "right",
          "bgcolor": "rgba(211.0, 211.0, 211.0, 0.5)",
          "borderpad": 0,
          "borderwidth": 0,
          "font": {
           "color": "black",
           "size": 11
          },
          "height": 13,
          "hovertext": "CHDNT<br>Other",
          "name": "lol",
          "opacity": 1,
          "showarrow": false,
          "text": "CHDNT",
          "textangle": 0,
          "valign": "middle",
          "width": 100,
          "x": -0.5,
          "xanchor": "right",
          "y": 10.5,
          "yanchor": "bottom"
         },
         {
          "align": "right",
          "bgcolor": "rgba(255.0, 255.0, 0.0, 0.5)",
          "borderpad": 0,
          "borderwidth": 0,
          "font": {
           "color": "black",
           "size": 11
          },
          "height": 13,
          "hovertext": "Chromo<br>Reader of histone Me",
          "name": "lol",
          "opacity": 1,
          "showarrow": false,
          "text": "Chromo",
          "textangle": 0,
          "valign": "middle",
          "width": 100,
          "x": -0.5,
          "xanchor": "right",
          "y": 11.5,
          "yanchor": "bottom"
         },
         {
          "align": "right",
          "bgcolor": "rgba(255.0, 192.0, 203.0, 0.5)",
          "borderpad": 0,
          "borderwidth": 0,
          "font": {
           "color": "black",
           "size": 11
          },
          "height": 13,
          "hovertext": "Chromo_shadow<br>Chromarin remodelers",
          "name": "lol",
          "opacity": 1,
          "showarrow": false,
          "text": "Chromo_shadow",
          "textangle": 0,
          "valign": "middle",
          "width": 100,
          "x": -0.5,
          "xanchor": "right",
          "y": 12.5,
          "yanchor": "bottom"
         },
         {
          "align": "right",
          "bgcolor": "rgba(211.0, 211.0, 211.0, 0.5)",
          "borderpad": 0,
          "borderwidth": 0,
          "font": {
           "color": "black",
           "size": 11
          },
          "height": 13,
          "hovertext": "DDT<br>Other",
          "name": "lol",
          "opacity": 1,
          "showarrow": false,
          "text": "DDT",
          "textangle": 0,
          "valign": "middle",
          "width": 100,
          "x": -0.5,
          "xanchor": "right",
          "y": 13.5,
          "yanchor": "bottom"
         },
         {
          "align": "right",
          "bgcolor": "rgba(255.0, 192.0, 203.0, 0.5)",
          "borderpad": 0,
          "borderwidth": 0,
          "font": {
           "color": "black",
           "size": 11
          },
          "height": 13,
          "hovertext": "DPF1-3_N<br>Chromarin remodelers",
          "name": "lol",
          "opacity": 1,
          "showarrow": false,
          "text": "DPF1-3_N",
          "textangle": 0,
          "valign": "middle",
          "width": 100,
          "x": -0.5,
          "xanchor": "right",
          "y": 14.5,
          "yanchor": "bottom"
         },
         {
          "align": "right",
          "bgcolor": "rgba(255.0, 192.0, 203.0, 0.5)",
          "borderpad": 0,
          "borderwidth": 0,
          "font": {
           "color": "black",
           "size": 11
          },
          "height": 13,
          "hovertext": "DUF1087<br>Chromarin remodelers",
          "name": "lol",
          "opacity": 1,
          "showarrow": false,
          "text": "DUF1087",
          "textangle": 0,
          "valign": "middle",
          "width": 100,
          "x": -0.5,
          "xanchor": "right",
          "y": 15.5,
          "yanchor": "bottom"
         },
         {
          "align": "right",
          "bgcolor": "rgba(211.0, 211.0, 211.0, 0.5)",
          "borderpad": 0,
          "borderwidth": 0,
          "font": {
           "color": "black",
           "size": 11
          },
          "height": 13,
          "hovertext": "ECH_1<br>Other",
          "name": "lol",
          "opacity": 1,
          "showarrow": false,
          "text": "ECH_1",
          "textangle": 0,
          "valign": "middle",
          "width": 100,
          "x": -0.5,
          "xanchor": "right",
          "y": 16.5,
          "yanchor": "bottom"
         },
         {
          "align": "right",
          "bgcolor": "rgba(211.0, 211.0, 211.0, 0.5)",
          "borderpad": 0,
          "borderwidth": 0,
          "font": {
           "color": "black",
           "size": 11
          },
          "height": 13,
          "hovertext": "ELM2<br>Other",
          "name": "lol",
          "opacity": 1,
          "showarrow": false,
          "text": "ELM2",
          "textangle": 0,
          "valign": "middle",
          "width": 100,
          "x": -0.5,
          "xanchor": "right",
          "y": 17.5,
          "yanchor": "bottom"
         },
         {
          "align": "right",
          "bgcolor": "rgba(221.0, 160.0, 221.0, 0.5)",
          "borderpad": 0,
          "borderwidth": 0,
          "font": {
           "color": "black",
           "size": 11
          },
          "height": 13,
          "hovertext": "EPL1<br>Eraser of histone Ac",
          "name": "lol",
          "opacity": 1,
          "showarrow": false,
          "text": "EPL1",
          "textangle": 0,
          "valign": "middle",
          "width": 100,
          "x": -0.5,
          "xanchor": "right",
          "y": 18.5,
          "yanchor": "bottom"
         },
         {
          "align": "right",
          "bgcolor": "rgba(211.0, 211.0, 211.0, 0.5)",
          "borderpad": 0,
          "borderwidth": 0,
          "font": {
           "color": "black",
           "size": 11
          },
          "height": 13,
          "hovertext": "F-box<br>Other",
          "name": "lol",
          "opacity": 1,
          "showarrow": false,
          "text": "F-box",
          "textangle": 0,
          "valign": "middle",
          "width": 100,
          "x": -0.5,
          "xanchor": "right",
          "y": 19.5,
          "yanchor": "bottom"
         },
         {
          "align": "right",
          "bgcolor": "rgba(211.0, 211.0, 211.0, 0.5)",
          "borderpad": 0,
          "borderwidth": 0,
          "font": {
           "color": "black",
           "size": 11
          },
          "height": 13,
          "hovertext": "FATC<br>Other",
          "name": "lol",
          "opacity": 1,
          "showarrow": false,
          "text": "FATC",
          "textangle": 0,
          "valign": "middle",
          "width": 100,
          "x": -0.5,
          "xanchor": "right",
          "y": 20.5,
          "yanchor": "bottom"
         },
         {
          "align": "right",
          "bgcolor": "rgba(128.0, 128.0, 0.0, 0.5)",
          "borderpad": 0,
          "borderwidth": 0,
          "font": {
           "color": "black",
           "size": 11
          },
          "height": 13,
          "hovertext": "FYRC<br>Writer of histone Me",
          "name": "lol",
          "opacity": 1,
          "showarrow": false,
          "text": "FYRC",
          "textangle": 0,
          "valign": "middle",
          "width": 100,
          "x": -0.5,
          "xanchor": "right",
          "y": 21.5,
          "yanchor": "bottom"
         },
         {
          "align": "right",
          "bgcolor": "rgba(128.0, 128.0, 0.0, 0.5)",
          "borderpad": 0,
          "borderwidth": 0,
          "font": {
           "color": "black",
           "size": 11
          },
          "height": 13,
          "hovertext": "FYRN<br>Writer of histone Me",
          "name": "lol",
          "opacity": 1,
          "showarrow": false,
          "text": "FYRN",
          "textangle": 0,
          "valign": "middle",
          "width": 100,
          "x": -0.5,
          "xanchor": "right",
          "y": 22.5,
          "yanchor": "bottom"
         },
         {
          "align": "right",
          "bgcolor": "rgba(165.0, 42.0, 42.0, 0.5)",
          "borderpad": 0,
          "borderwidth": 0,
          "font": {
           "color": "black",
           "size": 11
          },
          "height": 13,
          "hovertext": "GATA<br>DNA binding",
          "name": "lol",
          "opacity": 1,
          "showarrow": false,
          "text": "GATA",
          "textangle": 0,
          "valign": "middle",
          "width": 100,
          "x": -0.5,
          "xanchor": "right",
          "y": 23.5,
          "yanchor": "bottom"
         },
         {
          "align": "right",
          "bgcolor": "rgba(95.0, 158.0, 160.0, 0.5)",
          "borderpad": 0,
          "borderwidth": 0,
          "font": {
           "color": "black",
           "size": 11
          },
          "height": 13,
          "hovertext": "HDAC4_Gln<br>Reader of histone Ac",
          "name": "lol",
          "opacity": 1,
          "showarrow": false,
          "text": "HDAC4_Gln",
          "textangle": 0,
          "valign": "middle",
          "width": 100,
          "x": -0.5,
          "xanchor": "right",
          "y": 24.5,
          "yanchor": "bottom"
         },
         {
          "align": "right",
          "bgcolor": "rgba(255.0, 192.0, 203.0, 0.5)",
          "borderpad": 0,
          "borderwidth": 0,
          "font": {
           "color": "black",
           "size": 11
          },
          "height": 13,
          "hovertext": "HSA<br>Chromarin remodelers",
          "name": "lol",
          "opacity": 1,
          "showarrow": false,
          "text": "HSA",
          "textangle": 0,
          "valign": "middle",
          "width": 100,
          "x": -0.5,
          "xanchor": "right",
          "y": 25.5,
          "yanchor": "bottom"
         },
         {
          "align": "right",
          "bgcolor": "rgba(255.0, 192.0, 203.0, 0.5)",
          "borderpad": 0,
          "borderwidth": 0,
          "font": {
           "color": "black",
           "size": 11
          },
          "height": 13,
          "hovertext": "Helicase_C<br>Chromarin remodelers",
          "name": "lol",
          "opacity": 1,
          "showarrow": false,
          "text": "Helicase_C",
          "textangle": 0,
          "valign": "middle",
          "width": 100,
          "x": -0.5,
          "xanchor": "right",
          "y": 26.5,
          "yanchor": "bottom"
         },
         {
          "align": "right",
          "bgcolor": "rgba(95.0, 158.0, 160.0, 0.5)",
          "borderpad": 0,
          "borderwidth": 0,
          "font": {
           "color": "black",
           "size": 11
          },
          "height": 13,
          "hovertext": "Hist_deacetyl<br>Reader of histone Ac",
          "name": "lol",
          "opacity": 1,
          "showarrow": false,
          "text": "Hist_deacetyl",
          "textangle": 0,
          "valign": "middle",
          "width": 100,
          "x": -0.5,
          "xanchor": "right",
          "y": 27.5,
          "yanchor": "bottom"
         },
         {
          "align": "right",
          "bgcolor": "rgba(211.0, 211.0, 211.0, 0.5)",
          "borderpad": 0,
          "borderwidth": 0,
          "font": {
           "color": "black",
           "size": 11
          },
          "height": 13,
          "hovertext": "JHD<br>Other",
          "name": "lol",
          "opacity": 1,
          "showarrow": false,
          "text": "JHD",
          "textangle": 0,
          "valign": "middle",
          "width": 100,
          "x": -0.5,
          "xanchor": "right",
          "y": 28.5,
          "yanchor": "bottom"
         },
         {
          "align": "right",
          "bgcolor": "rgba(0.0, 128.0, 0.0, 0.5)",
          "borderpad": 0,
          "borderwidth": 0,
          "font": {
           "color": "black",
           "size": 11
          },
          "height": 13,
          "hovertext": "JmjC<br>Eraser of histone Me",
          "name": "lol",
          "opacity": 1,
          "showarrow": false,
          "text": "JmjC",
          "textangle": 0,
          "valign": "middle",
          "width": 100,
          "x": -0.5,
          "xanchor": "right",
          "y": 29.5,
          "yanchor": "bottom"
         },
         {
          "align": "right",
          "bgcolor": "rgba(0.0, 128.0, 0.0, 0.5)",
          "borderpad": 0,
          "borderwidth": 0,
          "font": {
           "color": "black",
           "size": 11
          },
          "height": 13,
          "hovertext": "JmjN<br>Eraser of histone Me",
          "name": "lol",
          "opacity": 1,
          "showarrow": false,
          "text": "JmjN",
          "textangle": 0,
          "valign": "middle",
          "width": 100,
          "x": -0.5,
          "xanchor": "right",
          "y": 30.5,
          "yanchor": "bottom"
         },
         {
          "align": "right",
          "bgcolor": "rgba(221.0, 160.0, 221.0, 0.5)",
          "borderpad": 0,
          "borderwidth": 0,
          "font": {
           "color": "black",
           "size": 11
          },
          "height": 13,
          "hovertext": "MOZ_SAS<br>Eraser of histone Ac",
          "name": "lol",
          "opacity": 1,
          "showarrow": false,
          "text": "MOZ_SAS",
          "textangle": 0,
          "valign": "middle",
          "width": 100,
          "x": -0.5,
          "xanchor": "right",
          "y": 31.5,
          "yanchor": "bottom"
         },
         {
          "align": "right",
          "bgcolor": "rgba(211.0, 211.0, 211.0, 0.5)",
          "borderpad": 0,
          "borderwidth": 0,
          "font": {
           "color": "black",
           "size": 11
          },
          "height": 13,
          "hovertext": "MTA_R1<br>Other",
          "name": "lol",
          "opacity": 1,
          "showarrow": false,
          "text": "MTA_R1",
          "textangle": 0,
          "valign": "middle",
          "width": 100,
          "x": -0.5,
          "xanchor": "right",
          "y": 32.5,
          "yanchor": "bottom"
         },
         {
          "align": "right",
          "bgcolor": "rgba(211.0, 211.0, 211.0, 0.5)",
          "borderpad": 0,
          "borderwidth": 0,
          "font": {
           "color": "black",
           "size": 11
          },
          "height": 13,
          "hovertext": "Mtf2_C<br>Other",
          "name": "lol",
          "opacity": 1,
          "showarrow": false,
          "text": "Mtf2_C",
          "textangle": 0,
          "valign": "middle",
          "width": 100,
          "x": -0.5,
          "xanchor": "right",
          "y": 33.5,
          "yanchor": "bottom"
         },
         {
          "align": "right",
          "bgcolor": "rgba(165.0, 42.0, 42.0, 0.5)",
          "borderpad": 0,
          "borderwidth": 0,
          "font": {
           "color": "black",
           "size": 11
          },
          "height": 13,
          "hovertext": "Myb_DNA-binding<br>DNA binding",
          "name": "lol",
          "opacity": 1,
          "showarrow": false,
          "text": "Myb_DNA-binding",
          "textangle": 0,
          "valign": "middle",
          "width": 100,
          "x": -0.5,
          "xanchor": "right",
          "y": 34.5,
          "yanchor": "bottom"
         },
         {
          "align": "right",
          "bgcolor": "rgba(211.0, 211.0, 211.0, 0.5)",
          "borderpad": 0,
          "borderwidth": 0,
          "font": {
           "color": "black",
           "size": 11
          },
          "height": 13,
          "hovertext": "PAS<br>Other",
          "name": "lol",
          "opacity": 1,
          "showarrow": false,
          "text": "PAS",
          "textangle": 0,
          "valign": "middle",
          "width": 100,
          "x": -0.5,
          "xanchor": "right",
          "y": 35.5,
          "yanchor": "bottom"
         },
         {
          "align": "right",
          "bgcolor": "rgba(211.0, 211.0, 211.0, 0.5)",
          "borderpad": 0,
          "borderwidth": 0,
          "font": {
           "color": "black",
           "size": 11
          },
          "height": 13,
          "hovertext": "PAS_11<br>Other",
          "name": "lol",
          "opacity": 1,
          "showarrow": false,
          "text": "PAS_11",
          "textangle": 0,
          "valign": "middle",
          "width": 100,
          "x": -0.5,
          "xanchor": "right",
          "y": 36.5,
          "yanchor": "bottom"
         },
         {
          "align": "right",
          "bgcolor": "rgba(255.0, 255.0, 0.0, 0.5)",
          "borderpad": 0,
          "borderwidth": 0,
          "font": {
           "color": "black",
           "size": 11
          },
          "height": 13,
          "hovertext": "PHD<br>Reader of histone Me",
          "name": "lol",
          "opacity": 1,
          "showarrow": false,
          "text": "PHD",
          "textangle": 0,
          "valign": "middle",
          "width": 100,
          "x": -0.5,
          "xanchor": "right",
          "y": 37.5,
          "yanchor": "bottom"
         },
         {
          "align": "right",
          "bgcolor": "rgba(255.0, 255.0, 0.0, 0.5)",
          "borderpad": 0,
          "borderwidth": 0,
          "font": {
           "color": "black",
           "size": 11
          },
          "height": 13,
          "hovertext": "PHD_2<br>Reader of histone Me",
          "name": "lol",
          "opacity": 1,
          "showarrow": false,
          "text": "PHD_2",
          "textangle": 0,
          "valign": "middle",
          "width": 100,
          "x": -0.5,
          "xanchor": "right",
          "y": 38.5,
          "yanchor": "bottom"
         },
         {
          "align": "right",
          "bgcolor": "rgba(165.0, 42.0, 42.0, 0.5)",
          "borderpad": 0,
          "borderwidth": 0,
          "font": {
           "color": "black",
           "size": 11
          },
          "height": 13,
          "hovertext": "PHD_4<br>DNA binding",
          "name": "lol",
          "opacity": 1,
          "showarrow": false,
          "text": "PHD_4",
          "textangle": 0,
          "valign": "middle",
          "width": 100,
          "x": -0.5,
          "xanchor": "right",
          "y": 39.5,
          "yanchor": "bottom"
         },
         {
          "align": "right",
          "bgcolor": "rgba(0.0, 0.0, 255.0, 0.5)",
          "borderpad": 0,
          "borderwidth": 0,
          "font": {
           "color": "black",
           "size": 11
          },
          "height": 13,
          "hovertext": "PI3_PI4_kinase<br>Writer of (histone) Ph",
          "name": "lol",
          "opacity": 1,
          "showarrow": false,
          "text": "PI3_PI4_kinase",
          "textangle": 0,
          "valign": "middle",
          "width": 100,
          "x": -0.5,
          "xanchor": "right",
          "y": 40.5,
          "yanchor": "bottom"
         },
         {
          "align": "right",
          "bgcolor": "rgba(165.0, 42.0, 42.0, 0.5)",
          "borderpad": 0,
          "borderwidth": 0,
          "font": {
           "color": "black",
           "size": 11
          },
          "height": 13,
          "hovertext": "PLU-1<br>DNA binding",
          "name": "lol",
          "opacity": 1,
          "showarrow": false,
          "text": "PLU-1",
          "textangle": 0,
          "valign": "middle",
          "width": 100,
          "x": -0.5,
          "xanchor": "right",
          "y": 41.5,
          "yanchor": "bottom"
         },
         {
          "align": "right",
          "bgcolor": "rgba(255.0, 255.0, 0.0, 0.5)",
          "borderpad": 0,
          "borderwidth": 0,
          "font": {
           "color": "black",
           "size": 11
          },
          "height": 13,
          "hovertext": "PWWP<br>Reader of histone Me",
          "name": "lol",
          "opacity": 1,
          "showarrow": false,
          "text": "PWWP",
          "textangle": 0,
          "valign": "middle",
          "width": 100,
          "x": -0.5,
          "xanchor": "right",
          "y": 42.5,
          "yanchor": "bottom"
         },
         {
          "align": "right",
          "bgcolor": "rgba(0.0, 0.0, 255.0, 0.5)",
          "borderpad": 0,
          "borderwidth": 0,
          "font": {
           "color": "black",
           "size": 11
          },
          "height": 13,
          "hovertext": "Pkinase<br>Writer of (histone) Ph",
          "name": "lol",
          "opacity": 1,
          "showarrow": false,
          "text": "Pkinase",
          "textangle": 0,
          "valign": "middle",
          "width": 100,
          "x": -0.5,
          "xanchor": "right",
          "y": 43.5,
          "yanchor": "bottom"
         },
         {
          "align": "right",
          "bgcolor": "rgba(0.0, 0.0, 255.0, 0.5)",
          "borderpad": 0,
          "borderwidth": 0,
          "font": {
           "color": "black",
           "size": 11
          },
          "height": 13,
          "hovertext": "Pkinase_C<br>Writer of (histone) Ph",
          "name": "lol",
          "opacity": 1,
          "showarrow": false,
          "text": "Pkinase_C",
          "textangle": 0,
          "valign": "middle",
          "width": 100,
          "x": -0.5,
          "xanchor": "right",
          "y": 44.5,
          "yanchor": "bottom"
         },
         {
          "align": "right",
          "bgcolor": "rgba(128.0, 128.0, 0.0, 0.5)",
          "borderpad": 0,
          "borderwidth": 0,
          "font": {
           "color": "black",
           "size": 11
          },
          "height": 13,
          "hovertext": "Pre-SET<br>Writer of histone Me",
          "name": "lol",
          "opacity": 1,
          "showarrow": false,
          "text": "Pre-SET",
          "textangle": 0,
          "valign": "middle",
          "width": 100,
          "x": -0.5,
          "xanchor": "right",
          "y": 45.5,
          "yanchor": "bottom"
         },
         {
          "align": "right",
          "bgcolor": "rgba(211.0, 211.0, 211.0, 0.5)",
          "borderpad": 0,
          "borderwidth": 0,
          "font": {
           "color": "black",
           "size": 11
          },
          "height": 13,
          "hovertext": "RAWUL<br>Other",
          "name": "lol",
          "opacity": 1,
          "showarrow": false,
          "text": "RAWUL",
          "textangle": 0,
          "valign": "middle",
          "width": 100,
          "x": -0.5,
          "xanchor": "right",
          "y": 46.5,
          "yanchor": "bottom"
         },
         {
          "align": "right",
          "bgcolor": "rgba(128.0, 128.0, 0.0, 0.5)",
          "borderpad": 0,
          "borderwidth": 0,
          "font": {
           "color": "black",
           "size": 11
          },
          "height": 13,
          "hovertext": "SET<br>Writer of histone Me",
          "name": "lol",
          "opacity": 1,
          "showarrow": false,
          "text": "SET",
          "textangle": 0,
          "valign": "middle",
          "width": 100,
          "x": -0.5,
          "xanchor": "right",
          "y": 47.5,
          "yanchor": "bottom"
         },
         {
          "align": "right",
          "bgcolor": "rgba(255.0, 192.0, 203.0, 0.5)",
          "borderpad": 0,
          "borderwidth": 0,
          "font": {
           "color": "black",
           "size": 11
          },
          "height": 13,
          "hovertext": "SNF2-rel_dom<br>Chromarin remodelers",
          "name": "lol",
          "opacity": 1,
          "showarrow": false,
          "text": "SNF2-rel_dom",
          "textangle": 0,
          "valign": "middle",
          "width": 100,
          "x": -0.5,
          "xanchor": "right",
          "y": 48.5,
          "yanchor": "bottom"
         },
         {
          "align": "right",
          "bgcolor": "rgba(165.0, 42.0, 42.0, 0.5)",
          "borderpad": 0,
          "borderwidth": 0,
          "font": {
           "color": "black",
           "size": 11
          },
          "height": 13,
          "hovertext": "SWIRM<br>DNA binding",
          "name": "lol",
          "opacity": 1,
          "showarrow": false,
          "text": "SWIRM",
          "textangle": 0,
          "valign": "middle",
          "width": 100,
          "x": -0.5,
          "xanchor": "right",
          "y": 49.5,
          "yanchor": "bottom"
         },
         {
          "align": "right",
          "bgcolor": "rgba(255.0, 255.0, 0.0, 0.5)",
          "borderpad": 0,
          "borderwidth": 0,
          "font": {
           "color": "black",
           "size": 11
          },
          "height": 13,
          "hovertext": "Tudor_2<br>Reader of histone Me",
          "name": "lol",
          "opacity": 1,
          "showarrow": false,
          "text": "Tudor_2",
          "textangle": 0,
          "valign": "middle",
          "width": 100,
          "x": -0.5,
          "xanchor": "right",
          "y": 50.5,
          "yanchor": "bottom"
         },
         {
          "align": "right",
          "bgcolor": "rgba(211.0, 211.0, 211.0, 0.5)",
          "borderpad": 0,
          "borderwidth": 0,
          "font": {
           "color": "black",
           "size": 11
          },
          "height": 13,
          "hovertext": "UCH<br>Other",
          "name": "lol",
          "opacity": 1,
          "showarrow": false,
          "text": "UCH",
          "textangle": 0,
          "valign": "middle",
          "width": 100,
          "x": -0.5,
          "xanchor": "right",
          "y": 51.5,
          "yanchor": "bottom"
         },
         {
          "align": "right",
          "bgcolor": "rgba(165.0, 42.0, 42.0, 0.5)",
          "borderpad": 0,
          "borderwidth": 0,
          "font": {
           "color": "black",
           "size": 11
          },
          "height": 13,
          "hovertext": "WSD<br>DNA binding",
          "name": "lol",
          "opacity": 1,
          "showarrow": false,
          "text": "WSD",
          "textangle": 0,
          "valign": "middle",
          "width": 100,
          "x": -0.5,
          "xanchor": "right",
          "y": 52.5,
          "yanchor": "bottom"
         },
         {
          "align": "right",
          "bgcolor": "rgba(165.0, 42.0, 42.0, 0.5)",
          "borderpad": 0,
          "borderwidth": 0,
          "font": {
           "color": "black",
           "size": 11
          },
          "height": 13,
          "hovertext": "zf-C2H2<br>DNA binding",
          "name": "lol",
          "opacity": 1,
          "showarrow": false,
          "text": "zf-C2H2",
          "textangle": 0,
          "valign": "middle",
          "width": 100,
          "x": -0.5,
          "xanchor": "right",
          "y": 53.5,
          "yanchor": "bottom"
         },
         {
          "align": "right",
          "bgcolor": "rgba(165.0, 42.0, 42.0, 0.5)",
          "borderpad": 0,
          "borderwidth": 0,
          "font": {
           "color": "black",
           "size": 11
          },
          "height": 13,
          "hovertext": "zf-C3HC4_2<br>DNA binding",
          "name": "lol",
          "opacity": 1,
          "showarrow": false,
          "text": "zf-C3HC4_2",
          "textangle": 0,
          "valign": "middle",
          "width": 100,
          "x": -0.5,
          "xanchor": "right",
          "y": 54.5,
          "yanchor": "bottom"
         },
         {
          "align": "right",
          "bgcolor": "rgba(165.0, 42.0, 42.0, 0.5)",
          "borderpad": 0,
          "borderwidth": 0,
          "font": {
           "color": "black",
           "size": 11
          },
          "height": 13,
          "hovertext": "zf-C5HC2<br>DNA binding",
          "name": "lol",
          "opacity": 1,
          "showarrow": false,
          "text": "zf-C5HC2",
          "textangle": 0,
          "valign": "middle",
          "width": 100,
          "x": -0.5,
          "xanchor": "right",
          "y": 55.5,
          "yanchor": "bottom"
         },
         {
          "align": "right",
          "bgcolor": "rgba(165.0, 42.0, 42.0, 0.5)",
          "borderpad": 0,
          "borderwidth": 0,
          "font": {
           "color": "black",
           "size": 11
          },
          "height": 13,
          "hovertext": "zf-CXXC<br>DNA binding",
          "name": "lol",
          "opacity": 1,
          "showarrow": false,
          "text": "zf-CXXC",
          "textangle": 0,
          "valign": "middle",
          "width": 100,
          "x": -0.5,
          "xanchor": "right",
          "y": 56.5,
          "yanchor": "bottom"
         },
         {
          "align": "right",
          "bgcolor": "rgba(165.0, 42.0, 42.0, 0.5)",
          "borderpad": 0,
          "borderwidth": 0,
          "font": {
           "color": "black",
           "size": 11
          },
          "height": 13,
          "hovertext": "zf-HC5HC2H<br>DNA binding",
          "name": "lol",
          "opacity": 1,
          "showarrow": false,
          "text": "zf-HC5HC2H",
          "textangle": 0,
          "valign": "middle",
          "width": 100,
          "x": -0.5,
          "xanchor": "right",
          "y": 57.5,
          "yanchor": "bottom"
         },
         {
          "align": "right",
          "bgcolor": "rgba(165.0, 42.0, 42.0, 0.5)",
          "borderpad": 0,
          "borderwidth": 0,
          "font": {
           "color": "black",
           "size": 11
          },
          "height": 13,
          "hovertext": "zf-HC5HC2H_2<br>DNA binding",
          "name": "lol",
          "opacity": 1,
          "showarrow": false,
          "text": "zf-HC5HC2H_2",
          "textangle": 0,
          "valign": "middle",
          "width": 100,
          "x": -0.5,
          "xanchor": "right",
          "y": 58.5,
          "yanchor": "bottom"
         },
         {
          "align": "right",
          "bgcolor": "rgba(211.0, 211.0, 211.0, 0.5)",
          "borderpad": 0,
          "borderwidth": 0,
          "font": {
           "color": "black",
           "size": 11
          },
          "height": 13,
          "hovertext": "zf-MYND<br>Other",
          "name": "lol",
          "opacity": 1,
          "showarrow": false,
          "text": "zf-MYND",
          "textangle": 0,
          "valign": "middle",
          "width": 100,
          "x": -0.5,
          "xanchor": "right",
          "y": 59.5,
          "yanchor": "bottom"
         },
         {
          "align": "right",
          "bgcolor": "rgba(221.0, 160.0, 221.0, 0.5)",
          "borderpad": 0,
          "borderwidth": 0,
          "font": {
           "color": "black",
           "size": 11
          },
          "height": 13,
          "hovertext": "zf-MYST<br>Eraser of histone Ac",
          "name": "lol",
          "opacity": 1,
          "showarrow": false,
          "text": "zf-MYST",
          "textangle": 0,
          "valign": "middle",
          "width": 100,
          "x": -0.5,
          "xanchor": "right",
          "y": 60.5,
          "yanchor": "bottom"
         },
         {
          "align": "right",
          "bgcolor": "rgba(211.0, 211.0, 211.0, 0.5)",
          "borderpad": 0,
          "borderwidth": 0,
          "font": {
           "color": "black",
           "size": 11
          },
          "height": 13,
          "hovertext": "zf-UBP<br>Other",
          "name": "lol",
          "opacity": 1,
          "showarrow": false,
          "text": "zf-UBP",
          "textangle": 0,
          "valign": "middle",
          "width": 100,
          "x": -0.5,
          "xanchor": "right",
          "y": 61.5,
          "yanchor": "bottom"
         },
         {
          "align": "right",
          "bgcolor": "rgba(0.0, 128.0, 0.0, 0.5)",
          "borderpad": 0,
          "borderwidth": 0,
          "font": {
           "color": "black",
           "size": 11
          },
          "height": 13,
          "hovertext": "JmjC<br>Eraser of histone Me",
          "name": "lol",
          "opacity": 1,
          "showarrow": false,
          "text": "JmjC",
          "textangle": 90,
          "valign": "middle",
          "width": 100,
          "x": 0.5,
          "xanchor": "right",
          "y": -0.5,
          "yanchor": "bottom"
         },
         {
          "align": "right",
          "bgcolor": "rgba(165.0, 42.0, 42.0, 0.5)",
          "borderpad": 0,
          "borderwidth": 0,
          "font": {
           "color": "black",
           "size": 11
          },
          "height": 13,
          "hovertext": "zf-C5HC2<br>DNA binding",
          "name": "lol",
          "opacity": 1,
          "showarrow": false,
          "text": "zf-C5HC2",
          "textangle": 90,
          "valign": "middle",
          "width": 100,
          "x": 1.5,
          "xanchor": "right",
          "y": -0.5,
          "yanchor": "bottom"
         },
         {
          "align": "right",
          "bgcolor": "rgba(165.0, 42.0, 42.0, 0.5)",
          "borderpad": 0,
          "borderwidth": 0,
          "font": {
           "color": "black",
           "size": 11
          },
          "height": 13,
          "hovertext": "PLU-1<br>DNA binding",
          "name": "lol",
          "opacity": 1,
          "showarrow": false,
          "text": "PLU-1",
          "textangle": 90,
          "valign": "middle",
          "width": 100,
          "x": 2.5,
          "xanchor": "right",
          "y": -0.5,
          "yanchor": "bottom"
         },
         {
          "align": "right",
          "bgcolor": "rgba(165.0, 42.0, 42.0, 0.5)",
          "borderpad": 0,
          "borderwidth": 0,
          "font": {
           "color": "black",
           "size": 11
          },
          "height": 13,
          "hovertext": "ARID<br>DNA binding",
          "name": "lol",
          "opacity": 1,
          "showarrow": false,
          "text": "ARID",
          "textangle": 90,
          "valign": "middle",
          "width": 100,
          "x": 3.5,
          "xanchor": "right",
          "y": -0.5,
          "yanchor": "bottom"
         },
         {
          "align": "right",
          "bgcolor": "rgba(0.0, 128.0, 0.0, 0.5)",
          "borderpad": 0,
          "borderwidth": 0,
          "font": {
           "color": "black",
           "size": 11
          },
          "height": 13,
          "hovertext": "JmjN<br>Eraser of histone Me",
          "name": "lol",
          "opacity": 1,
          "showarrow": false,
          "text": "JmjN",
          "textangle": 90,
          "valign": "middle",
          "width": 100,
          "x": 4.5,
          "xanchor": "right",
          "y": -0.5,
          "yanchor": "bottom"
         },
         {
          "align": "right",
          "bgcolor": "rgba(128.0, 128.0, 0.0, 0.5)",
          "borderpad": 0,
          "borderwidth": 0,
          "font": {
           "color": "black",
           "size": 11
          },
          "height": 13,
          "hovertext": "SET<br>Writer of histone Me",
          "name": "lol",
          "opacity": 1,
          "showarrow": false,
          "text": "SET",
          "textangle": 90,
          "valign": "middle",
          "width": 100,
          "x": 5.5,
          "xanchor": "right",
          "y": -0.5,
          "yanchor": "bottom"
         },
         {
          "align": "right",
          "bgcolor": "rgba(211.0, 211.0, 211.0, 0.5)",
          "borderpad": 0,
          "borderwidth": 0,
          "font": {
           "color": "black",
           "size": 11
          },
          "height": 13,
          "hovertext": "MTA_R1<br>Other",
          "name": "lol",
          "opacity": 1,
          "showarrow": false,
          "text": "MTA_R1",
          "textangle": 90,
          "valign": "middle",
          "width": 100,
          "x": 6.5,
          "xanchor": "right",
          "y": -0.5,
          "yanchor": "bottom"
         },
         {
          "align": "right",
          "bgcolor": "rgba(165.0, 42.0, 42.0, 0.5)",
          "borderpad": 0,
          "borderwidth": 0,
          "font": {
           "color": "black",
           "size": 11
          },
          "height": 13,
          "hovertext": "Myb_DNA-binding<br>DNA binding",
          "name": "lol",
          "opacity": 1,
          "showarrow": false,
          "text": "Myb_DNA-binding",
          "textangle": 90,
          "valign": "middle",
          "width": 100,
          "x": 7.5,
          "xanchor": "right",
          "y": -0.5,
          "yanchor": "bottom"
         },
         {
          "align": "right",
          "bgcolor": "rgba(211.0, 211.0, 211.0, 0.5)",
          "borderpad": 0,
          "borderwidth": 0,
          "font": {
           "color": "black",
           "size": 11
          },
          "height": 13,
          "hovertext": "BAH<br>Other",
          "name": "lol",
          "opacity": 1,
          "showarrow": false,
          "text": "BAH",
          "textangle": 90,
          "valign": "middle",
          "width": 100,
          "x": 8.5,
          "xanchor": "right",
          "y": -0.5,
          "yanchor": "bottom"
         },
         {
          "align": "right",
          "bgcolor": "rgba(211.0, 211.0, 211.0, 0.5)",
          "borderpad": 0,
          "borderwidth": 0,
          "font": {
           "color": "black",
           "size": 11
          },
          "height": 13,
          "hovertext": "ELM2<br>Other",
          "name": "lol",
          "opacity": 1,
          "showarrow": false,
          "text": "ELM2",
          "textangle": 90,
          "valign": "middle",
          "width": 100,
          "x": 9.5,
          "xanchor": "right",
          "y": -0.5,
          "yanchor": "bottom"
         },
         {
          "align": "right",
          "bgcolor": "rgba(165.0, 42.0, 42.0, 0.5)",
          "borderpad": 0,
          "borderwidth": 0,
          "font": {
           "color": "black",
           "size": 11
          },
          "height": 13,
          "hovertext": "GATA<br>DNA binding",
          "name": "lol",
          "opacity": 1,
          "showarrow": false,
          "text": "GATA",
          "textangle": 90,
          "valign": "middle",
          "width": 100,
          "x": 10.5,
          "xanchor": "right",
          "y": -0.5,
          "yanchor": "bottom"
         },
         {
          "align": "right",
          "bgcolor": "rgba(165.0, 42.0, 42.0, 0.5)",
          "borderpad": 0,
          "borderwidth": 0,
          "font": {
           "color": "black",
           "size": 11
          },
          "height": 13,
          "hovertext": "zf-HC5HC2H<br>DNA binding",
          "name": "lol",
          "opacity": 1,
          "showarrow": false,
          "text": "zf-HC5HC2H",
          "textangle": 90,
          "valign": "middle",
          "width": 100,
          "x": 11.5,
          "xanchor": "right",
          "y": -0.5,
          "yanchor": "bottom"
         },
         {
          "align": "right",
          "bgcolor": "rgba(128.0, 128.0, 0.0, 0.5)",
          "borderpad": 0,
          "borderwidth": 0,
          "font": {
           "color": "black",
           "size": 11
          },
          "height": 13,
          "hovertext": "FYRC<br>Writer of histone Me",
          "name": "lol",
          "opacity": 1,
          "showarrow": false,
          "text": "FYRC",
          "textangle": 90,
          "valign": "middle",
          "width": 100,
          "x": 12.5,
          "xanchor": "right",
          "y": -0.5,
          "yanchor": "bottom"
         },
         {
          "align": "right",
          "bgcolor": "rgba(128.0, 128.0, 0.0, 0.5)",
          "borderpad": 0,
          "borderwidth": 0,
          "font": {
           "color": "black",
           "size": 11
          },
          "height": 13,
          "hovertext": "FYRN<br>Writer of histone Me",
          "name": "lol",
          "opacity": 1,
          "showarrow": false,
          "text": "FYRN",
          "textangle": 90,
          "valign": "middle",
          "width": 100,
          "x": 13.5,
          "xanchor": "right",
          "y": -0.5,
          "yanchor": "bottom"
         },
         {
          "align": "right",
          "bgcolor": "rgba(165.0, 42.0, 42.0, 0.5)",
          "borderpad": 0,
          "borderwidth": 0,
          "font": {
           "color": "black",
           "size": 11
          },
          "height": 13,
          "hovertext": "zf-CXXC<br>DNA binding",
          "name": "lol",
          "opacity": 1,
          "showarrow": false,
          "text": "zf-CXXC",
          "textangle": 90,
          "valign": "middle",
          "width": 100,
          "x": 14.5,
          "xanchor": "right",
          "y": -0.5,
          "yanchor": "bottom"
         },
         {
          "align": "right",
          "bgcolor": "rgba(165.0, 42.0, 42.0, 0.5)",
          "borderpad": 0,
          "borderwidth": 0,
          "font": {
           "color": "black",
           "size": 11
          },
          "height": 13,
          "hovertext": "PHD_4<br>DNA binding",
          "name": "lol",
          "opacity": 1,
          "showarrow": false,
          "text": "PHD_4",
          "textangle": 90,
          "valign": "middle",
          "width": 100,
          "x": 15.5,
          "xanchor": "right",
          "y": -0.5,
          "yanchor": "bottom"
         },
         {
          "align": "right",
          "bgcolor": "rgba(211.0, 211.0, 211.0, 0.5)",
          "borderpad": 0,
          "borderwidth": 0,
          "font": {
           "color": "black",
           "size": 11
          },
          "height": 13,
          "hovertext": "F-box<br>Other",
          "name": "lol",
          "opacity": 1,
          "showarrow": false,
          "text": "F-box",
          "textangle": 90,
          "valign": "middle",
          "width": 100,
          "x": 16.5,
          "xanchor": "right",
          "y": -0.5,
          "yanchor": "bottom"
         },
         {
          "align": "right",
          "bgcolor": "rgba(211.0, 211.0, 211.0, 0.5)",
          "borderpad": 0,
          "borderwidth": 0,
          "font": {
           "color": "black",
           "size": 11
          },
          "height": 13,
          "hovertext": "JHD<br>Other",
          "name": "lol",
          "opacity": 1,
          "showarrow": false,
          "text": "JHD",
          "textangle": 90,
          "valign": "middle",
          "width": 100,
          "x": 17.5,
          "xanchor": "right",
          "y": -0.5,
          "yanchor": "bottom"
         },
         {
          "align": "right",
          "bgcolor": "rgba(255.0, 0.0, 0.0, 0.5)",
          "borderpad": 0,
          "borderwidth": 0,
          "font": {
           "color": "black",
           "size": 11
          },
          "height": 13,
          "hovertext": "Bromodomain<br>Writer of histone Ac",
          "name": "lol",
          "opacity": 1,
          "showarrow": false,
          "text": "Bromodomain",
          "textangle": 90,
          "valign": "middle",
          "width": 100,
          "x": 18.5,
          "xanchor": "right",
          "y": -0.5,
          "yanchor": "bottom"
         },
         {
          "align": "right",
          "bgcolor": "rgba(165.0, 42.0, 42.0, 0.5)",
          "borderpad": 0,
          "borderwidth": 0,
          "font": {
           "color": "black",
           "size": 11
          },
          "height": 13,
          "hovertext": "AWS<br>DNA binding",
          "name": "lol",
          "opacity": 1,
          "showarrow": false,
          "text": "AWS",
          "textangle": 90,
          "valign": "middle",
          "width": 100,
          "x": 19.5,
          "xanchor": "right",
          "y": -0.5,
          "yanchor": "bottom"
         },
         {
          "align": "right",
          "bgcolor": "rgba(255.0, 255.0, 0.0, 0.5)",
          "borderpad": 0,
          "borderwidth": 0,
          "font": {
           "color": "black",
           "size": 11
          },
          "height": 13,
          "hovertext": "PWWP<br>Reader of histone Me",
          "name": "lol",
          "opacity": 1,
          "showarrow": false,
          "text": "PWWP",
          "textangle": 90,
          "valign": "middle",
          "width": 100,
          "x": 20.5,
          "xanchor": "right",
          "y": -0.5,
          "yanchor": "bottom"
         },
         {
          "align": "right",
          "bgcolor": "rgba(165.0, 42.0, 42.0, 0.5)",
          "borderpad": 0,
          "borderwidth": 0,
          "font": {
           "color": "black",
           "size": 11
          },
          "height": 13,
          "hovertext": "zf-HC5HC2H_2<br>DNA binding",
          "name": "lol",
          "opacity": 1,
          "showarrow": false,
          "text": "zf-HC5HC2H_2",
          "textangle": 90,
          "valign": "middle",
          "width": 100,
          "x": 21.5,
          "xanchor": "right",
          "y": -0.5,
          "yanchor": "bottom"
         },
         {
          "align": "right",
          "bgcolor": "rgba(255.0, 255.0, 0.0, 0.5)",
          "borderpad": 0,
          "borderwidth": 0,
          "font": {
           "color": "black",
           "size": 11
          },
          "height": 13,
          "hovertext": "PHD_2<br>Reader of histone Me",
          "name": "lol",
          "opacity": 1,
          "showarrow": false,
          "text": "PHD_2",
          "textangle": 90,
          "valign": "middle",
          "width": 100,
          "x": 22.5,
          "xanchor": "right",
          "y": -0.5,
          "yanchor": "bottom"
         },
         {
          "align": "right",
          "bgcolor": "rgba(221.0, 160.0, 221.0, 0.5)",
          "borderpad": 0,
          "borderwidth": 0,
          "font": {
           "color": "black",
           "size": 11
          },
          "height": 13,
          "hovertext": "EPL1<br>Eraser of histone Ac",
          "name": "lol",
          "opacity": 1,
          "showarrow": false,
          "text": "EPL1",
          "textangle": 90,
          "valign": "middle",
          "width": 100,
          "x": 23.5,
          "xanchor": "right",
          "y": -0.5,
          "yanchor": "bottom"
         },
         {
          "align": "right",
          "bgcolor": "rgba(255.0, 255.0, 0.0, 0.5)",
          "borderpad": 0,
          "borderwidth": 0,
          "font": {
           "color": "black",
           "size": 11
          },
          "height": 13,
          "hovertext": "Tudor_2<br>Reader of histone Me",
          "name": "lol",
          "opacity": 1,
          "showarrow": false,
          "text": "Tudor_2",
          "textangle": 90,
          "valign": "middle",
          "width": 100,
          "x": 24.5,
          "xanchor": "right",
          "y": -0.5,
          "yanchor": "bottom"
         },
         {
          "align": "right",
          "bgcolor": "rgba(0.0, 0.0, 255.0, 0.5)",
          "borderpad": 0,
          "borderwidth": 0,
          "font": {
           "color": "black",
           "size": 11
          },
          "height": 13,
          "hovertext": "Pkinase<br>Writer of (histone) Ph",
          "name": "lol",
          "opacity": 1,
          "showarrow": false,
          "text": "Pkinase",
          "textangle": 90,
          "valign": "middle",
          "width": 100,
          "x": 25.5,
          "xanchor": "right",
          "y": -0.5,
          "yanchor": "bottom"
         },
         {
          "align": "right",
          "bgcolor": "rgba(0.0, 0.0, 255.0, 0.5)",
          "borderpad": 0,
          "borderwidth": 0,
          "font": {
           "color": "black",
           "size": 11
          },
          "height": 13,
          "hovertext": "Pkinase_C<br>Writer of (histone) Ph",
          "name": "lol",
          "opacity": 1,
          "showarrow": false,
          "text": "Pkinase_C",
          "textangle": 90,
          "valign": "middle",
          "width": 100,
          "x": 26.5,
          "xanchor": "right",
          "y": -0.5,
          "yanchor": "bottom"
         },
         {
          "align": "right",
          "bgcolor": "rgba(165.0, 42.0, 42.0, 0.5)",
          "borderpad": 0,
          "borderwidth": 0,
          "font": {
           "color": "black",
           "size": 11
          },
          "height": 13,
          "hovertext": "WSD<br>DNA binding",
          "name": "lol",
          "opacity": 1,
          "showarrow": false,
          "text": "WSD",
          "textangle": 90,
          "valign": "middle",
          "width": 100,
          "x": 27.5,
          "xanchor": "right",
          "y": -0.5,
          "yanchor": "bottom"
         },
         {
          "align": "right",
          "bgcolor": "rgba(95.0, 158.0, 160.0, 0.5)",
          "borderpad": 0,
          "borderwidth": 0,
          "font": {
           "color": "black",
           "size": 11
          },
          "height": 13,
          "hovertext": "Hist_deacetyl<br>Reader of histone Ac",
          "name": "lol",
          "opacity": 1,
          "showarrow": false,
          "text": "Hist_deacetyl",
          "textangle": 90,
          "valign": "middle",
          "width": 100,
          "x": 28.5,
          "xanchor": "right",
          "y": -0.5,
          "yanchor": "bottom"
         },
         {
          "align": "right",
          "bgcolor": "rgba(221.0, 160.0, 221.0, 0.5)",
          "borderpad": 0,
          "borderwidth": 0,
          "font": {
           "color": "black",
           "size": 11
          },
          "height": 13,
          "hovertext": "zf-MYST<br>Eraser of histone Ac",
          "name": "lol",
          "opacity": 1,
          "showarrow": false,
          "text": "zf-MYST",
          "textangle": 90,
          "valign": "middle",
          "width": 100,
          "x": 29.5,
          "xanchor": "right",
          "y": -0.5,
          "yanchor": "bottom"
         },
         {
          "align": "right",
          "bgcolor": "rgba(221.0, 160.0, 221.0, 0.5)",
          "borderpad": 0,
          "borderwidth": 0,
          "font": {
           "color": "black",
           "size": 11
          },
          "height": 13,
          "hovertext": "MOZ_SAS<br>Eraser of histone Ac",
          "name": "lol",
          "opacity": 1,
          "showarrow": false,
          "text": "MOZ_SAS",
          "textangle": 90,
          "valign": "middle",
          "width": 100,
          "x": 30.5,
          "xanchor": "right",
          "y": -0.5,
          "yanchor": "bottom"
         },
         {
          "align": "right",
          "bgcolor": "rgba(0.0, 0.0, 255.0, 0.5)",
          "borderpad": 0,
          "borderwidth": 0,
          "font": {
           "color": "black",
           "size": 11
          },
          "height": 13,
          "hovertext": "PI3_PI4_kinase<br>Writer of (histone) Ph",
          "name": "lol",
          "opacity": 1,
          "showarrow": false,
          "text": "PI3_PI4_kinase",
          "textangle": 90,
          "valign": "middle",
          "width": 100,
          "x": 31.5,
          "xanchor": "right",
          "y": -0.5,
          "yanchor": "bottom"
         },
         {
          "align": "right",
          "bgcolor": "rgba(211.0, 211.0, 211.0, 0.5)",
          "borderpad": 0,
          "borderwidth": 0,
          "font": {
           "color": "black",
           "size": 11
          },
          "height": 13,
          "hovertext": "PAS_11<br>Other",
          "name": "lol",
          "opacity": 1,
          "showarrow": false,
          "text": "PAS_11",
          "textangle": 90,
          "valign": "middle",
          "width": 100,
          "x": 32.5,
          "xanchor": "right",
          "y": -0.5,
          "yanchor": "bottom"
         },
         {
          "align": "right",
          "bgcolor": "rgba(211.0, 211.0, 211.0, 0.5)",
          "borderpad": 0,
          "borderwidth": 0,
          "font": {
           "color": "black",
           "size": 11
          },
          "height": 13,
          "hovertext": "PAS<br>Other",
          "name": "lol",
          "opacity": 1,
          "showarrow": false,
          "text": "PAS",
          "textangle": 90,
          "valign": "middle",
          "width": 100,
          "x": 33.5,
          "xanchor": "right",
          "y": -0.5,
          "yanchor": "bottom"
         },
         {
          "align": "right",
          "bgcolor": "rgba(211.0, 211.0, 211.0, 0.5)",
          "borderpad": 0,
          "borderwidth": 0,
          "font": {
           "color": "black",
           "size": 11
          },
          "height": 13,
          "hovertext": "FATC<br>Other",
          "name": "lol",
          "opacity": 1,
          "showarrow": false,
          "text": "FATC",
          "textangle": 90,
          "valign": "middle",
          "width": 100,
          "x": 34.5,
          "xanchor": "right",
          "y": -0.5,
          "yanchor": "bottom"
         },
         {
          "align": "right",
          "bgcolor": "rgba(211.0, 211.0, 211.0, 0.5)",
          "borderpad": 0,
          "borderwidth": 0,
          "font": {
           "color": "black",
           "size": 11
          },
          "height": 13,
          "hovertext": "UCH<br>Other",
          "name": "lol",
          "opacity": 1,
          "showarrow": false,
          "text": "UCH",
          "textangle": 90,
          "valign": "middle",
          "width": 100,
          "x": 35.5,
          "xanchor": "right",
          "y": -0.5,
          "yanchor": "bottom"
         },
         {
          "align": "right",
          "bgcolor": "rgba(211.0, 211.0, 211.0, 0.5)",
          "borderpad": 0,
          "borderwidth": 0,
          "font": {
           "color": "black",
           "size": 11
          },
          "height": 13,
          "hovertext": "DDT<br>Other",
          "name": "lol",
          "opacity": 1,
          "showarrow": false,
          "text": "DDT",
          "textangle": 90,
          "valign": "middle",
          "width": 100,
          "x": 36.5,
          "xanchor": "right",
          "y": -0.5,
          "yanchor": "bottom"
         },
         {
          "align": "right",
          "bgcolor": "rgba(165.0, 42.0, 42.0, 0.5)",
          "borderpad": 0,
          "borderwidth": 0,
          "font": {
           "color": "black",
           "size": 11
          },
          "height": 13,
          "hovertext": "zf-C3HC4_2<br>DNA binding",
          "name": "lol",
          "opacity": 1,
          "showarrow": false,
          "text": "zf-C3HC4_2",
          "textangle": 90,
          "valign": "middle",
          "width": 100,
          "x": 37.5,
          "xanchor": "right",
          "y": -0.5,
          "yanchor": "bottom"
         },
         {
          "align": "right",
          "bgcolor": "rgba(211.0, 211.0, 211.0, 0.5)",
          "borderpad": 0,
          "borderwidth": 0,
          "font": {
           "color": "black",
           "size": 11
          },
          "height": 13,
          "hovertext": "zf-UBP<br>Other",
          "name": "lol",
          "opacity": 1,
          "showarrow": false,
          "text": "zf-UBP",
          "textangle": 90,
          "valign": "middle",
          "width": 100,
          "x": 38.5,
          "xanchor": "right",
          "y": -0.5,
          "yanchor": "bottom"
         },
         {
          "align": "right",
          "bgcolor": "rgba(255.0, 255.0, 0.0, 0.5)",
          "borderpad": 0,
          "borderwidth": 0,
          "font": {
           "color": "black",
           "size": 11
          },
          "height": 13,
          "hovertext": "C5HCH<br>Reader of histone Me",
          "name": "lol",
          "opacity": 1,
          "showarrow": false,
          "text": "C5HCH",
          "textangle": 90,
          "valign": "middle",
          "width": 100,
          "x": 39.5,
          "xanchor": "right",
          "y": -0.5,
          "yanchor": "bottom"
         },
         {
          "align": "right",
          "bgcolor": "rgba(211.0, 211.0, 211.0, 0.5)",
          "borderpad": 0,
          "borderwidth": 0,
          "font": {
           "color": "black",
           "size": 11
          },
          "height": 13,
          "hovertext": "BRK<br>Other",
          "name": "lol",
          "opacity": 1,
          "showarrow": false,
          "text": "BRK",
          "textangle": 90,
          "valign": "middle",
          "width": 100,
          "x": 40.5,
          "xanchor": "right",
          "y": -0.5,
          "yanchor": "bottom"
         },
         {
          "align": "right",
          "bgcolor": "rgba(211.0, 211.0, 211.0, 0.5)",
          "borderpad": 0,
          "borderwidth": 0,
          "font": {
           "color": "black",
           "size": 11
          },
          "height": 13,
          "hovertext": "C1_1<br>Other",
          "name": "lol",
          "opacity": 1,
          "showarrow": false,
          "text": "C1_1",
          "textangle": 90,
          "valign": "middle",
          "width": 100,
          "x": 41.5,
          "xanchor": "right",
          "y": -0.5,
          "yanchor": "bottom"
         },
         {
          "align": "right",
          "bgcolor": "rgba(211.0, 211.0, 211.0, 0.5)",
          "borderpad": 0,
          "borderwidth": 0,
          "font": {
           "color": "black",
           "size": 11
          },
          "height": 13,
          "hovertext": "Mtf2_C<br>Other",
          "name": "lol",
          "opacity": 1,
          "showarrow": false,
          "text": "Mtf2_C",
          "textangle": 90,
          "valign": "middle",
          "width": 100,
          "x": 42.5,
          "xanchor": "right",
          "y": -0.5,
          "yanchor": "bottom"
         },
         {
          "align": "right",
          "bgcolor": "rgba(165.0, 42.0, 42.0, 0.5)",
          "borderpad": 0,
          "borderwidth": 0,
          "font": {
           "color": "black",
           "size": 11
          },
          "height": 13,
          "hovertext": "SWIRM<br>DNA binding",
          "name": "lol",
          "opacity": 1,
          "showarrow": false,
          "text": "SWIRM",
          "textangle": 90,
          "valign": "middle",
          "width": 100,
          "x": 43.5,
          "xanchor": "right",
          "y": -0.5,
          "yanchor": "bottom"
         },
         {
          "align": "right",
          "bgcolor": "rgba(211.0, 211.0, 211.0, 0.5)",
          "borderpad": 0,
          "borderwidth": 0,
          "font": {
           "color": "black",
           "size": 11
          },
          "height": 13,
          "hovertext": "RAWUL<br>Other",
          "name": "lol",
          "opacity": 1,
          "showarrow": false,
          "text": "RAWUL",
          "textangle": 90,
          "valign": "middle",
          "width": 100,
          "x": 44.5,
          "xanchor": "right",
          "y": -0.5,
          "yanchor": "bottom"
         },
         {
          "align": "right",
          "bgcolor": "rgba(255.0, 192.0, 203.0, 0.5)",
          "borderpad": 0,
          "borderwidth": 0,
          "font": {
           "color": "black",
           "size": 11
          },
          "height": 13,
          "hovertext": "HSA<br>Chromarin remodelers",
          "name": "lol",
          "opacity": 1,
          "showarrow": false,
          "text": "HSA",
          "textangle": 90,
          "valign": "middle",
          "width": 100,
          "x": 45.5,
          "xanchor": "right",
          "y": -0.5,
          "yanchor": "bottom"
         },
         {
          "align": "right",
          "bgcolor": "rgba(95.0, 158.0, 160.0, 0.5)",
          "borderpad": 0,
          "borderwidth": 0,
          "font": {
           "color": "black",
           "size": 11
          },
          "height": 13,
          "hovertext": "HDAC4_Gln<br>Reader of histone Ac",
          "name": "lol",
          "opacity": 1,
          "showarrow": false,
          "text": "HDAC4_Gln",
          "textangle": 90,
          "valign": "middle",
          "width": 100,
          "x": 46.5,
          "xanchor": "right",
          "y": -0.5,
          "yanchor": "bottom"
         },
         {
          "align": "right",
          "bgcolor": "rgba(255.0, 192.0, 203.0, 0.5)",
          "borderpad": 0,
          "borderwidth": 0,
          "font": {
           "color": "black",
           "size": 11
          },
          "height": 13,
          "hovertext": "Chromo_shadow<br>Chromarin remodelers",
          "name": "lol",
          "opacity": 1,
          "showarrow": false,
          "text": "Chromo_shadow",
          "textangle": 90,
          "valign": "middle",
          "width": 100,
          "x": 47.5,
          "xanchor": "right",
          "y": -0.5,
          "yanchor": "bottom"
         },
         {
          "align": "right",
          "bgcolor": "rgba(211.0, 211.0, 211.0, 0.5)",
          "borderpad": 0,
          "borderwidth": 0,
          "font": {
           "color": "black",
           "size": 11
          },
          "height": 13,
          "hovertext": "ECH_1<br>Other",
          "name": "lol",
          "opacity": 1,
          "showarrow": false,
          "text": "ECH_1",
          "textangle": 90,
          "valign": "middle",
          "width": 100,
          "x": 48.5,
          "xanchor": "right",
          "y": -0.5,
          "yanchor": "bottom"
         },
         {
          "align": "right",
          "bgcolor": "rgba(128.0, 128.0, 0.0, 0.5)",
          "borderpad": 0,
          "borderwidth": 0,
          "font": {
           "color": "black",
           "size": 11
          },
          "height": 13,
          "hovertext": "Pre-SET<br>Writer of histone Me",
          "name": "lol",
          "opacity": 1,
          "showarrow": false,
          "text": "Pre-SET",
          "textangle": 90,
          "valign": "middle",
          "width": 100,
          "x": 49.5,
          "xanchor": "right",
          "y": -0.5,
          "yanchor": "bottom"
         },
         {
          "align": "right",
          "bgcolor": "rgba(211.0, 211.0, 211.0, 0.5)",
          "borderpad": 0,
          "borderwidth": 0,
          "font": {
           "color": "black",
           "size": 11
          },
          "height": 13,
          "hovertext": "BET<br>Other",
          "name": "lol",
          "opacity": 1,
          "showarrow": false,
          "text": "BET",
          "textangle": 90,
          "valign": "middle",
          "width": 100,
          "x": 50.5,
          "xanchor": "right",
          "y": -0.5,
          "yanchor": "bottom"
         },
         {
          "align": "right",
          "bgcolor": "rgba(255.0, 192.0, 203.0, 0.5)",
          "borderpad": 0,
          "borderwidth": 0,
          "font": {
           "color": "black",
           "size": 11
          },
          "height": 13,
          "hovertext": "DPF1-3_N<br>Chromarin remodelers",
          "name": "lol",
          "opacity": 1,
          "showarrow": false,
          "text": "DPF1-3_N",
          "textangle": 90,
          "valign": "middle",
          "width": 100,
          "x": 51.5,
          "xanchor": "right",
          "y": -0.5,
          "yanchor": "bottom"
         },
         {
          "align": "right",
          "bgcolor": "rgba(165.0, 42.0, 42.0, 0.5)",
          "borderpad": 0,
          "borderwidth": 0,
          "font": {
           "color": "black",
           "size": 11
          },
          "height": 13,
          "hovertext": "zf-C2H2<br>DNA binding",
          "name": "lol",
          "opacity": 1,
          "showarrow": false,
          "text": "zf-C2H2",
          "textangle": 90,
          "valign": "middle",
          "width": 100,
          "x": 52.5,
          "xanchor": "right",
          "y": -0.5,
          "yanchor": "bottom"
         },
         {
          "align": "right",
          "bgcolor": "rgba(211.0, 211.0, 211.0, 0.5)",
          "borderpad": 0,
          "borderwidth": 0,
          "font": {
           "color": "black",
           "size": 11
          },
          "height": 13,
          "hovertext": "zf-MYND<br>Other",
          "name": "lol",
          "opacity": 1,
          "showarrow": false,
          "text": "zf-MYND",
          "textangle": 90,
          "valign": "middle",
          "width": 100,
          "x": 53.5,
          "xanchor": "right",
          "y": -0.5,
          "yanchor": "bottom"
         },
         {
          "align": "right",
          "bgcolor": "rgba(255.0, 255.0, 0.0, 0.5)",
          "borderpad": 0,
          "borderwidth": 0,
          "font": {
           "color": "black",
           "size": 11
          },
          "height": 13,
          "hovertext": "PHD<br>Reader of histone Me",
          "name": "lol",
          "opacity": 1,
          "showarrow": false,
          "text": "PHD",
          "textangle": 90,
          "valign": "middle",
          "width": 100,
          "x": 54.5,
          "xanchor": "right",
          "y": -0.5,
          "yanchor": "bottom"
         },
         {
          "align": "right",
          "bgcolor": "rgba(255.0, 192.0, 203.0, 0.5)",
          "borderpad": 0,
          "borderwidth": 0,
          "font": {
           "color": "black",
           "size": 11
          },
          "height": 13,
          "hovertext": "Helicase_C<br>Chromarin remodelers",
          "name": "lol",
          "opacity": 1,
          "showarrow": false,
          "text": "Helicase_C",
          "textangle": 90,
          "valign": "middle",
          "width": 100,
          "x": 55.5,
          "xanchor": "right",
          "y": -0.5,
          "yanchor": "bottom"
         },
         {
          "align": "right",
          "bgcolor": "rgba(255.0, 192.0, 203.0, 0.5)",
          "borderpad": 0,
          "borderwidth": 0,
          "font": {
           "color": "black",
           "size": 11
          },
          "height": 13,
          "hovertext": "SNF2-rel_dom<br>Chromarin remodelers",
          "name": "lol",
          "opacity": 1,
          "showarrow": false,
          "text": "SNF2-rel_dom",
          "textangle": 90,
          "valign": "middle",
          "width": 100,
          "x": 56.5,
          "xanchor": "right",
          "y": -0.5,
          "yanchor": "bottom"
         },
         {
          "align": "right",
          "bgcolor": "rgba(255.0, 255.0, 0.0, 0.5)",
          "borderpad": 0,
          "borderwidth": 0,
          "font": {
           "color": "black",
           "size": 11
          },
          "height": 13,
          "hovertext": "Chromo<br>Reader of histone Me",
          "name": "lol",
          "opacity": 1,
          "showarrow": false,
          "text": "Chromo",
          "textangle": 90,
          "valign": "middle",
          "width": 100,
          "x": 57.5,
          "xanchor": "right",
          "y": -0.5,
          "yanchor": "bottom"
         },
         {
          "align": "right",
          "bgcolor": "rgba(255.0, 192.0, 203.0, 0.5)",
          "borderpad": 0,
          "borderwidth": 0,
          "font": {
           "color": "black",
           "size": 11
          },
          "height": 13,
          "hovertext": "DUF1087<br>Chromarin remodelers",
          "name": "lol",
          "opacity": 1,
          "showarrow": false,
          "text": "DUF1087",
          "textangle": 90,
          "valign": "middle",
          "width": 100,
          "x": 58.5,
          "xanchor": "right",
          "y": -0.5,
          "yanchor": "bottom"
         },
         {
          "align": "right",
          "bgcolor": "rgba(211.0, 211.0, 211.0, 0.5)",
          "borderpad": 0,
          "borderwidth": 0,
          "font": {
           "color": "black",
           "size": 11
          },
          "height": 13,
          "hovertext": "CHDNT<br>Other",
          "name": "lol",
          "opacity": 1,
          "showarrow": false,
          "text": "CHDNT",
          "textangle": 90,
          "valign": "middle",
          "width": 100,
          "x": 59.5,
          "xanchor": "right",
          "y": -0.5,
          "yanchor": "bottom"
         },
         {
          "align": "right",
          "bgcolor": "rgba(211.0, 211.0, 211.0, 0.5)",
          "borderpad": 0,
          "borderwidth": 0,
          "font": {
           "color": "black",
           "size": 11
          },
          "height": 13,
          "hovertext": "CHDCT2<br>Other",
          "name": "lol",
          "opacity": 1,
          "showarrow": false,
          "text": "CHDCT2",
          "textangle": 90,
          "valign": "middle",
          "width": 100,
          "x": 60.5,
          "xanchor": "right",
          "y": -0.5,
          "yanchor": "bottom"
         },
         {
          "align": "right",
          "bgcolor": "rgba(255.0, 192.0, 203.0, 0.5)",
          "borderpad": 0,
          "borderwidth": 0,
          "font": {
           "color": "black",
           "size": 11
          },
          "height": 13,
          "hovertext": "CHDII_SANT-like<br>Chromarin remodelers",
          "name": "lol",
          "opacity": 1,
          "showarrow": false,
          "text": "CHDII_SANT-like",
          "textangle": 90,
          "valign": "middle",
          "width": 100,
          "x": 61.5,
          "xanchor": "right",
          "y": -0.5,
          "yanchor": "bottom"
         },
         {
          "font": {
           "size": 16
          },
          "showarrow": false,
          "text": "Conditional probability",
          "textangle": 90,
          "x": 1.12,
          "xref": "paper",
          "y": 0.5,
          "yref": "paper"
         },
         {
          "align": "center",
          "bgcolor": "rgba(128.0, 128.0, 0.0, 0.5)",
          "borderpad": 0,
          "borderwidth": 0,
          "font": {
           "color": "black",
           "size": 11
          },
          "height": 13,
          "name": "lol",
          "opacity": 1,
          "showarrow": false,
          "text": "Writer of histone Me",
          "textangle": 0,
          "valign": "middle",
          "width": 130,
          "x": 11.5,
          "xanchor": "right",
          "y": 63,
          "yanchor": "bottom"
         },
         {
          "align": "center",
          "bgcolor": "rgba(0.0, 128.0, 0.0, 0.5)",
          "borderpad": 0,
          "borderwidth": 0,
          "font": {
           "color": "black",
           "size": 11
          },
          "height": 13,
          "name": "lol",
          "opacity": 1,
          "showarrow": false,
          "text": "Eraser of histone Me",
          "textangle": 0,
          "valign": "middle",
          "width": 130,
          "x": 23.5,
          "xanchor": "right",
          "y": 63,
          "yanchor": "bottom"
         },
         {
          "align": "center",
          "bgcolor": "rgba(255.0, 255.0, 0.0, 0.5)",
          "borderpad": 0,
          "borderwidth": 0,
          "font": {
           "color": "black",
           "size": 11
          },
          "height": 13,
          "name": "lol",
          "opacity": 1,
          "showarrow": false,
          "text": "Reader of histone Me",
          "textangle": 0,
          "valign": "middle",
          "width": 130,
          "x": 35.5,
          "xanchor": "right",
          "y": 63,
          "yanchor": "bottom"
         },
         {
          "align": "center",
          "bgcolor": "rgba(255.0, 0.0, 0.0, 0.5)",
          "borderpad": 0,
          "borderwidth": 0,
          "font": {
           "color": "black",
           "size": 11
          },
          "height": 13,
          "name": "lol",
          "opacity": 1,
          "showarrow": false,
          "text": "Writer of histone Ac",
          "textangle": 0,
          "valign": "middle",
          "width": 130,
          "x": 47.5,
          "xanchor": "right",
          "y": 63,
          "yanchor": "bottom"
         },
         {
          "align": "center",
          "bgcolor": "rgba(221.0, 160.0, 221.0, 0.5)",
          "borderpad": 0,
          "borderwidth": 0,
          "font": {
           "color": "black",
           "size": 11
          },
          "height": 13,
          "name": "lol",
          "opacity": 1,
          "showarrow": false,
          "text": "Eraser of histone Ac",
          "textangle": 0,
          "valign": "middle",
          "width": 130,
          "x": 59.5,
          "xanchor": "right",
          "y": 63,
          "yanchor": "bottom"
         },
         {
          "align": "center",
          "bgcolor": "rgba(95.0, 158.0, 160.0, 0.5)",
          "borderpad": 0,
          "borderwidth": 0,
          "font": {
           "color": "black",
           "size": 11
          },
          "height": 13,
          "name": "lol",
          "opacity": 1,
          "showarrow": false,
          "text": "Reader of histone Ac",
          "textangle": 0,
          "valign": "middle",
          "width": 130,
          "x": 11.5,
          "xanchor": "right",
          "y": 65,
          "yanchor": "bottom"
         },
         {
          "align": "center",
          "bgcolor": "rgba(0.0, 0.0, 255.0, 0.5)",
          "borderpad": 0,
          "borderwidth": 0,
          "font": {
           "color": "black",
           "size": 11
          },
          "height": 13,
          "name": "lol",
          "opacity": 1,
          "showarrow": false,
          "text": "Writer of (histone) Ph",
          "textangle": 0,
          "valign": "middle",
          "width": 130,
          "x": 23.5,
          "xanchor": "right",
          "y": 65,
          "yanchor": "bottom"
         },
         {
          "align": "center",
          "bgcolor": "rgba(255.0, 192.0, 203.0, 0.5)",
          "borderpad": 0,
          "borderwidth": 0,
          "font": {
           "color": "black",
           "size": 11
          },
          "height": 13,
          "name": "lol",
          "opacity": 1,
          "showarrow": false,
          "text": "Chromarin remodelers",
          "textangle": 0,
          "valign": "middle",
          "width": 130,
          "x": 35.5,
          "xanchor": "right",
          "y": 65,
          "yanchor": "bottom"
         },
         {
          "align": "center",
          "bgcolor": "rgba(165.0, 42.0, 42.0, 0.5)",
          "borderpad": 0,
          "borderwidth": 0,
          "font": {
           "color": "black",
           "size": 11
          },
          "height": 13,
          "name": "lol",
          "opacity": 1,
          "showarrow": false,
          "text": "DNA binding",
          "textangle": 0,
          "valign": "middle",
          "width": 130,
          "x": 47.5,
          "xanchor": "right",
          "y": 65,
          "yanchor": "bottom"
         },
         {
          "align": "center",
          "bgcolor": "rgba(211.0, 211.0, 211.0, 0.5)",
          "borderpad": 0,
          "borderwidth": 0,
          "font": {
           "color": "black",
           "size": 11
          },
          "height": 13,
          "name": "lol",
          "opacity": 1,
          "showarrow": false,
          "text": "Other",
          "textangle": 0,
          "valign": "middle",
          "width": 130,
          "x": 59.5,
          "xanchor": "right",
          "y": 65,
          "yanchor": "bottom"
         }
        ],
        "dragmode": false,
        "height": 1000,
        "margin": {
         "b": 1,
         "l": 30,
         "r": 100,
         "t": 1
        },
        "plot_bgcolor": "white",
        "template": {
         "data": {
          "bar": [
           {
            "error_x": {
             "color": "#2a3f5f"
            },
            "error_y": {
             "color": "#2a3f5f"
            },
            "marker": {
             "line": {
              "color": "#E5ECF6",
              "width": 0.5
             },
             "pattern": {
              "fillmode": "overlay",
              "size": 10,
              "solidity": 0.2
             }
            },
            "type": "bar"
           }
          ],
          "barpolar": [
           {
            "marker": {
             "line": {
              "color": "#E5ECF6",
              "width": 0.5
             },
             "pattern": {
              "fillmode": "overlay",
              "size": 10,
              "solidity": 0.2
             }
            },
            "type": "barpolar"
           }
          ],
          "carpet": [
           {
            "aaxis": {
             "endlinecolor": "#2a3f5f",
             "gridcolor": "white",
             "linecolor": "white",
             "minorgridcolor": "white",
             "startlinecolor": "#2a3f5f"
            },
            "baxis": {
             "endlinecolor": "#2a3f5f",
             "gridcolor": "white",
             "linecolor": "white",
             "minorgridcolor": "white",
             "startlinecolor": "#2a3f5f"
            },
            "type": "carpet"
           }
          ],
          "choropleth": [
           {
            "colorbar": {
             "outlinewidth": 0,
             "ticks": ""
            },
            "type": "choropleth"
           }
          ],
          "contour": [
           {
            "colorbar": {
             "outlinewidth": 0,
             "ticks": ""
            },
            "colorscale": [
             [
              0,
              "#0d0887"
             ],
             [
              0.1111111111111111,
              "#46039f"
             ],
             [
              0.2222222222222222,
              "#7201a8"
             ],
             [
              0.3333333333333333,
              "#9c179e"
             ],
             [
              0.4444444444444444,
              "#bd3786"
             ],
             [
              0.5555555555555556,
              "#d8576b"
             ],
             [
              0.6666666666666666,
              "#ed7953"
             ],
             [
              0.7777777777777778,
              "#fb9f3a"
             ],
             [
              0.8888888888888888,
              "#fdca26"
             ],
             [
              1,
              "#f0f921"
             ]
            ],
            "type": "contour"
           }
          ],
          "contourcarpet": [
           {
            "colorbar": {
             "outlinewidth": 0,
             "ticks": ""
            },
            "type": "contourcarpet"
           }
          ],
          "heatmap": [
           {
            "colorbar": {
             "outlinewidth": 0,
             "ticks": ""
            },
            "colorscale": [
             [
              0,
              "#0d0887"
             ],
             [
              0.1111111111111111,
              "#46039f"
             ],
             [
              0.2222222222222222,
              "#7201a8"
             ],
             [
              0.3333333333333333,
              "#9c179e"
             ],
             [
              0.4444444444444444,
              "#bd3786"
             ],
             [
              0.5555555555555556,
              "#d8576b"
             ],
             [
              0.6666666666666666,
              "#ed7953"
             ],
             [
              0.7777777777777778,
              "#fb9f3a"
             ],
             [
              0.8888888888888888,
              "#fdca26"
             ],
             [
              1,
              "#f0f921"
             ]
            ],
            "type": "heatmap"
           }
          ],
          "heatmapgl": [
           {
            "colorbar": {
             "outlinewidth": 0,
             "ticks": ""
            },
            "colorscale": [
             [
              0,
              "#0d0887"
             ],
             [
              0.1111111111111111,
              "#46039f"
             ],
             [
              0.2222222222222222,
              "#7201a8"
             ],
             [
              0.3333333333333333,
              "#9c179e"
             ],
             [
              0.4444444444444444,
              "#bd3786"
             ],
             [
              0.5555555555555556,
              "#d8576b"
             ],
             [
              0.6666666666666666,
              "#ed7953"
             ],
             [
              0.7777777777777778,
              "#fb9f3a"
             ],
             [
              0.8888888888888888,
              "#fdca26"
             ],
             [
              1,
              "#f0f921"
             ]
            ],
            "type": "heatmapgl"
           }
          ],
          "histogram": [
           {
            "marker": {
             "pattern": {
              "fillmode": "overlay",
              "size": 10,
              "solidity": 0.2
             }
            },
            "type": "histogram"
           }
          ],
          "histogram2d": [
           {
            "colorbar": {
             "outlinewidth": 0,
             "ticks": ""
            },
            "colorscale": [
             [
              0,
              "#0d0887"
             ],
             [
              0.1111111111111111,
              "#46039f"
             ],
             [
              0.2222222222222222,
              "#7201a8"
             ],
             [
              0.3333333333333333,
              "#9c179e"
             ],
             [
              0.4444444444444444,
              "#bd3786"
             ],
             [
              0.5555555555555556,
              "#d8576b"
             ],
             [
              0.6666666666666666,
              "#ed7953"
             ],
             [
              0.7777777777777778,
              "#fb9f3a"
             ],
             [
              0.8888888888888888,
              "#fdca26"
             ],
             [
              1,
              "#f0f921"
             ]
            ],
            "type": "histogram2d"
           }
          ],
          "histogram2dcontour": [
           {
            "colorbar": {
             "outlinewidth": 0,
             "ticks": ""
            },
            "colorscale": [
             [
              0,
              "#0d0887"
             ],
             [
              0.1111111111111111,
              "#46039f"
             ],
             [
              0.2222222222222222,
              "#7201a8"
             ],
             [
              0.3333333333333333,
              "#9c179e"
             ],
             [
              0.4444444444444444,
              "#bd3786"
             ],
             [
              0.5555555555555556,
              "#d8576b"
             ],
             [
              0.6666666666666666,
              "#ed7953"
             ],
             [
              0.7777777777777778,
              "#fb9f3a"
             ],
             [
              0.8888888888888888,
              "#fdca26"
             ],
             [
              1,
              "#f0f921"
             ]
            ],
            "type": "histogram2dcontour"
           }
          ],
          "mesh3d": [
           {
            "colorbar": {
             "outlinewidth": 0,
             "ticks": ""
            },
            "type": "mesh3d"
           }
          ],
          "parcoords": [
           {
            "line": {
             "colorbar": {
              "outlinewidth": 0,
              "ticks": ""
             }
            },
            "type": "parcoords"
           }
          ],
          "pie": [
           {
            "automargin": true,
            "type": "pie"
           }
          ],
          "scatter": [
           {
            "fillpattern": {
             "fillmode": "overlay",
             "size": 10,
             "solidity": 0.2
            },
            "type": "scatter"
           }
          ],
          "scatter3d": [
           {
            "line": {
             "colorbar": {
              "outlinewidth": 0,
              "ticks": ""
             }
            },
            "marker": {
             "colorbar": {
              "outlinewidth": 0,
              "ticks": ""
             }
            },
            "type": "scatter3d"
           }
          ],
          "scattercarpet": [
           {
            "marker": {
             "colorbar": {
              "outlinewidth": 0,
              "ticks": ""
             }
            },
            "type": "scattercarpet"
           }
          ],
          "scattergeo": [
           {
            "marker": {
             "colorbar": {
              "outlinewidth": 0,
              "ticks": ""
             }
            },
            "type": "scattergeo"
           }
          ],
          "scattergl": [
           {
            "marker": {
             "colorbar": {
              "outlinewidth": 0,
              "ticks": ""
             }
            },
            "type": "scattergl"
           }
          ],
          "scattermapbox": [
           {
            "marker": {
             "colorbar": {
              "outlinewidth": 0,
              "ticks": ""
             }
            },
            "type": "scattermapbox"
           }
          ],
          "scatterpolar": [
           {
            "marker": {
             "colorbar": {
              "outlinewidth": 0,
              "ticks": ""
             }
            },
            "type": "scatterpolar"
           }
          ],
          "scatterpolargl": [
           {
            "marker": {
             "colorbar": {
              "outlinewidth": 0,
              "ticks": ""
             }
            },
            "type": "scatterpolargl"
           }
          ],
          "scatterternary": [
           {
            "marker": {
             "colorbar": {
              "outlinewidth": 0,
              "ticks": ""
             }
            },
            "type": "scatterternary"
           }
          ],
          "surface": [
           {
            "colorbar": {
             "outlinewidth": 0,
             "ticks": ""
            },
            "colorscale": [
             [
              0,
              "#0d0887"
             ],
             [
              0.1111111111111111,
              "#46039f"
             ],
             [
              0.2222222222222222,
              "#7201a8"
             ],
             [
              0.3333333333333333,
              "#9c179e"
             ],
             [
              0.4444444444444444,
              "#bd3786"
             ],
             [
              0.5555555555555556,
              "#d8576b"
             ],
             [
              0.6666666666666666,
              "#ed7953"
             ],
             [
              0.7777777777777778,
              "#fb9f3a"
             ],
             [
              0.8888888888888888,
              "#fdca26"
             ],
             [
              1,
              "#f0f921"
             ]
            ],
            "type": "surface"
           }
          ],
          "table": [
           {
            "cells": {
             "fill": {
              "color": "#EBF0F8"
             },
             "line": {
              "color": "white"
             }
            },
            "header": {
             "fill": {
              "color": "#C8D4E3"
             },
             "line": {
              "color": "white"
             }
            },
            "type": "table"
           }
          ]
         },
         "layout": {
          "annotationdefaults": {
           "arrowcolor": "#2a3f5f",
           "arrowhead": 0,
           "arrowwidth": 1
          },
          "autotypenumbers": "strict",
          "coloraxis": {
           "colorbar": {
            "outlinewidth": 0,
            "ticks": ""
           }
          },
          "colorscale": {
           "diverging": [
            [
             0,
             "#8e0152"
            ],
            [
             0.1,
             "#c51b7d"
            ],
            [
             0.2,
             "#de77ae"
            ],
            [
             0.3,
             "#f1b6da"
            ],
            [
             0.4,
             "#fde0ef"
            ],
            [
             0.5,
             "#f7f7f7"
            ],
            [
             0.6,
             "#e6f5d0"
            ],
            [
             0.7,
             "#b8e186"
            ],
            [
             0.8,
             "#7fbc41"
            ],
            [
             0.9,
             "#4d9221"
            ],
            [
             1,
             "#276419"
            ]
           ],
           "sequential": [
            [
             0,
             "#0d0887"
            ],
            [
             0.1111111111111111,
             "#46039f"
            ],
            [
             0.2222222222222222,
             "#7201a8"
            ],
            [
             0.3333333333333333,
             "#9c179e"
            ],
            [
             0.4444444444444444,
             "#bd3786"
            ],
            [
             0.5555555555555556,
             "#d8576b"
            ],
            [
             0.6666666666666666,
             "#ed7953"
            ],
            [
             0.7777777777777778,
             "#fb9f3a"
            ],
            [
             0.8888888888888888,
             "#fdca26"
            ],
            [
             1,
             "#f0f921"
            ]
           ],
           "sequentialminus": [
            [
             0,
             "#0d0887"
            ],
            [
             0.1111111111111111,
             "#46039f"
            ],
            [
             0.2222222222222222,
             "#7201a8"
            ],
            [
             0.3333333333333333,
             "#9c179e"
            ],
            [
             0.4444444444444444,
             "#bd3786"
            ],
            [
             0.5555555555555556,
             "#d8576b"
            ],
            [
             0.6666666666666666,
             "#ed7953"
            ],
            [
             0.7777777777777778,
             "#fb9f3a"
            ],
            [
             0.8888888888888888,
             "#fdca26"
            ],
            [
             1,
             "#f0f921"
            ]
           ]
          },
          "colorway": [
           "#636efa",
           "#EF553B",
           "#00cc96",
           "#ab63fa",
           "#FFA15A",
           "#19d3f3",
           "#FF6692",
           "#B6E880",
           "#FF97FF",
           "#FECB52"
          ],
          "font": {
           "color": "#2a3f5f"
          },
          "geo": {
           "bgcolor": "white",
           "lakecolor": "white",
           "landcolor": "#E5ECF6",
           "showlakes": true,
           "showland": true,
           "subunitcolor": "white"
          },
          "hoverlabel": {
           "align": "left"
          },
          "hovermode": "closest",
          "mapbox": {
           "style": "light"
          },
          "paper_bgcolor": "white",
          "plot_bgcolor": "#E5ECF6",
          "polar": {
           "angularaxis": {
            "gridcolor": "white",
            "linecolor": "white",
            "ticks": ""
           },
           "bgcolor": "#E5ECF6",
           "radialaxis": {
            "gridcolor": "white",
            "linecolor": "white",
            "ticks": ""
           }
          },
          "scene": {
           "xaxis": {
            "backgroundcolor": "#E5ECF6",
            "gridcolor": "white",
            "gridwidth": 2,
            "linecolor": "white",
            "showbackground": true,
            "ticks": "",
            "zerolinecolor": "white"
           },
           "yaxis": {
            "backgroundcolor": "#E5ECF6",
            "gridcolor": "white",
            "gridwidth": 2,
            "linecolor": "white",
            "showbackground": true,
            "ticks": "",
            "zerolinecolor": "white"
           },
           "zaxis": {
            "backgroundcolor": "#E5ECF6",
            "gridcolor": "white",
            "gridwidth": 2,
            "linecolor": "white",
            "showbackground": true,
            "ticks": "",
            "zerolinecolor": "white"
           }
          },
          "shapedefaults": {
           "line": {
            "color": "#2a3f5f"
           }
          },
          "ternary": {
           "aaxis": {
            "gridcolor": "white",
            "linecolor": "white",
            "ticks": ""
           },
           "baxis": {
            "gridcolor": "white",
            "linecolor": "white",
            "ticks": ""
           },
           "bgcolor": "#E5ECF6",
           "caxis": {
            "gridcolor": "white",
            "linecolor": "white",
            "ticks": ""
           }
          },
          "title": {
           "x": 0.05
          },
          "xaxis": {
           "automargin": true,
           "gridcolor": "white",
           "linecolor": "white",
           "ticks": "",
           "title": {
            "standoff": 15
           },
           "zerolinecolor": "white",
           "zerolinewidth": 2
          },
          "yaxis": {
           "automargin": true,
           "gridcolor": "white",
           "linecolor": "white",
           "ticks": "",
           "title": {
            "standoff": 15
           },
           "zerolinecolor": "white",
           "zerolinewidth": 2
          }
         }
        },
        "width": 1000,
        "xaxis": {
         "automargin": true,
         "autorange": true,
         "constrain": "domain",
         "domain": [
          0,
          1
         ],
         "range": [
          -9.035173274975254,
          65.22083421730946
         ],
         "scaleanchor": "y",
         "showticklabels": false,
         "tickmode": "array",
         "ticktext": [
          "JmjC",
          "zf-C5HC2",
          "PLU-1",
          "ARID",
          "JmjN",
          "SET",
          "MTA_R1",
          "Myb_DNA-binding",
          "BAH",
          "ELM2",
          "GATA",
          "zf-HC5HC2H",
          "FYRC",
          "FYRN",
          "zf-CXXC",
          "PHD_4",
          "F-box",
          "JHD",
          "Bromodomain",
          "AWS",
          "PWWP",
          "zf-HC5HC2H_2",
          "PHD_2",
          "EPL1",
          "Tudor_2",
          "Pkinase",
          "Pkinase_C",
          "WSD",
          "Hist_deacetyl",
          "zf-MYST",
          "MOZ_SAS",
          "PI3_PI4_kinase",
          "PAS_11",
          "PAS",
          "FATC",
          "UCH",
          "DDT",
          "zf-C3HC4_2",
          "zf-UBP",
          "C5HCH",
          "BRK",
          "C1_1",
          "Mtf2_C",
          "SWIRM",
          "RAWUL",
          "HSA",
          "HDAC4_Gln",
          "Chromo_shadow",
          "ECH_1",
          "Pre-SET",
          "BET",
          "DPF1-3_N",
          "zf-C2H2",
          "zf-MYND",
          "PHD",
          "Helicase_C",
          "SNF2-rel_dom",
          "Chromo",
          "DUF1087",
          "CHDNT",
          "CHDCT2",
          "CHDII_SANT-like"
         ],
         "tickvals": [
          0,
          1,
          2,
          3,
          4,
          5,
          6,
          7,
          8,
          9,
          10,
          11,
          12,
          13,
          14,
          15,
          16,
          17,
          18,
          19,
          20,
          21,
          22,
          23,
          24,
          25,
          26,
          27,
          28,
          29,
          30,
          31,
          32,
          33,
          34,
          35,
          36,
          37,
          38,
          39,
          40,
          41,
          42,
          43,
          44,
          45,
          46,
          47,
          48,
          49,
          50,
          51,
          52,
          53,
          54,
          55,
          56,
          57,
          58,
          59,
          60,
          61
         ],
         "type": "linear"
        },
        "yaxis": {
         "automargin": true,
         "autorange": true,
         "constrain": "domain",
         "domain": [
          0.06070573484269265,
          0.9392942651573073
         ],
         "range": [
          65.80390205456277,
          -9.035173274975254
         ],
         "scaleanchor": "x",
         "showticklabels": false,
         "tickmode": "array",
         "ticktext": [
          "ARID",
          "AWS",
          "BAH",
          "BET",
          "BRK",
          "Bromodomain",
          "C1_1",
          "C5HCH",
          "CHDCT2",
          "CHDII_SANT-like",
          "CHDNT",
          "Chromo",
          "Chromo_shadow",
          "DDT",
          "DPF1-3_N",
          "DUF1087",
          "ECH_1",
          "ELM2",
          "EPL1",
          "F-box",
          "FATC",
          "FYRC",
          "FYRN",
          "GATA",
          "HDAC4_Gln",
          "HSA",
          "Helicase_C",
          "Hist_deacetyl",
          "JHD",
          "JmjC",
          "JmjN",
          "MOZ_SAS",
          "MTA_R1",
          "Mtf2_C",
          "Myb_DNA-binding",
          "PAS",
          "PAS_11",
          "PHD",
          "PHD_2",
          "PHD_4",
          "PI3_PI4_kinase",
          "PLU-1",
          "PWWP",
          "Pkinase",
          "Pkinase_C",
          "Pre-SET",
          "RAWUL",
          "SET",
          "SNF2-rel_dom",
          "SWIRM",
          "Tudor_2",
          "UCH",
          "WSD",
          "zf-C2H2",
          "zf-C3HC4_2",
          "zf-C5HC2",
          "zf-CXXC",
          "zf-HC5HC2H",
          "zf-HC5HC2H_2",
          "zf-MYND",
          "zf-MYST",
          "zf-UBP"
         ],
         "tickvals": [
          0,
          1,
          2,
          3,
          4,
          5,
          6,
          7,
          8,
          9,
          10,
          11,
          12,
          13,
          14,
          15,
          16,
          17,
          18,
          19,
          20,
          21,
          22,
          23,
          24,
          25,
          26,
          27,
          28,
          29,
          30,
          31,
          32,
          33,
          34,
          35,
          36,
          37,
          38,
          39,
          40,
          41,
          42,
          43,
          44,
          45,
          46,
          47,
          48,
          49,
          50,
          51,
          52,
          53,
          54,
          55,
          56,
          57,
          58,
          59,
          60,
          61
         ],
         "title": {
          "text": "Protein domains and families (by Pfam)"
         },
         "type": "linear"
        }
       }
      },
      "image/png": "[encoded data removed]",
      "text/html": [
       "<div>                            <div id=\"219129f4-1de6-4fba-a390-59dedf05e9db\" class=\"plotly-graph-div\" style=\"height:1000px; width:1000px;\"></div>            <script type=\"text/javascript\">                require([\"plotly\"], function(Plotly) {                    window.PLOTLYENV=window.PLOTLYENV || {};                                    if (document.getElementById(\"219129f4-1de6-4fba-a390-59dedf05e9db\")) {                    Plotly.newPlot(                        \"219129f4-1de6-4fba-a390-59dedf05e9db\",                        [{\"marker\":{\"cmax\":1,\"cmin\":0,\"color\":[0.625,0.625,0.5,0.625,0.5,1.0,0.2,0.2,0.6,0.6,0.2,0.6,0.4,0.6,0.6,0.4,0.2,1.0,0.4,0.4,1.0,1.0,0.6,0.037037037037037,0.074074074074074,0.037037037037037,0.1851851851851851,0.1111111111111111,0.1111111111111111,0.1111111111111111,0.1481481481481481,0.1111111111111111,0.074074074074074,0.074074074074074,0.1481481481481481,0.1851851851851851,0.074074074074074,0.074074074074074,1.0,1.0,1.0,1.0,1.0,1.0,1.0,1.0,1.0,1.0,1.0,1.0,1.0,1.0,1.0,1.0,1.0,1.0,1.0,1.0,1.0,1.0,1.0,1.0,1.0,1.0,0.0869565217391304,0.1304347826086956,0.1304347826086956,0.1739130434782608,0.0869565217391304,0.1304347826086956,0.391304347826087,0.391304347826087,0.1304347826086956,0.1304347826086956,0.1304347826086956,0.1304347826086956,1.0,1.0,1.0,1.0,1.0,1.0,1.0,1.0,1.0,1.0,1.0,1.0,1.0,0.5,0.3333333333333333,0.5,0.5,0.4285714285714285,0.4285714285714285,0.7142857142857143,0.7142857142857143,1.0,1.0,0.6666666666666666,1.0,1.0,1.0,1.0,0.5,0.5,1.0,1.0,1.0,1.0,0.5,0.5,1.0,0.6,0.4,0.6,0.6,1.0,0.5,0.5,1.0,1.0,0.0606060606060606,0.0303030303030303,0.1515151515151515,0.1212121212121212,0.0909090909090909,0.9696969696969696,0.2727272727272727,0.0909090909090909,0.0909090909090909,0.0909090909090909,0.0909090909090909,0.0909090909090909,0.2727272727272727,0.6,0.4,0.4,0.4,0.6,0.238095238095238,0.1904761904761904,0.238095238095238,0.4761904761904761,0.1428571428571428,0.1428571428571428,0.1428571428571428,0.1428571428571428,0.3333333333333333,1.0,0.5,0.4,0.5,0.3,0.3,0.3,0.4,1.0,0.4,0.6666666666666666,1.0,1.0,1.0,1.0,1.0,0.25,0.25,0.25,0.25,0.5,1.0,1.0,0.2121212121212121,0.1212121212121212,0.1212121212121212,0.1212121212121212,0.1212121212121212,0.1515151515151515,0.1212121212121212,0.1212121212121212,0.1212121212121212,0.0909090909090909,0.0909090909090909,0.1515151515151515,0.0606060606060606,0.0909090909090909,0.1212121212121212,0.0606060606060606,0.0606060606060606,0.0909090909090909,0.0909090909090909,0.0909090909090909,0.0909090909090909,0.0909090909090909,0.0909090909090909,0.0909090909090909,0.0909090909090909,0.0909090909090909,0.0909090909090909,0.375,0.375,0.375,0.375,1.0,0.625,0.375,1.0,1.0,0.6666666666666666,1.0,1.0,1.0,1.0,1.0,1.0,0.2307692307692307,0.3846153846153846,0.2307692307692307,0.2307692307692307,0.2307692307692307,0.2307692307692307,0.2307692307692307,0.1935483870967742,0.0967741935483871,1.0,0.5,1.0,0.2857142857142857,0.75,0.0285714285714285,0.1142857142857142,0.1142857142857142,0.1142857142857142,0.0571428571428571,0.0285714285714285,0.1428571428571428,0.0857142857142857,0.0571428571428571,0.0857142857142857,0.2,0.0857142857142857,0.0857142857142857,0.1428571428571428,0.0571428571428571,0.0625,0.03125,0.15625,0.125,0.09375,1.0,0.28125,0.09375,0.09375,0.09375,0.09375,0.6666666666666666,0.5,0.5,0.5,0.5,0.5,0.5,0.7142857142857143,1.0,0.75,1.0,0.3,0.5,0.1666666666666666,0.1666666666666666,1.0,0.8,1.0,1.0,0.8,0.3333333333333333,0.3333333333333333,0.3333333333333333,0.3333333333333333,0.5,0.5,0.3333333333333333,0.5,1.0,1.0,1.0,0.5,0.5,1.0,0.3,0.3,0.2,0.2,0.2,0.2,0.3,0.3,0.8,0.5,0.3,0.2,1.0,1.0,0.4,0.1666666666666666,0.8333333333333334],\"colorbar\":{\"len\":0.5},\"colorscale\":[[0.0,\"rgb(247,251,255)\"],[0.125,\"rgb(222,235,247)\"],[0.25,\"rgb(198,219,239)\"],[0.375,\"rgb(158,202,225)\"],[0.5,\"rgb(107,174,214)\"],[0.625,\"rgb(66,146,198)\"],[0.75,\"rgb(33,113,181)\"],[0.875,\"rgb(8,81,156)\"],[1.0,\"rgb(8,48,107)\"]],\"showscale\":true,\"size\":[39.12023005428146,39.12023005428146,36.88879454113936,39.12023005428146,36.88879454113936,39.12023005428146,23.02585092994046,23.02585092994046,34.011973816621555,34.011973816621555,23.02585092994046,34.011973816621555,29.957322735539908,34.011973816621555,34.011973816621555,29.957322735539908,23.02585092994046,36.88879454113936,29.957322735539908,29.957322735539908,39.12023005428146,39.12023005428146,34.011973816621555,23.02585092994046,29.957322735539908,23.02585092994046,39.12023005428146,34.011973816621555,34.011973816621555,34.011973816621555,36.88879454113936,34.011973816621555,29.957322735539908,29.957322735539908,36.88879454113936,39.12023005428146,29.957322735539908,29.957322735539908,34.011973816621555,34.011973816621555,34.011973816621555,34.011973816621555,34.011973816621555,34.011973816621555,34.011973816621555,34.011973816621555,34.011973816621555,34.011973816621555,34.011973816621555,34.011973816621555,34.011973816621555,34.011973816621555,34.011973816621555,34.011973816621555,34.011973816621555,34.011973816621555,34.011973816621555,34.011973816621555,34.011973816621555,34.011973816621555,34.011973816621555,34.011973816621555,34.011973816621555,34.011973816621555,29.957322735539908,34.011973816621555,34.011973816621555,36.88879454113936,29.957322735539908,34.011973816621555,44.99809670330265,44.99809670330265,34.011973816621555,34.011973816621555,34.011973816621555,34.011973816621555,34.011973816621555,34.011973816621555,34.011973816621555,34.011973816621555,34.011973816621555,34.011973816621555,34.011973816621555,34.011973816621555,34.011973816621555,34.011973816621555,34.011973816621555,34.011973816621555,36.88879454113936,34.011973816621555,29.957322735539908,34.011973816621555,34.011973816621555,34.011973816621555,34.011973816621555,39.12023005428146,39.12023005428146,34.011973816621555,34.011973816621555,29.957322735539908,34.011973816621555,36.88879454113936,36.88879454113936,36.88879454113936,29.957322735539908,29.957322735539908,36.88879454113936,36.88879454113936,36.88879454113936,36.88879454113936,29.957322735539908,29.957322735539908,36.88879454113936,34.011973816621555,29.957322735539908,34.011973816621555,34.011973816621555,34.011973816621555,29.957322735539908,29.957322735539908,36.88879454113936,36.88879454113936,29.957322735539908,23.02585092994046,39.12023005428146,36.88879454113936,34.011973816621555,57.68320995793772,44.99809670330265,34.011973816621555,34.011973816621555,34.011973816621555,34.011973816621555,23.02585092994046,34.011973816621555,34.011973816621555,29.957322735539908,29.957322735539908,29.957322735539908,34.011973816621555,39.12023005428146,36.88879454113936,39.12023005428146,46.05170185988092,34.011973816621555,34.011973816621555,34.011973816621555,34.011973816621555,42.48495242049359,46.05170185988092,39.12023005428146,36.88879454113936,39.12023005428146,34.011973816621555,34.011973816621555,34.011973816621555,36.88879454113936,39.12023005428146,29.957322735539908,29.957322735539908,34.011973816621555,34.011973816621555,34.011973816621555,34.011973816621555,34.011973816621555,29.957322735539908,29.957322735539908,29.957322735539908,29.957322735539908,36.88879454113936,34.011973816621555,34.011973816621555,42.48495242049359,36.88879454113936,36.88879454113936,36.88879454113936,36.88879454113936,39.12023005428146,36.88879454113936,36.88879454113936,36.88879454113936,34.011973816621555,34.011973816621555,39.12023005428146,29.957322735539908,34.011973816621555,36.88879454113936,29.957322735539908,29.957322735539908,34.011973816621555,34.011973816621555,34.011973816621555,34.011973816621555,34.011973816621555,34.011973816621555,34.011973816621555,34.011973816621555,34.011973816621555,34.011973816621555,34.011973816621555,34.011973816621555,34.011973816621555,34.011973816621555,43.82026634673881,39.12023005428146,34.011973816621555,34.011973816621555,34.011973816621555,29.957322735539908,34.011973816621555,36.88879454113936,36.88879454113936,36.88879454113936,36.88879454113936,36.88879454113936,34.011973816621555,39.12023005428146,34.011973816621555,34.011973816621555,34.011973816621555,34.011973816621555,34.011973816621555,40.943445622221006,34.011973816621555,40.943445622221006,34.011973816621555,42.48495242049359,29.957322735539908,34.011973816621555,23.02585092994046,36.88879454113936,36.88879454113936,36.88879454113936,29.957322735539908,23.02585092994046,39.12023005428146,34.011973816621555,29.957322735539908,34.011973816621555,42.48495242049359,34.011973816621555,34.011973816621555,39.12023005428146,29.957322735539908,29.957322735539908,23.02585092994046,39.12023005428146,36.88879454113936,34.011973816621555,57.68320995793772,44.99809670330265,34.011973816621555,34.011973816621555,34.011973816621555,34.011973816621555,36.88879454113936,34.011973816621555,34.011973816621555,34.011973816621555,34.011973816621555,34.011973816621555,34.011973816621555,39.12023005428146,36.88879454113936,34.011973816621555,36.88879454113936,34.011973816621555,34.011973816621555,23.02585092994046,23.02585092994046,39.12023005428146,36.88879454113936,39.12023005428146,39.12023005428146,36.88879454113936,29.957322735539908,29.957322735539908,29.957322735539908,29.957322735539908,34.011973816621555,34.011973816621555,29.957322735539908,34.011973816621555,36.88879454113936,36.88879454113936,36.88879454113936,29.957322735539908,29.957322735539908,36.88879454113936,34.011973816621555,34.011973816621555,29.957322735539908,29.957322735539908,29.957322735539908,29.957322735539908,34.011973816621555,34.011973816621555,43.82026634673881,39.12023005428146,34.011973816621555,29.957322735539908,34.011973816621555,39.12023005428146,29.957322735539908,23.02585092994046,39.12023005428146],\"line\":{\"color\":\"DarkSlateGrey\",\"width\":1},\"sizemode\":\"area\",\"sizeref\":0.6},\"mode\":\"markers\",\"text\":[\"0.62%, 5 proteins\",\"0.62%, 5 proteins\",\"0.50%, 4 proteins\",\"0.62%, 5 proteins\",\"0.50%, 4 proteins\",\"1.00%, 5 proteins\",\"0.20%, 1 proteins\",\"0.20%, 1 proteins\",\"0.60%, 3 proteins\",\"0.60%, 3 proteins\",\"0.20%, 1 proteins\",\"0.60%, 3 proteins\",\"0.40%, 2 proteins\",\"0.60%, 3 proteins\",\"0.60%, 3 proteins\",\"0.40%, 2 proteins\",\"0.20%, 1 proteins\",\"1.00%, 4 proteins\",\"0.40%, 2 proteins\",\"0.40%, 2 proteins\",\"1.00%, 5 proteins\",\"1.00%, 5 proteins\",\"0.60%, 3 proteins\",\"0.04%, 1 proteins\",\"0.07%, 2 proteins\",\"0.04%, 1 proteins\",\"0.19%, 5 proteins\",\"0.11%, 3 proteins\",\"0.11%, 3 proteins\",\"0.11%, 3 proteins\",\"0.15%, 4 proteins\",\"0.11%, 3 proteins\",\"0.07%, 2 proteins\",\"0.07%, 2 proteins\",\"0.15%, 4 proteins\",\"0.19%, 5 proteins\",\"0.07%, 2 proteins\",\"0.07%, 2 proteins\",\"1.00%, 3 proteins\",\"1.00%, 3 proteins\",\"1.00%, 3 proteins\",\"1.00%, 3 proteins\",\"1.00%, 3 proteins\",\"1.00%, 3 proteins\",\"1.00%, 3 proteins\",\"1.00%, 3 proteins\",\"1.00%, 3 proteins\",\"1.00%, 3 proteins\",\"1.00%, 3 proteins\",\"1.00%, 3 proteins\",\"1.00%, 3 proteins\",\"1.00%, 3 proteins\",\"1.00%, 3 proteins\",\"1.00%, 3 proteins\",\"1.00%, 3 proteins\",\"1.00%, 3 proteins\",\"1.00%, 3 proteins\",\"1.00%, 3 proteins\",\"1.00%, 3 proteins\",\"1.00%, 3 proteins\",\"1.00%, 3 proteins\",\"1.00%, 3 proteins\",\"1.00%, 3 proteins\",\"1.00%, 3 proteins\",\"0.09%, 2 proteins\",\"0.13%, 3 proteins\",\"0.13%, 3 proteins\",\"0.17%, 4 proteins\",\"0.09%, 2 proteins\",\"0.13%, 3 proteins\",\"0.39%, 9 proteins\",\"0.39%, 9 proteins\",\"0.13%, 3 proteins\",\"0.13%, 3 proteins\",\"0.13%, 3 proteins\",\"0.13%, 3 proteins\",\"1.00%, 3 proteins\",\"1.00%, 3 proteins\",\"1.00%, 3 proteins\",\"1.00%, 3 proteins\",\"1.00%, 3 proteins\",\"1.00%, 3 proteins\",\"1.00%, 3 proteins\",\"1.00%, 3 proteins\",\"1.00%, 3 proteins\",\"1.00%, 3 proteins\",\"1.00%, 3 proteins\",\"1.00%, 3 proteins\",\"1.00%, 4 proteins\",\"0.50%, 3 proteins\",\"0.33%, 2 proteins\",\"0.50%, 3 proteins\",\"0.50%, 3 proteins\",\"0.43%, 3 proteins\",\"0.43%, 3 proteins\",\"0.71%, 5 proteins\",\"0.71%, 5 proteins\",\"1.00%, 3 proteins\",\"1.00%, 3 proteins\",\"0.67%, 2 proteins\",\"1.00%, 3 proteins\",\"1.00%, 4 proteins\",\"1.00%, 4 proteins\",\"1.00%, 4 proteins\",\"0.50%, 2 proteins\",\"0.50%, 2 proteins\",\"1.00%, 4 proteins\",\"1.00%, 4 proteins\",\"1.00%, 4 proteins\",\"1.00%, 4 proteins\",\"0.50%, 2 proteins\",\"0.50%, 2 proteins\",\"1.00%, 4 proteins\",\"0.60%, 3 proteins\",\"0.40%, 2 proteins\",\"0.60%, 3 proteins\",\"0.60%, 3 proteins\",\"1.00%, 3 proteins\",\"0.50%, 2 proteins\",\"0.50%, 2 proteins\",\"1.00%, 4 proteins\",\"1.00%, 4 proteins\",\"0.06%, 2 proteins\",\"0.03%, 1 proteins\",\"0.15%, 5 proteins\",\"0.12%, 4 proteins\",\"0.09%, 3 proteins\",\"0.97%, 32 proteins\",\"0.27%, 9 proteins\",\"0.09%, 3 proteins\",\"0.09%, 3 proteins\",\"0.09%, 3 proteins\",\"0.09%, 3 proteins\",\"0.09%, 1 proteins\",\"0.27%, 3 proteins\",\"0.60%, 3 proteins\",\"0.40%, 2 proteins\",\"0.40%, 2 proteins\",\"0.40%, 2 proteins\",\"0.60%, 3 proteins\",\"0.24%, 5 proteins\",\"0.19%, 4 proteins\",\"0.24%, 5 proteins\",\"0.48%, 10 proteins\",\"0.14%, 3 proteins\",\"0.14%, 3 proteins\",\"0.14%, 3 proteins\",\"0.14%, 3 proteins\",\"0.33%, 7 proteins\",\"1.00%, 10 proteins\",\"0.50%, 5 proteins\",\"0.40%, 4 proteins\",\"0.50%, 5 proteins\",\"0.30%, 3 proteins\",\"0.30%, 3 proteins\",\"0.30%, 3 proteins\",\"0.40%, 4 proteins\",\"1.00%, 5 proteins\",\"0.40%, 2 proteins\",\"0.67%, 2 proteins\",\"1.00%, 3 proteins\",\"1.00%, 3 proteins\",\"1.00%, 3 proteins\",\"1.00%, 3 proteins\",\"1.00%, 3 proteins\",\"0.25%, 2 proteins\",\"0.25%, 2 proteins\",\"0.25%, 2 proteins\",\"0.25%, 2 proteins\",\"0.50%, 4 proteins\",\"1.00%, 3 proteins\",\"1.00%, 3 proteins\",\"0.21%, 7 proteins\",\"0.12%, 4 proteins\",\"0.12%, 4 proteins\",\"0.12%, 4 proteins\",\"0.12%, 4 proteins\",\"0.15%, 5 proteins\",\"0.12%, 4 proteins\",\"0.12%, 4 proteins\",\"0.12%, 4 proteins\",\"0.09%, 3 proteins\",\"0.09%, 3 proteins\",\"0.15%, 5 proteins\",\"0.06%, 2 proteins\",\"0.09%, 3 proteins\",\"0.12%, 4 proteins\",\"0.06%, 2 proteins\",\"0.06%, 2 proteins\",\"0.09%, 3 proteins\",\"0.09%, 3 proteins\",\"0.09%, 3 proteins\",\"0.09%, 3 proteins\",\"0.09%, 3 proteins\",\"0.09%, 3 proteins\",\"0.09%, 3 proteins\",\"0.09%, 3 proteins\",\"0.09%, 3 proteins\",\"0.09%, 3 proteins\",\"0.38%, 3 proteins\",\"0.38%, 3 proteins\",\"0.38%, 3 proteins\",\"0.38%, 3 proteins\",\"1.00%, 8 proteins\",\"0.62%, 5 proteins\",\"0.38%, 3 proteins\",\"1.00%, 3 proteins\",\"1.00%, 3 proteins\",\"0.67%, 2 proteins\",\"1.00%, 3 proteins\",\"1.00%, 4 proteins\",\"1.00%, 4 proteins\",\"1.00%, 4 proteins\",\"1.00%, 4 proteins\",\"1.00%, 4 proteins\",\"0.23%, 3 proteins\",\"0.38%, 5 proteins\",\"0.23%, 3 proteins\",\"0.23%, 3 proteins\",\"0.23%, 3 proteins\",\"0.23%, 3 proteins\",\"0.23%, 3 proteins\",\"0.19%, 6 proteins\",\"0.10%, 3 proteins\",\"1.00%, 6 proteins\",\"0.50%, 3 proteins\",\"1.00%, 7 proteins\",\"0.29%, 2 proteins\",\"0.75%, 3 proteins\",\"0.03%, 1 proteins\",\"0.11%, 4 proteins\",\"0.11%, 4 proteins\",\"0.11%, 4 proteins\",\"0.06%, 2 proteins\",\"0.03%, 1 proteins\",\"0.14%, 5 proteins\",\"0.09%, 3 proteins\",\"0.06%, 2 proteins\",\"0.09%, 3 proteins\",\"0.20%, 7 proteins\",\"0.09%, 3 proteins\",\"0.09%, 3 proteins\",\"0.14%, 5 proteins\",\"0.06%, 2 proteins\",\"0.06%, 2 proteins\",\"0.03%, 1 proteins\",\"0.16%, 5 proteins\",\"0.12%, 4 proteins\",\"0.09%, 3 proteins\",\"1.00%, 32 proteins\",\"0.28%, 9 proteins\",\"0.09%, 3 proteins\",\"0.09%, 3 proteins\",\"0.09%, 3 proteins\",\"0.09%, 3 proteins\",\"0.67%, 4 proteins\",\"0.50%, 3 proteins\",\"0.50%, 3 proteins\",\"0.50%, 3 proteins\",\"0.50%, 3 proteins\",\"0.50%, 3 proteins\",\"0.50%, 3 proteins\",\"0.71%, 5 proteins\",\"1.00%, 4 proteins\",\"0.75%, 3 proteins\",\"1.00%, 4 proteins\",\"0.30%, 3 proteins\",\"0.50%, 3 proteins\",\"0.17%, 1 proteins\",\"0.17%, 1 proteins\",\"1.00%, 5 proteins\",\"0.80%, 4 proteins\",\"1.00%, 5 proteins\",\"1.00%, 5 proteins\",\"0.80%, 4 proteins\",\"0.33%, 2 proteins\",\"0.33%, 2 proteins\",\"0.33%, 2 proteins\",\"0.33%, 2 proteins\",\"0.50%, 3 proteins\",\"0.50%, 3 proteins\",\"0.33%, 2 proteins\",\"0.50%, 3 proteins\",\"1.00%, 4 proteins\",\"1.00%, 4 proteins\",\"1.00%, 4 proteins\",\"0.50%, 2 proteins\",\"0.50%, 2 proteins\",\"1.00%, 4 proteins\",\"0.30%, 3 proteins\",\"0.30%, 3 proteins\",\"0.20%, 2 proteins\",\"0.20%, 2 proteins\",\"0.20%, 2 proteins\",\"0.20%, 2 proteins\",\"0.30%, 3 proteins\",\"0.30%, 3 proteins\",\"0.80%, 8 proteins\",\"0.50%, 5 proteins\",\"0.30%, 3 proteins\",\"0.20%, 2 proteins\",\"1.00%, 3 proteins\",\"1.00%, 5 proteins\",\"0.40%, 2 proteins\",\"0.17%, 1 proteins\",\"0.83%, 5 proteins\"],\"x\":[0,1,2,4,54,5,8,18,20,39,5,6,7,9,10,18,19,18,18,45,55,56,57,5,8,19,20,21,22,23,27,36,40,45,50,54,55,56,25,26,5,19,20,54,55,56,57,58,59,61,54,55,56,57,58,59,60,54,55,56,57,58,60,61,5,40,47,48,49,54,55,56,58,59,60,61,57,18,27,54,54,54,55,56,57,59,60,61,57,6,7,8,10,18,20,21,22,14,15,17,31,5,11,13,14,21,54,5,11,12,14,21,54,6,7,8,9,28,18,40,55,56,18,37,40,45,54,56,57,58,59,60,61,38,46,0,14,15,16,54,1,2,3,4,17,21,22,24,54,0,1,2,3,21,22,24,54,29,54,7,8,9,10,24,54,6,8,9,10,43,32,33,0,1,2,3,4,5,11,12,13,14,17,18,21,24,27,29,30,36,42,51,55,56,57,58,59,60,61,0,4,18,20,21,23,24,14,16,17,34,0,1,3,4,54,5,18,19,21,22,23,39,26,41,25,41,5,57,37,8,11,12,13,14,18,19,20,21,39,49,52,53,54,57,18,37,40,45,54,55,57,58,59,60,61,7,0,4,21,22,42,54,38,18,36,54,5,44,55,56,0,2,3,4,54,5,11,12,13,15,16,17,54,5,12,13,14,21,54,0,4,5,11,12,13,18,20,22,23,24,54,5,30,54,28,35],\"y\":[0,0,0,0,0,1,1,1,1,1,2,2,2,2,2,2,2,3,4,4,4,4,4,5,5,5,5,5,5,5,5,5,5,5,5,5,5,5,6,6,7,7,7,8,8,8,8,8,8,8,9,9,9,9,9,9,9,10,10,10,10,10,10,10,11,11,11,11,11,11,11,11,11,11,11,11,12,13,13,13,14,15,15,15,15,15,15,15,16,17,17,17,17,18,18,18,18,19,19,19,20,21,21,21,21,21,21,22,22,22,22,22,22,23,23,23,23,24,25,25,25,25,26,26,26,26,26,26,26,26,26,26,26,27,27,28,28,28,28,28,29,29,29,29,29,29,29,29,29,30,30,30,30,30,30,30,30,31,31,32,32,32,32,33,33,34,34,34,34,34,35,36,37,37,37,37,37,37,37,37,37,37,37,37,37,37,37,37,37,37,37,37,37,37,37,37,37,37,37,38,38,38,38,38,38,38,39,39,39,40,41,41,41,41,41,42,42,42,42,42,42,42,43,43,44,44,45,45,46,47,47,47,47,47,47,47,47,47,47,47,47,47,47,47,48,48,48,48,48,48,48,48,48,48,48,49,50,50,50,50,50,50,51,52,52,52,53,54,54,54,55,55,55,55,55,56,56,56,56,56,56,56,56,57,57,57,57,57,57,58,58,58,58,58,58,58,58,58,58,58,58,59,60,60,61,61],\"type\":\"scatter\"}],                        {\"template\":{\"data\":{\"histogram2dcontour\":[{\"type\":\"histogram2dcontour\",\"colorbar\":{\"outlinewidth\":0,\"ticks\":\"\"},\"colorscale\":[[0.0,\"#0d0887\"],[0.1111111111111111,\"#46039f\"],[0.2222222222222222,\"#7201a8\"],[0.3333333333333333,\"#9c179e\"],[0.4444444444444444,\"#bd3786\"],[0.5555555555555556,\"#d8576b\"],[0.6666666666666666,\"#ed7953\"],[0.7777777777777778,\"#fb9f3a\"],[0.8888888888888888,\"#fdca26\"],[1.0,\"#f0f921\"]]}],\"choropleth\":[{\"type\":\"choropleth\",\"colorbar\":{\"outlinewidth\":0,\"ticks\":\"\"}}],\"histogram2d\":[{\"type\":\"histogram2d\",\"colorbar\":{\"outlinewidth\":0,\"ticks\":\"\"},\"colorscale\":[[0.0,\"#0d0887\"],[0.1111111111111111,\"#46039f\"],[0.2222222222222222,\"#7201a8\"],[0.3333333333333333,\"#9c179e\"],[0.4444444444444444,\"#bd3786\"],[0.5555555555555556,\"#d8576b\"],[0.6666666666666666,\"#ed7953\"],[0.7777777777777778,\"#fb9f3a\"],[0.8888888888888888,\"#fdca26\"],[1.0,\"#f0f921\"]]}],\"heatmap\":[{\"type\":\"heatmap\",\"colorbar\":{\"outlinewidth\":0,\"ticks\":\"\"},\"colorscale\":[[0.0,\"#0d0887\"],[0.1111111111111111,\"#46039f\"],[0.2222222222222222,\"#7201a8\"],[0.3333333333333333,\"#9c179e\"],[0.4444444444444444,\"#bd3786\"],[0.5555555555555556,\"#d8576b\"],[0.6666666666666666,\"#ed7953\"],[0.7777777777777778,\"#fb9f3a\"],[0.8888888888888888,\"#fdca26\"],[1.0,\"#f0f921\"]]}],\"heatmapgl\":[{\"type\":\"heatmapgl\",\"colorbar\":{\"outlinewidth\":0,\"ticks\":\"\"},\"colorscale\":[[0.0,\"#0d0887\"],[0.1111111111111111,\"#46039f\"],[0.2222222222222222,\"#7201a8\"],[0.3333333333333333,\"#9c179e\"],[0.4444444444444444,\"#bd3786\"],[0.5555555555555556,\"#d8576b\"],[0.6666666666666666,\"#ed7953\"],[0.7777777777777778,\"#fb9f3a\"],[0.8888888888888888,\"#fdca26\"],[1.0,\"#f0f921\"]]}],\"contourcarpet\":[{\"type\":\"contourcarpet\",\"colorbar\":{\"outlinewidth\":0,\"ticks\":\"\"}}],\"contour\":[{\"type\":\"contour\",\"colorbar\":{\"outlinewidth\":0,\"ticks\":\"\"},\"colorscale\":[[0.0,\"#0d0887\"],[0.1111111111111111,\"#46039f\"],[0.2222222222222222,\"#7201a8\"],[0.3333333333333333,\"#9c179e\"],[0.4444444444444444,\"#bd3786\"],[0.5555555555555556,\"#d8576b\"],[0.6666666666666666,\"#ed7953\"],[0.7777777777777778,\"#fb9f3a\"],[0.8888888888888888,\"#fdca26\"],[1.0,\"#f0f921\"]]}],\"surface\":[{\"type\":\"surface\",\"colorbar\":{\"outlinewidth\":0,\"ticks\":\"\"},\"colorscale\":[[0.0,\"#0d0887\"],[0.1111111111111111,\"#46039f\"],[0.2222222222222222,\"#7201a8\"],[0.3333333333333333,\"#9c179e\"],[0.4444444444444444,\"#bd3786\"],[0.5555555555555556,\"#d8576b\"],[0.6666666666666666,\"#ed7953\"],[0.7777777777777778,\"#fb9f3a\"],[0.8888888888888888,\"#fdca26\"],[1.0,\"#f0f921\"]]}],\"mesh3d\":[{\"type\":\"mesh3d\",\"colorbar\":{\"outlinewidth\":0,\"ticks\":\"\"}}],\"scatter\":[{\"fillpattern\":{\"fillmode\":\"overlay\",\"size\":10,\"solidity\":0.2},\"type\":\"scatter\"}],\"parcoords\":[{\"type\":\"parcoords\",\"line\":{\"colorbar\":{\"outlinewidth\":0,\"ticks\":\"\"}}}],\"scatterpolargl\":[{\"type\":\"scatterpolargl\",\"marker\":{\"colorbar\":{\"outlinewidth\":0,\"ticks\":\"\"}}}],\"bar\":[{\"error_x\":{\"color\":\"#2a3f5f\"},\"error_y\":{\"color\":\"#2a3f5f\"},\"marker\":{\"line\":{\"color\":\"#E5ECF6\",\"width\":0.5},\"pattern\":{\"fillmode\":\"overlay\",\"size\":10,\"solidity\":0.2}},\"type\":\"bar\"}],\"scattergeo\":[{\"type\":\"scattergeo\",\"marker\":{\"colorbar\":{\"outlinewidth\":0,\"ticks\":\"\"}}}],\"scatterpolar\":[{\"type\":\"scatterpolar\",\"marker\":{\"colorbar\":{\"outlinewidth\":0,\"ticks\":\"\"}}}],\"histogram\":[{\"marker\":{\"pattern\":{\"fillmode\":\"overlay\",\"size\":10,\"solidity\":0.2}},\"type\":\"histogram\"}],\"scattergl\":[{\"type\":\"scattergl\",\"marker\":{\"colorbar\":{\"outlinewidth\":0,\"ticks\":\"\"}}}],\"scatter3d\":[{\"type\":\"scatter3d\",\"line\":{\"colorbar\":{\"outlinewidth\":0,\"ticks\":\"\"}},\"marker\":{\"colorbar\":{\"outlinewidth\":0,\"ticks\":\"\"}}}],\"scattermapbox\":[{\"type\":\"scattermapbox\",\"marker\":{\"colorbar\":{\"outlinewidth\":0,\"ticks\":\"\"}}}],\"scatterternary\":[{\"type\":\"scatterternary\",\"marker\":{\"colorbar\":{\"outlinewidth\":0,\"ticks\":\"\"}}}],\"scattercarpet\":[{\"type\":\"scattercarpet\",\"marker\":{\"colorbar\":{\"outlinewidth\":0,\"ticks\":\"\"}}}],\"carpet\":[{\"aaxis\":{\"endlinecolor\":\"#2a3f5f\",\"gridcolor\":\"white\",\"linecolor\":\"white\",\"minorgridcolor\":\"white\",\"startlinecolor\":\"#2a3f5f\"},\"baxis\":{\"endlinecolor\":\"#2a3f5f\",\"gridcolor\":\"white\",\"linecolor\":\"white\",\"minorgridcolor\":\"white\",\"startlinecolor\":\"#2a3f5f\"},\"type\":\"carpet\"}],\"table\":[{\"cells\":{\"fill\":{\"color\":\"#EBF0F8\"},\"line\":{\"color\":\"white\"}},\"header\":{\"fill\":{\"color\":\"#C8D4E3\"},\"line\":{\"color\":\"white\"}},\"type\":\"table\"}],\"barpolar\":[{\"marker\":{\"line\":{\"color\":\"#E5ECF6\",\"width\":0.5},\"pattern\":{\"fillmode\":\"overlay\",\"size\":10,\"solidity\":0.2}},\"type\":\"barpolar\"}],\"pie\":[{\"automargin\":true,\"type\":\"pie\"}]},\"layout\":{\"autotypenumbers\":\"strict\",\"colorway\":[\"#636efa\",\"#EF553B\",\"#00cc96\",\"#ab63fa\",\"#FFA15A\",\"#19d3f3\",\"#FF6692\",\"#B6E880\",\"#FF97FF\",\"#FECB52\"],\"font\":{\"color\":\"#2a3f5f\"},\"hovermode\":\"closest\",\"hoverlabel\":{\"align\":\"left\"},\"paper_bgcolor\":\"white\",\"plot_bgcolor\":\"#E5ECF6\",\"polar\":{\"bgcolor\":\"#E5ECF6\",\"angularaxis\":{\"gridcolor\":\"white\",\"linecolor\":\"white\",\"ticks\":\"\"},\"radialaxis\":{\"gridcolor\":\"white\",\"linecolor\":\"white\",\"ticks\":\"\"}},\"ternary\":{\"bgcolor\":\"#E5ECF6\",\"aaxis\":{\"gridcolor\":\"white\",\"linecolor\":\"white\",\"ticks\":\"\"},\"baxis\":{\"gridcolor\":\"white\",\"linecolor\":\"white\",\"ticks\":\"\"},\"caxis\":{\"gridcolor\":\"white\",\"linecolor\":\"white\",\"ticks\":\"\"}},\"coloraxis\":{\"colorbar\":{\"outlinewidth\":0,\"ticks\":\"\"}},\"colorscale\":{\"sequential\":[[0.0,\"#0d0887\"],[0.1111111111111111,\"#46039f\"],[0.2222222222222222,\"#7201a8\"],[0.3333333333333333,\"#9c179e\"],[0.4444444444444444,\"#bd3786\"],[0.5555555555555556,\"#d8576b\"],[0.6666666666666666,\"#ed7953\"],[0.7777777777777778,\"#fb9f3a\"],[0.8888888888888888,\"#fdca26\"],[1.0,\"#f0f921\"]],\"sequentialminus\":[[0.0,\"#0d0887\"],[0.1111111111111111,\"#46039f\"],[0.2222222222222222,\"#7201a8\"],[0.3333333333333333,\"#9c179e\"],[0.4444444444444444,\"#bd3786\"],[0.5555555555555556,\"#d8576b\"],[0.6666666666666666,\"#ed7953\"],[0.7777777777777778,\"#fb9f3a\"],[0.8888888888888888,\"#fdca26\"],[1.0,\"#f0f921\"]],\"diverging\":[[0,\"#8e0152\"],[0.1,\"#c51b7d\"],[0.2,\"#de77ae\"],[0.3,\"#f1b6da\"],[0.4,\"#fde0ef\"],[0.5,\"#f7f7f7\"],[0.6,\"#e6f5d0\"],[0.7,\"#b8e186\"],[0.8,\"#7fbc41\"],[0.9,\"#4d9221\"],[1,\"#276419\"]]},\"xaxis\":{\"gridcolor\":\"white\",\"linecolor\":\"white\",\"ticks\":\"\",\"title\":{\"standoff\":15},\"zerolinecolor\":\"white\",\"automargin\":true,\"zerolinewidth\":2},\"yaxis\":{\"gridcolor\":\"white\",\"linecolor\":\"white\",\"ticks\":\"\",\"title\":{\"standoff\":15},\"zerolinecolor\":\"white\",\"automargin\":true,\"zerolinewidth\":2},\"scene\":{\"xaxis\":{\"backgroundcolor\":\"#E5ECF6\",\"gridcolor\":\"white\",\"linecolor\":\"white\",\"showbackground\":true,\"ticks\":\"\",\"zerolinecolor\":\"white\",\"gridwidth\":2},\"yaxis\":{\"backgroundcolor\":\"#E5ECF6\",\"gridcolor\":\"white\",\"linecolor\":\"white\",\"showbackground\":true,\"ticks\":\"\",\"zerolinecolor\":\"white\",\"gridwidth\":2},\"zaxis\":{\"backgroundcolor\":\"#E5ECF6\",\"gridcolor\":\"white\",\"linecolor\":\"white\",\"showbackground\":true,\"ticks\":\"\",\"zerolinecolor\":\"white\",\"gridwidth\":2}},\"shapedefaults\":{\"line\":{\"color\":\"#2a3f5f\"}},\"annotationdefaults\":{\"arrowcolor\":\"#2a3f5f\",\"arrowhead\":0,\"arrowwidth\":1},\"geo\":{\"bgcolor\":\"white\",\"landcolor\":\"#E5ECF6\",\"subunitcolor\":\"white\",\"showland\":true,\"showlakes\":true,\"lakecolor\":\"white\"},\"title\":{\"x\":0.05},\"mapbox\":{\"style\":\"light\"}}},\"xaxis\":{\"tickmode\":\"array\",\"tickvals\":[0,1,2,3,4,5,6,7,8,9,10,11,12,13,14,15,16,17,18,19,20,21,22,23,24,25,26,27,28,29,30,31,32,33,34,35,36,37,38,39,40,41,42,43,44,45,46,47,48,49,50,51,52,53,54,55,56,57,58,59,60,61],\"ticktext\":[\"JmjC\",\"zf-C5HC2\",\"PLU-1\",\"ARID\",\"JmjN\",\"SET\",\"MTA_R1\",\"Myb_DNA-binding\",\"BAH\",\"ELM2\",\"GATA\",\"zf-HC5HC2H\",\"FYRC\",\"FYRN\",\"zf-CXXC\",\"PHD_4\",\"F-box\",\"JHD\",\"Bromodomain\",\"AWS\",\"PWWP\",\"zf-HC5HC2H_2\",\"PHD_2\",\"EPL1\",\"Tudor_2\",\"Pkinase\",\"Pkinase_C\",\"WSD\",\"Hist_deacetyl\",\"zf-MYST\",\"MOZ_SAS\",\"PI3_PI4_kinase\",\"PAS_11\",\"PAS\",\"FATC\",\"UCH\",\"DDT\",\"zf-C3HC4_2\",\"zf-UBP\",\"C5HCH\",\"BRK\",\"C1_1\",\"Mtf2_C\",\"SWIRM\",\"RAWUL\",\"HSA\",\"HDAC4_Gln\",\"Chromo_shadow\",\"ECH_1\",\"Pre-SET\",\"BET\",\"DPF1-3_N\",\"zf-C2H2\",\"zf-MYND\",\"PHD\",\"Helicase_C\",\"SNF2-rel_dom\",\"Chromo\",\"DUF1087\",\"CHDNT\",\"CHDCT2\",\"CHDII_SANT-like\"],\"constrain\":\"domain\",\"scaleanchor\":\"y\",\"showticklabels\":false,\"automargin\":true},\"yaxis\":{\"tickmode\":\"array\",\"tickvals\":[0,1,2,3,4,5,6,7,8,9,10,11,12,13,14,15,16,17,18,19,20,21,22,23,24,25,26,27,28,29,30,31,32,33,34,35,36,37,38,39,40,41,42,43,44,45,46,47,48,49,50,51,52,53,54,55,56,57,58,59,60,61],\"ticktext\":[\"ARID\",\"AWS\",\"BAH\",\"BET\",\"BRK\",\"Bromodomain\",\"C1_1\",\"C5HCH\",\"CHDCT2\",\"CHDII_SANT-like\",\"CHDNT\",\"Chromo\",\"Chromo_shadow\",\"DDT\",\"DPF1-3_N\",\"DUF1087\",\"ECH_1\",\"ELM2\",\"EPL1\",\"F-box\",\"FATC\",\"FYRC\",\"FYRN\",\"GATA\",\"HDAC4_Gln\",\"HSA\",\"Helicase_C\",\"Hist_deacetyl\",\"JHD\",\"JmjC\",\"JmjN\",\"MOZ_SAS\",\"MTA_R1\",\"Mtf2_C\",\"Myb_DNA-binding\",\"PAS\",\"PAS_11\",\"PHD\",\"PHD_2\",\"PHD_4\",\"PI3_PI4_kinase\",\"PLU-1\",\"PWWP\",\"Pkinase\",\"Pkinase_C\",\"Pre-SET\",\"RAWUL\",\"SET\",\"SNF2-rel_dom\",\"SWIRM\",\"Tudor_2\",\"UCH\",\"WSD\",\"zf-C2H2\",\"zf-C3HC4_2\",\"zf-C5HC2\",\"zf-CXXC\",\"zf-HC5HC2H\",\"zf-HC5HC2H_2\",\"zf-MYND\",\"zf-MYST\",\"zf-UBP\"],\"autorange\":\"reversed\",\"scaleanchor\":\"x\",\"constrain\":\"domain\",\"title\":{\"text\":\"Protein domains and families (by Pfam)\"},\"showticklabels\":false,\"automargin\":true},\"margin\":{\"l\":30,\"r\":100,\"t\":1,\"b\":1},\"height\":1000,\"width\":1000,\"annotations\":[{\"align\":\"right\",\"bgcolor\":\"rgba(165.0, 42.0, 42.0, 0.5)\",\"borderpad\":0,\"borderwidth\":0,\"font\":{\"color\":\"black\",\"size\":11},\"height\":13,\"hovertext\":\"ARID\\u003cbr\\u003eDNA binding\",\"name\":\"lol\",\"opacity\":1.0,\"showarrow\":false,\"text\":\"ARID\",\"textangle\":0,\"valign\":\"middle\",\"width\":100,\"x\":-0.5,\"xanchor\":\"right\",\"y\":0.5,\"yanchor\":\"bottom\"},{\"align\":\"right\",\"bgcolor\":\"rgba(165.0, 42.0, 42.0, 0.5)\",\"borderpad\":0,\"borderwidth\":0,\"font\":{\"color\":\"black\",\"size\":11},\"height\":13,\"hovertext\":\"AWS\\u003cbr\\u003eDNA binding\",\"name\":\"lol\",\"opacity\":1.0,\"showarrow\":false,\"text\":\"AWS\",\"textangle\":0,\"valign\":\"middle\",\"width\":100,\"x\":-0.5,\"xanchor\":\"right\",\"y\":1.5,\"yanchor\":\"bottom\"},{\"align\":\"right\",\"bgcolor\":\"rgba(211.0, 211.0, 211.0, 0.5)\",\"borderpad\":0,\"borderwidth\":0,\"font\":{\"color\":\"black\",\"size\":11},\"height\":13,\"hovertext\":\"BAH\\u003cbr\\u003eOther\",\"name\":\"lol\",\"opacity\":1.0,\"showarrow\":false,\"text\":\"BAH\",\"textangle\":0,\"valign\":\"middle\",\"width\":100,\"x\":-0.5,\"xanchor\":\"right\",\"y\":2.5,\"yanchor\":\"bottom\"},{\"align\":\"right\",\"bgcolor\":\"rgba(211.0, 211.0, 211.0, 0.5)\",\"borderpad\":0,\"borderwidth\":0,\"font\":{\"color\":\"black\",\"size\":11},\"height\":13,\"hovertext\":\"BET\\u003cbr\\u003eOther\",\"name\":\"lol\",\"opacity\":1.0,\"showarrow\":false,\"text\":\"BET\",\"textangle\":0,\"valign\":\"middle\",\"width\":100,\"x\":-0.5,\"xanchor\":\"right\",\"y\":3.5,\"yanchor\":\"bottom\"},{\"align\":\"right\",\"bgcolor\":\"rgba(211.0, 211.0, 211.0, 0.5)\",\"borderpad\":0,\"borderwidth\":0,\"font\":{\"color\":\"black\",\"size\":11},\"height\":13,\"hovertext\":\"BRK\\u003cbr\\u003eOther\",\"name\":\"lol\",\"opacity\":1.0,\"showarrow\":false,\"text\":\"BRK\",\"textangle\":0,\"valign\":\"middle\",\"width\":100,\"x\":-0.5,\"xanchor\":\"right\",\"y\":4.5,\"yanchor\":\"bottom\"},{\"align\":\"right\",\"bgcolor\":\"rgba(255.0, 0.0, 0.0, 0.5)\",\"borderpad\":0,\"borderwidth\":0,\"font\":{\"color\":\"black\",\"size\":11},\"height\":13,\"hovertext\":\"Bromodomain\\u003cbr\\u003eWriter of histone Ac\",\"name\":\"lol\",\"opacity\":1.0,\"showarrow\":false,\"text\":\"Bromodomain\",\"textangle\":0,\"valign\":\"middle\",\"width\":100,\"x\":-0.5,\"xanchor\":\"right\",\"y\":5.5,\"yanchor\":\"bottom\"},{\"align\":\"right\",\"bgcolor\":\"rgba(211.0, 211.0, 211.0, 0.5)\",\"borderpad\":0,\"borderwidth\":0,\"font\":{\"color\":\"black\",\"size\":11},\"height\":13,\"hovertext\":\"C1_1\\u003cbr\\u003eOther\",\"name\":\"lol\",\"opacity\":1.0,\"showarrow\":false,\"text\":\"C1_1\",\"textangle\":0,\"valign\":\"middle\",\"width\":100,\"x\":-0.5,\"xanchor\":\"right\",\"y\":6.5,\"yanchor\":\"bottom\"},{\"align\":\"right\",\"bgcolor\":\"rgba(255.0, 255.0, 0.0, 0.5)\",\"borderpad\":0,\"borderwidth\":0,\"font\":{\"color\":\"black\",\"size\":11},\"height\":13,\"hovertext\":\"C5HCH\\u003cbr\\u003eReader of histone Me\",\"name\":\"lol\",\"opacity\":1.0,\"showarrow\":false,\"text\":\"C5HCH\",\"textangle\":0,\"valign\":\"middle\",\"width\":100,\"x\":-0.5,\"xanchor\":\"right\",\"y\":7.5,\"yanchor\":\"bottom\"},{\"align\":\"right\",\"bgcolor\":\"rgba(211.0, 211.0, 211.0, 0.5)\",\"borderpad\":0,\"borderwidth\":0,\"font\":{\"color\":\"black\",\"size\":11},\"height\":13,\"hovertext\":\"CHDCT2\\u003cbr\\u003eOther\",\"name\":\"lol\",\"opacity\":1.0,\"showarrow\":false,\"text\":\"CHDCT2\",\"textangle\":0,\"valign\":\"middle\",\"width\":100,\"x\":-0.5,\"xanchor\":\"right\",\"y\":8.5,\"yanchor\":\"bottom\"},{\"align\":\"right\",\"bgcolor\":\"rgba(255.0, 192.0, 203.0, 0.5)\",\"borderpad\":0,\"borderwidth\":0,\"font\":{\"color\":\"black\",\"size\":11},\"height\":13,\"hovertext\":\"CHDII_SANT-like\\u003cbr\\u003eChromarin remodelers\",\"name\":\"lol\",\"opacity\":1.0,\"showarrow\":false,\"text\":\"CHDII_SANT-like\",\"textangle\":0,\"valign\":\"middle\",\"width\":100,\"x\":-0.5,\"xanchor\":\"right\",\"y\":9.5,\"yanchor\":\"bottom\"},{\"align\":\"right\",\"bgcolor\":\"rgba(211.0, 211.0, 211.0, 0.5)\",\"borderpad\":0,\"borderwidth\":0,\"font\":{\"color\":\"black\",\"size\":11},\"height\":13,\"hovertext\":\"CHDNT\\u003cbr\\u003eOther\",\"name\":\"lol\",\"opacity\":1.0,\"showarrow\":false,\"text\":\"CHDNT\",\"textangle\":0,\"valign\":\"middle\",\"width\":100,\"x\":-0.5,\"xanchor\":\"right\",\"y\":10.5,\"yanchor\":\"bottom\"},{\"align\":\"right\",\"bgcolor\":\"rgba(255.0, 255.0, 0.0, 0.5)\",\"borderpad\":0,\"borderwidth\":0,\"font\":{\"color\":\"black\",\"size\":11},\"height\":13,\"hovertext\":\"Chromo\\u003cbr\\u003eReader of histone Me\",\"name\":\"lol\",\"opacity\":1.0,\"showarrow\":false,\"text\":\"Chromo\",\"textangle\":0,\"valign\":\"middle\",\"width\":100,\"x\":-0.5,\"xanchor\":\"right\",\"y\":11.5,\"yanchor\":\"bottom\"},{\"align\":\"right\",\"bgcolor\":\"rgba(255.0, 192.0, 203.0, 0.5)\",\"borderpad\":0,\"borderwidth\":0,\"font\":{\"color\":\"black\",\"size\":11},\"height\":13,\"hovertext\":\"Chromo_shadow\\u003cbr\\u003eChromarin remodelers\",\"name\":\"lol\",\"opacity\":1.0,\"showarrow\":false,\"text\":\"Chromo_shadow\",\"textangle\":0,\"valign\":\"middle\",\"width\":100,\"x\":-0.5,\"xanchor\":\"right\",\"y\":12.5,\"yanchor\":\"bottom\"},{\"align\":\"right\",\"bgcolor\":\"rgba(211.0, 211.0, 211.0, 0.5)\",\"borderpad\":0,\"borderwidth\":0,\"font\":{\"color\":\"black\",\"size\":11},\"height\":13,\"hovertext\":\"DDT\\u003cbr\\u003eOther\",\"name\":\"lol\",\"opacity\":1.0,\"showarrow\":false,\"text\":\"DDT\",\"textangle\":0,\"valign\":\"middle\",\"width\":100,\"x\":-0.5,\"xanchor\":\"right\",\"y\":13.5,\"yanchor\":\"bottom\"},{\"align\":\"right\",\"bgcolor\":\"rgba(255.0, 192.0, 203.0, 0.5)\",\"borderpad\":0,\"borderwidth\":0,\"font\":{\"color\":\"black\",\"size\":11},\"height\":13,\"hovertext\":\"DPF1-3_N\\u003cbr\\u003eChromarin remodelers\",\"name\":\"lol\",\"opacity\":1.0,\"showarrow\":false,\"text\":\"DPF1-3_N\",\"textangle\":0,\"valign\":\"middle\",\"width\":100,\"x\":-0.5,\"xanchor\":\"right\",\"y\":14.5,\"yanchor\":\"bottom\"},{\"align\":\"right\",\"bgcolor\":\"rgba(255.0, 192.0, 203.0, 0.5)\",\"borderpad\":0,\"borderwidth\":0,\"font\":{\"color\":\"black\",\"size\":11},\"height\":13,\"hovertext\":\"DUF1087\\u003cbr\\u003eChromarin remodelers\",\"name\":\"lol\",\"opacity\":1.0,\"showarrow\":false,\"text\":\"DUF1087\",\"textangle\":0,\"valign\":\"middle\",\"width\":100,\"x\":-0.5,\"xanchor\":\"right\",\"y\":15.5,\"yanchor\":\"bottom\"},{\"align\":\"right\",\"bgcolor\":\"rgba(211.0, 211.0, 211.0, 0.5)\",\"borderpad\":0,\"borderwidth\":0,\"font\":{\"color\":\"black\",\"size\":11},\"height\":13,\"hovertext\":\"ECH_1\\u003cbr\\u003eOther\",\"name\":\"lol\",\"opacity\":1.0,\"showarrow\":false,\"text\":\"ECH_1\",\"textangle\":0,\"valign\":\"middle\",\"width\":100,\"x\":-0.5,\"xanchor\":\"right\",\"y\":16.5,\"yanchor\":\"bottom\"},{\"align\":\"right\",\"bgcolor\":\"rgba(211.0, 211.0, 211.0, 0.5)\",\"borderpad\":0,\"borderwidth\":0,\"font\":{\"color\":\"black\",\"size\":11},\"height\":13,\"hovertext\":\"ELM2\\u003cbr\\u003eOther\",\"name\":\"lol\",\"opacity\":1.0,\"showarrow\":false,\"text\":\"ELM2\",\"textangle\":0,\"valign\":\"middle\",\"width\":100,\"x\":-0.5,\"xanchor\":\"right\",\"y\":17.5,\"yanchor\":\"bottom\"},{\"align\":\"right\",\"bgcolor\":\"rgba(221.0, 160.0, 221.0, 0.5)\",\"borderpad\":0,\"borderwidth\":0,\"font\":{\"color\":\"black\",\"size\":11},\"height\":13,\"hovertext\":\"EPL1\\u003cbr\\u003eEraser of histone Ac\",\"name\":\"lol\",\"opacity\":1.0,\"showarrow\":false,\"text\":\"EPL1\",\"textangle\":0,\"valign\":\"middle\",\"width\":100,\"x\":-0.5,\"xanchor\":\"right\",\"y\":18.5,\"yanchor\":\"bottom\"},{\"align\":\"right\",\"bgcolor\":\"rgba(211.0, 211.0, 211.0, 0.5)\",\"borderpad\":0,\"borderwidth\":0,\"font\":{\"color\":\"black\",\"size\":11},\"height\":13,\"hovertext\":\"F-box\\u003cbr\\u003eOther\",\"name\":\"lol\",\"opacity\":1.0,\"showarrow\":false,\"text\":\"F-box\",\"textangle\":0,\"valign\":\"middle\",\"width\":100,\"x\":-0.5,\"xanchor\":\"right\",\"y\":19.5,\"yanchor\":\"bottom\"},{\"align\":\"right\",\"bgcolor\":\"rgba(211.0, 211.0, 211.0, 0.5)\",\"borderpad\":0,\"borderwidth\":0,\"font\":{\"color\":\"black\",\"size\":11},\"height\":13,\"hovertext\":\"FATC\\u003cbr\\u003eOther\",\"name\":\"lol\",\"opacity\":1.0,\"showarrow\":false,\"text\":\"FATC\",\"textangle\":0,\"valign\":\"middle\",\"width\":100,\"x\":-0.5,\"xanchor\":\"right\",\"y\":20.5,\"yanchor\":\"bottom\"},{\"align\":\"right\",\"bgcolor\":\"rgba(128.0, 128.0, 0.0, 0.5)\",\"borderpad\":0,\"borderwidth\":0,\"font\":{\"color\":\"black\",\"size\":11},\"height\":13,\"hovertext\":\"FYRC\\u003cbr\\u003eWriter of histone Me\",\"name\":\"lol\",\"opacity\":1.0,\"showarrow\":false,\"text\":\"FYRC\",\"textangle\":0,\"valign\":\"middle\",\"width\":100,\"x\":-0.5,\"xanchor\":\"right\",\"y\":21.5,\"yanchor\":\"bottom\"},{\"align\":\"right\",\"bgcolor\":\"rgba(128.0, 128.0, 0.0, 0.5)\",\"borderpad\":0,\"borderwidth\":0,\"font\":{\"color\":\"black\",\"size\":11},\"height\":13,\"hovertext\":\"FYRN\\u003cbr\\u003eWriter of histone Me\",\"name\":\"lol\",\"opacity\":1.0,\"showarrow\":false,\"text\":\"FYRN\",\"textangle\":0,\"valign\":\"middle\",\"width\":100,\"x\":-0.5,\"xanchor\":\"right\",\"y\":22.5,\"yanchor\":\"bottom\"},{\"align\":\"right\",\"bgcolor\":\"rgba(165.0, 42.0, 42.0, 0.5)\",\"borderpad\":0,\"borderwidth\":0,\"font\":{\"color\":\"black\",\"size\":11},\"height\":13,\"hovertext\":\"GATA\\u003cbr\\u003eDNA binding\",\"name\":\"lol\",\"opacity\":1.0,\"showarrow\":false,\"text\":\"GATA\",\"textangle\":0,\"valign\":\"middle\",\"width\":100,\"x\":-0.5,\"xanchor\":\"right\",\"y\":23.5,\"yanchor\":\"bottom\"},{\"align\":\"right\",\"bgcolor\":\"rgba(95.0, 158.0, 160.0, 0.5)\",\"borderpad\":0,\"borderwidth\":0,\"font\":{\"color\":\"black\",\"size\":11},\"height\":13,\"hovertext\":\"HDAC4_Gln\\u003cbr\\u003eReader of histone Ac\",\"name\":\"lol\",\"opacity\":1.0,\"showarrow\":false,\"text\":\"HDAC4_Gln\",\"textangle\":0,\"valign\":\"middle\",\"width\":100,\"x\":-0.5,\"xanchor\":\"right\",\"y\":24.5,\"yanchor\":\"bottom\"},{\"align\":\"right\",\"bgcolor\":\"rgba(255.0, 192.0, 203.0, 0.5)\",\"borderpad\":0,\"borderwidth\":0,\"font\":{\"color\":\"black\",\"size\":11},\"height\":13,\"hovertext\":\"HSA\\u003cbr\\u003eChromarin remodelers\",\"name\":\"lol\",\"opacity\":1.0,\"showarrow\":false,\"text\":\"HSA\",\"textangle\":0,\"valign\":\"middle\",\"width\":100,\"x\":-0.5,\"xanchor\":\"right\",\"y\":25.5,\"yanchor\":\"bottom\"},{\"align\":\"right\",\"bgcolor\":\"rgba(255.0, 192.0, 203.0, 0.5)\",\"borderpad\":0,\"borderwidth\":0,\"font\":{\"color\":\"black\",\"size\":11},\"height\":13,\"hovertext\":\"Helicase_C\\u003cbr\\u003eChromarin remodelers\",\"name\":\"lol\",\"opacity\":1.0,\"showarrow\":false,\"text\":\"Helicase_C\",\"textangle\":0,\"valign\":\"middle\",\"width\":100,\"x\":-0.5,\"xanchor\":\"right\",\"y\":26.5,\"yanchor\":\"bottom\"},{\"align\":\"right\",\"bgcolor\":\"rgba(95.0, 158.0, 160.0, 0.5)\",\"borderpad\":0,\"borderwidth\":0,\"font\":{\"color\":\"black\",\"size\":11},\"height\":13,\"hovertext\":\"Hist_deacetyl\\u003cbr\\u003eReader of histone Ac\",\"name\":\"lol\",\"opacity\":1.0,\"showarrow\":false,\"text\":\"Hist_deacetyl\",\"textangle\":0,\"valign\":\"middle\",\"width\":100,\"x\":-0.5,\"xanchor\":\"right\",\"y\":27.5,\"yanchor\":\"bottom\"},{\"align\":\"right\",\"bgcolor\":\"rgba(211.0, 211.0, 211.0, 0.5)\",\"borderpad\":0,\"borderwidth\":0,\"font\":{\"color\":\"black\",\"size\":11},\"height\":13,\"hovertext\":\"JHD\\u003cbr\\u003eOther\",\"name\":\"lol\",\"opacity\":1.0,\"showarrow\":false,\"text\":\"JHD\",\"textangle\":0,\"valign\":\"middle\",\"width\":100,\"x\":-0.5,\"xanchor\":\"right\",\"y\":28.5,\"yanchor\":\"bottom\"},{\"align\":\"right\",\"bgcolor\":\"rgba(0.0, 128.0, 0.0, 0.5)\",\"borderpad\":0,\"borderwidth\":0,\"font\":{\"color\":\"black\",\"size\":11},\"height\":13,\"hovertext\":\"JmjC\\u003cbr\\u003eEraser of histone Me\",\"name\":\"lol\",\"opacity\":1.0,\"showarrow\":false,\"text\":\"JmjC\",\"textangle\":0,\"valign\":\"middle\",\"width\":100,\"x\":-0.5,\"xanchor\":\"right\",\"y\":29.5,\"yanchor\":\"bottom\"},{\"align\":\"right\",\"bgcolor\":\"rgba(0.0, 128.0, 0.0, 0.5)\",\"borderpad\":0,\"borderwidth\":0,\"font\":{\"color\":\"black\",\"size\":11},\"height\":13,\"hovertext\":\"JmjN\\u003cbr\\u003eEraser of histone Me\",\"name\":\"lol\",\"opacity\":1.0,\"showarrow\":false,\"text\":\"JmjN\",\"textangle\":0,\"valign\":\"middle\",\"width\":100,\"x\":-0.5,\"xanchor\":\"right\",\"y\":30.5,\"yanchor\":\"bottom\"},{\"align\":\"right\",\"bgcolor\":\"rgba(221.0, 160.0, 221.0, 0.5)\",\"borderpad\":0,\"borderwidth\":0,\"font\":{\"color\":\"black\",\"size\":11},\"height\":13,\"hovertext\":\"MOZ_SAS\\u003cbr\\u003eEraser of histone Ac\",\"name\":\"lol\",\"opacity\":1.0,\"showarrow\":false,\"text\":\"MOZ_SAS\",\"textangle\":0,\"valign\":\"middle\",\"width\":100,\"x\":-0.5,\"xanchor\":\"right\",\"y\":31.5,\"yanchor\":\"bottom\"},{\"align\":\"right\",\"bgcolor\":\"rgba(211.0, 211.0, 211.0, 0.5)\",\"borderpad\":0,\"borderwidth\":0,\"font\":{\"color\":\"black\",\"size\":11},\"height\":13,\"hovertext\":\"MTA_R1\\u003cbr\\u003eOther\",\"name\":\"lol\",\"opacity\":1.0,\"showarrow\":false,\"text\":\"MTA_R1\",\"textangle\":0,\"valign\":\"middle\",\"width\":100,\"x\":-0.5,\"xanchor\":\"right\",\"y\":32.5,\"yanchor\":\"bottom\"},{\"align\":\"right\",\"bgcolor\":\"rgba(211.0, 211.0, 211.0, 0.5)\",\"borderpad\":0,\"borderwidth\":0,\"font\":{\"color\":\"black\",\"size\":11},\"height\":13,\"hovertext\":\"Mtf2_C\\u003cbr\\u003eOther\",\"name\":\"lol\",\"opacity\":1.0,\"showarrow\":false,\"text\":\"Mtf2_C\",\"textangle\":0,\"valign\":\"middle\",\"width\":100,\"x\":-0.5,\"xanchor\":\"right\",\"y\":33.5,\"yanchor\":\"bottom\"},{\"align\":\"right\",\"bgcolor\":\"rgba(165.0, 42.0, 42.0, 0.5)\",\"borderpad\":0,\"borderwidth\":0,\"font\":{\"color\":\"black\",\"size\":11},\"height\":13,\"hovertext\":\"Myb_DNA-binding\\u003cbr\\u003eDNA binding\",\"name\":\"lol\",\"opacity\":1.0,\"showarrow\":false,\"text\":\"Myb_DNA-binding\",\"textangle\":0,\"valign\":\"middle\",\"width\":100,\"x\":-0.5,\"xanchor\":\"right\",\"y\":34.5,\"yanchor\":\"bottom\"},{\"align\":\"right\",\"bgcolor\":\"rgba(211.0, 211.0, 211.0, 0.5)\",\"borderpad\":0,\"borderwidth\":0,\"font\":{\"color\":\"black\",\"size\":11},\"height\":13,\"hovertext\":\"PAS\\u003cbr\\u003eOther\",\"name\":\"lol\",\"opacity\":1.0,\"showarrow\":false,\"text\":\"PAS\",\"textangle\":0,\"valign\":\"middle\",\"width\":100,\"x\":-0.5,\"xanchor\":\"right\",\"y\":35.5,\"yanchor\":\"bottom\"},{\"align\":\"right\",\"bgcolor\":\"rgba(211.0, 211.0, 211.0, 0.5)\",\"borderpad\":0,\"borderwidth\":0,\"font\":{\"color\":\"black\",\"size\":11},\"height\":13,\"hovertext\":\"PAS_11\\u003cbr\\u003eOther\",\"name\":\"lol\",\"opacity\":1.0,\"showarrow\":false,\"text\":\"PAS_11\",\"textangle\":0,\"valign\":\"middle\",\"width\":100,\"x\":-0.5,\"xanchor\":\"right\",\"y\":36.5,\"yanchor\":\"bottom\"},{\"align\":\"right\",\"bgcolor\":\"rgba(255.0, 255.0, 0.0, 0.5)\",\"borderpad\":0,\"borderwidth\":0,\"font\":{\"color\":\"black\",\"size\":11},\"height\":13,\"hovertext\":\"PHD\\u003cbr\\u003eReader of histone Me\",\"name\":\"lol\",\"opacity\":1.0,\"showarrow\":false,\"text\":\"PHD\",\"textangle\":0,\"valign\":\"middle\",\"width\":100,\"x\":-0.5,\"xanchor\":\"right\",\"y\":37.5,\"yanchor\":\"bottom\"},{\"align\":\"right\",\"bgcolor\":\"rgba(255.0, 255.0, 0.0, 0.5)\",\"borderpad\":0,\"borderwidth\":0,\"font\":{\"color\":\"black\",\"size\":11},\"height\":13,\"hovertext\":\"PHD_2\\u003cbr\\u003eReader of histone Me\",\"name\":\"lol\",\"opacity\":1.0,\"showarrow\":false,\"text\":\"PHD_2\",\"textangle\":0,\"valign\":\"middle\",\"width\":100,\"x\":-0.5,\"xanchor\":\"right\",\"y\":38.5,\"yanchor\":\"bottom\"},{\"align\":\"right\",\"bgcolor\":\"rgba(165.0, 42.0, 42.0, 0.5)\",\"borderpad\":0,\"borderwidth\":0,\"font\":{\"color\":\"black\",\"size\":11},\"height\":13,\"hovertext\":\"PHD_4\\u003cbr\\u003eDNA binding\",\"name\":\"lol\",\"opacity\":1.0,\"showarrow\":false,\"text\":\"PHD_4\",\"textangle\":0,\"valign\":\"middle\",\"width\":100,\"x\":-0.5,\"xanchor\":\"right\",\"y\":39.5,\"yanchor\":\"bottom\"},{\"align\":\"right\",\"bgcolor\":\"rgba(0.0, 0.0, 255.0, 0.5)\",\"borderpad\":0,\"borderwidth\":0,\"font\":{\"color\":\"black\",\"size\":11},\"height\":13,\"hovertext\":\"PI3_PI4_kinase\\u003cbr\\u003eWriter of (histone) Ph\",\"name\":\"lol\",\"opacity\":1.0,\"showarrow\":false,\"text\":\"PI3_PI4_kinase\",\"textangle\":0,\"valign\":\"middle\",\"width\":100,\"x\":-0.5,\"xanchor\":\"right\",\"y\":40.5,\"yanchor\":\"bottom\"},{\"align\":\"right\",\"bgcolor\":\"rgba(165.0, 42.0, 42.0, 0.5)\",\"borderpad\":0,\"borderwidth\":0,\"font\":{\"color\":\"black\",\"size\":11},\"height\":13,\"hovertext\":\"PLU-1\\u003cbr\\u003eDNA binding\",\"name\":\"lol\",\"opacity\":1.0,\"showarrow\":false,\"text\":\"PLU-1\",\"textangle\":0,\"valign\":\"middle\",\"width\":100,\"x\":-0.5,\"xanchor\":\"right\",\"y\":41.5,\"yanchor\":\"bottom\"},{\"align\":\"right\",\"bgcolor\":\"rgba(255.0, 255.0, 0.0, 0.5)\",\"borderpad\":0,\"borderwidth\":0,\"font\":{\"color\":\"black\",\"size\":11},\"height\":13,\"hovertext\":\"PWWP\\u003cbr\\u003eReader of histone Me\",\"name\":\"lol\",\"opacity\":1.0,\"showarrow\":false,\"text\":\"PWWP\",\"textangle\":0,\"valign\":\"middle\",\"width\":100,\"x\":-0.5,\"xanchor\":\"right\",\"y\":42.5,\"yanchor\":\"bottom\"},{\"align\":\"right\",\"bgcolor\":\"rgba(0.0, 0.0, 255.0, 0.5)\",\"borderpad\":0,\"borderwidth\":0,\"font\":{\"color\":\"black\",\"size\":11},\"height\":13,\"hovertext\":\"Pkinase\\u003cbr\\u003eWriter of (histone) Ph\",\"name\":\"lol\",\"opacity\":1.0,\"showarrow\":false,\"text\":\"Pkinase\",\"textangle\":0,\"valign\":\"middle\",\"width\":100,\"x\":-0.5,\"xanchor\":\"right\",\"y\":43.5,\"yanchor\":\"bottom\"},{\"align\":\"right\",\"bgcolor\":\"rgba(0.0, 0.0, 255.0, 0.5)\",\"borderpad\":0,\"borderwidth\":0,\"font\":{\"color\":\"black\",\"size\":11},\"height\":13,\"hovertext\":\"Pkinase_C\\u003cbr\\u003eWriter of (histone) Ph\",\"name\":\"lol\",\"opacity\":1.0,\"showarrow\":false,\"text\":\"Pkinase_C\",\"textangle\":0,\"valign\":\"middle\",\"width\":100,\"x\":-0.5,\"xanchor\":\"right\",\"y\":44.5,\"yanchor\":\"bottom\"},{\"align\":\"right\",\"bgcolor\":\"rgba(128.0, 128.0, 0.0, 0.5)\",\"borderpad\":0,\"borderwidth\":0,\"font\":{\"color\":\"black\",\"size\":11},\"height\":13,\"hovertext\":\"Pre-SET\\u003cbr\\u003eWriter of histone Me\",\"name\":\"lol\",\"opacity\":1.0,\"showarrow\":false,\"text\":\"Pre-SET\",\"textangle\":0,\"valign\":\"middle\",\"width\":100,\"x\":-0.5,\"xanchor\":\"right\",\"y\":45.5,\"yanchor\":\"bottom\"},{\"align\":\"right\",\"bgcolor\":\"rgba(211.0, 211.0, 211.0, 0.5)\",\"borderpad\":0,\"borderwidth\":0,\"font\":{\"color\":\"black\",\"size\":11},\"height\":13,\"hovertext\":\"RAWUL\\u003cbr\\u003eOther\",\"name\":\"lol\",\"opacity\":1.0,\"showarrow\":false,\"text\":\"RAWUL\",\"textangle\":0,\"valign\":\"middle\",\"width\":100,\"x\":-0.5,\"xanchor\":\"right\",\"y\":46.5,\"yanchor\":\"bottom\"},{\"align\":\"right\",\"bgcolor\":\"rgba(128.0, 128.0, 0.0, 0.5)\",\"borderpad\":0,\"borderwidth\":0,\"font\":{\"color\":\"black\",\"size\":11},\"height\":13,\"hovertext\":\"SET\\u003cbr\\u003eWriter of histone Me\",\"name\":\"lol\",\"opacity\":1.0,\"showarrow\":false,\"text\":\"SET\",\"textangle\":0,\"valign\":\"middle\",\"width\":100,\"x\":-0.5,\"xanchor\":\"right\",\"y\":47.5,\"yanchor\":\"bottom\"},{\"align\":\"right\",\"bgcolor\":\"rgba(255.0, 192.0, 203.0, 0.5)\",\"borderpad\":0,\"borderwidth\":0,\"font\":{\"color\":\"black\",\"size\":11},\"height\":13,\"hovertext\":\"SNF2-rel_dom\\u003cbr\\u003eChromarin remodelers\",\"name\":\"lol\",\"opacity\":1.0,\"showarrow\":false,\"text\":\"SNF2-rel_dom\",\"textangle\":0,\"valign\":\"middle\",\"width\":100,\"x\":-0.5,\"xanchor\":\"right\",\"y\":48.5,\"yanchor\":\"bottom\"},{\"align\":\"right\",\"bgcolor\":\"rgba(165.0, 42.0, 42.0, 0.5)\",\"borderpad\":0,\"borderwidth\":0,\"font\":{\"color\":\"black\",\"size\":11},\"height\":13,\"hovertext\":\"SWIRM\\u003cbr\\u003eDNA binding\",\"name\":\"lol\",\"opacity\":1.0,\"showarrow\":false,\"text\":\"SWIRM\",\"textangle\":0,\"valign\":\"middle\",\"width\":100,\"x\":-0.5,\"xanchor\":\"right\",\"y\":49.5,\"yanchor\":\"bottom\"},{\"align\":\"right\",\"bgcolor\":\"rgba(255.0, 255.0, 0.0, 0.5)\",\"borderpad\":0,\"borderwidth\":0,\"font\":{\"color\":\"black\",\"size\":11},\"height\":13,\"hovertext\":\"Tudor_2\\u003cbr\\u003eReader of histone Me\",\"name\":\"lol\",\"opacity\":1.0,\"showarrow\":false,\"text\":\"Tudor_2\",\"textangle\":0,\"valign\":\"middle\",\"width\":100,\"x\":-0.5,\"xanchor\":\"right\",\"y\":50.5,\"yanchor\":\"bottom\"},{\"align\":\"right\",\"bgcolor\":\"rgba(211.0, 211.0, 211.0, 0.5)\",\"borderpad\":0,\"borderwidth\":0,\"font\":{\"color\":\"black\",\"size\":11},\"height\":13,\"hovertext\":\"UCH\\u003cbr\\u003eOther\",\"name\":\"lol\",\"opacity\":1.0,\"showarrow\":false,\"text\":\"UCH\",\"textangle\":0,\"valign\":\"middle\",\"width\":100,\"x\":-0.5,\"xanchor\":\"right\",\"y\":51.5,\"yanchor\":\"bottom\"},{\"align\":\"right\",\"bgcolor\":\"rgba(165.0, 42.0, 42.0, 0.5)\",\"borderpad\":0,\"borderwidth\":0,\"font\":{\"color\":\"black\",\"size\":11},\"height\":13,\"hovertext\":\"WSD\\u003cbr\\u003eDNA binding\",\"name\":\"lol\",\"opacity\":1.0,\"showarrow\":false,\"text\":\"WSD\",\"textangle\":0,\"valign\":\"middle\",\"width\":100,\"x\":-0.5,\"xanchor\":\"right\",\"y\":52.5,\"yanchor\":\"bottom\"},{\"align\":\"right\",\"bgcolor\":\"rgba(165.0, 42.0, 42.0, 0.5)\",\"borderpad\":0,\"borderwidth\":0,\"font\":{\"color\":\"black\",\"size\":11},\"height\":13,\"hovertext\":\"zf-C2H2\\u003cbr\\u003eDNA binding\",\"name\":\"lol\",\"opacity\":1.0,\"showarrow\":false,\"text\":\"zf-C2H2\",\"textangle\":0,\"valign\":\"middle\",\"width\":100,\"x\":-0.5,\"xanchor\":\"right\",\"y\":53.5,\"yanchor\":\"bottom\"},{\"align\":\"right\",\"bgcolor\":\"rgba(165.0, 42.0, 42.0, 0.5)\",\"borderpad\":0,\"borderwidth\":0,\"font\":{\"color\":\"black\",\"size\":11},\"height\":13,\"hovertext\":\"zf-C3HC4_2\\u003cbr\\u003eDNA binding\",\"name\":\"lol\",\"opacity\":1.0,\"showarrow\":false,\"text\":\"zf-C3HC4_2\",\"textangle\":0,\"valign\":\"middle\",\"width\":100,\"x\":-0.5,\"xanchor\":\"right\",\"y\":54.5,\"yanchor\":\"bottom\"},{\"align\":\"right\",\"bgcolor\":\"rgba(165.0, 42.0, 42.0, 0.5)\",\"borderpad\":0,\"borderwidth\":0,\"font\":{\"color\":\"black\",\"size\":11},\"height\":13,\"hovertext\":\"zf-C5HC2\\u003cbr\\u003eDNA binding\",\"name\":\"lol\",\"opacity\":1.0,\"showarrow\":false,\"text\":\"zf-C5HC2\",\"textangle\":0,\"valign\":\"middle\",\"width\":100,\"x\":-0.5,\"xanchor\":\"right\",\"y\":55.5,\"yanchor\":\"bottom\"},{\"align\":\"right\",\"bgcolor\":\"rgba(165.0, 42.0, 42.0, 0.5)\",\"borderpad\":0,\"borderwidth\":0,\"font\":{\"color\":\"black\",\"size\":11},\"height\":13,\"hovertext\":\"zf-CXXC\\u003cbr\\u003eDNA binding\",\"name\":\"lol\",\"opacity\":1.0,\"showarrow\":false,\"text\":\"zf-CXXC\",\"textangle\":0,\"valign\":\"middle\",\"width\":100,\"x\":-0.5,\"xanchor\":\"right\",\"y\":56.5,\"yanchor\":\"bottom\"},{\"align\":\"right\",\"bgcolor\":\"rgba(165.0, 42.0, 42.0, 0.5)\",\"borderpad\":0,\"borderwidth\":0,\"font\":{\"color\":\"black\",\"size\":11},\"height\":13,\"hovertext\":\"zf-HC5HC2H\\u003cbr\\u003eDNA binding\",\"name\":\"lol\",\"opacity\":1.0,\"showarrow\":false,\"text\":\"zf-HC5HC2H\",\"textangle\":0,\"valign\":\"middle\",\"width\":100,\"x\":-0.5,\"xanchor\":\"right\",\"y\":57.5,\"yanchor\":\"bottom\"},{\"align\":\"right\",\"bgcolor\":\"rgba(165.0, 42.0, 42.0, 0.5)\",\"borderpad\":0,\"borderwidth\":0,\"font\":{\"color\":\"black\",\"size\":11},\"height\":13,\"hovertext\":\"zf-HC5HC2H_2\\u003cbr\\u003eDNA binding\",\"name\":\"lol\",\"opacity\":1.0,\"showarrow\":false,\"text\":\"zf-HC5HC2H_2\",\"textangle\":0,\"valign\":\"middle\",\"width\":100,\"x\":-0.5,\"xanchor\":\"right\",\"y\":58.5,\"yanchor\":\"bottom\"},{\"align\":\"right\",\"bgcolor\":\"rgba(211.0, 211.0, 211.0, 0.5)\",\"borderpad\":0,\"borderwidth\":0,\"font\":{\"color\":\"black\",\"size\":11},\"height\":13,\"hovertext\":\"zf-MYND\\u003cbr\\u003eOther\",\"name\":\"lol\",\"opacity\":1.0,\"showarrow\":false,\"text\":\"zf-MYND\",\"textangle\":0,\"valign\":\"middle\",\"width\":100,\"x\":-0.5,\"xanchor\":\"right\",\"y\":59.5,\"yanchor\":\"bottom\"},{\"align\":\"right\",\"bgcolor\":\"rgba(221.0, 160.0, 221.0, 0.5)\",\"borderpad\":0,\"borderwidth\":0,\"font\":{\"color\":\"black\",\"size\":11},\"height\":13,\"hovertext\":\"zf-MYST\\u003cbr\\u003eEraser of histone Ac\",\"name\":\"lol\",\"opacity\":1.0,\"showarrow\":false,\"text\":\"zf-MYST\",\"textangle\":0,\"valign\":\"middle\",\"width\":100,\"x\":-0.5,\"xanchor\":\"right\",\"y\":60.5,\"yanchor\":\"bottom\"},{\"align\":\"right\",\"bgcolor\":\"rgba(211.0, 211.0, 211.0, 0.5)\",\"borderpad\":0,\"borderwidth\":0,\"font\":{\"color\":\"black\",\"size\":11},\"height\":13,\"hovertext\":\"zf-UBP\\u003cbr\\u003eOther\",\"name\":\"lol\",\"opacity\":1.0,\"showarrow\":false,\"text\":\"zf-UBP\",\"textangle\":0,\"valign\":\"middle\",\"width\":100,\"x\":-0.5,\"xanchor\":\"right\",\"y\":61.5,\"yanchor\":\"bottom\"},{\"align\":\"right\",\"bgcolor\":\"rgba(0.0, 128.0, 0.0, 0.5)\",\"borderpad\":0,\"borderwidth\":0,\"font\":{\"color\":\"black\",\"size\":11},\"height\":13,\"hovertext\":\"JmjC\\u003cbr\\u003eEraser of histone Me\",\"name\":\"lol\",\"opacity\":1.0,\"showarrow\":false,\"text\":\"JmjC\",\"textangle\":90,\"valign\":\"middle\",\"width\":100,\"x\":0.5,\"xanchor\":\"right\",\"y\":-0.5,\"yanchor\":\"bottom\"},{\"align\":\"right\",\"bgcolor\":\"rgba(165.0, 42.0, 42.0, 0.5)\",\"borderpad\":0,\"borderwidth\":0,\"font\":{\"color\":\"black\",\"size\":11},\"height\":13,\"hovertext\":\"zf-C5HC2\\u003cbr\\u003eDNA binding\",\"name\":\"lol\",\"opacity\":1.0,\"showarrow\":false,\"text\":\"zf-C5HC2\",\"textangle\":90,\"valign\":\"middle\",\"width\":100,\"x\":1.5,\"xanchor\":\"right\",\"y\":-0.5,\"yanchor\":\"bottom\"},{\"align\":\"right\",\"bgcolor\":\"rgba(165.0, 42.0, 42.0, 0.5)\",\"borderpad\":0,\"borderwidth\":0,\"font\":{\"color\":\"black\",\"size\":11},\"height\":13,\"hovertext\":\"PLU-1\\u003cbr\\u003eDNA binding\",\"name\":\"lol\",\"opacity\":1.0,\"showarrow\":false,\"text\":\"PLU-1\",\"textangle\":90,\"valign\":\"middle\",\"width\":100,\"x\":2.5,\"xanchor\":\"right\",\"y\":-0.5,\"yanchor\":\"bottom\"},{\"align\":\"right\",\"bgcolor\":\"rgba(165.0, 42.0, 42.0, 0.5)\",\"borderpad\":0,\"borderwidth\":0,\"font\":{\"color\":\"black\",\"size\":11},\"height\":13,\"hovertext\":\"ARID\\u003cbr\\u003eDNA binding\",\"name\":\"lol\",\"opacity\":1.0,\"showarrow\":false,\"text\":\"ARID\",\"textangle\":90,\"valign\":\"middle\",\"width\":100,\"x\":3.5,\"xanchor\":\"right\",\"y\":-0.5,\"yanchor\":\"bottom\"},{\"align\":\"right\",\"bgcolor\":\"rgba(0.0, 128.0, 0.0, 0.5)\",\"borderpad\":0,\"borderwidth\":0,\"font\":{\"color\":\"black\",\"size\":11},\"height\":13,\"hovertext\":\"JmjN\\u003cbr\\u003eEraser of histone Me\",\"name\":\"lol\",\"opacity\":1.0,\"showarrow\":false,\"text\":\"JmjN\",\"textangle\":90,\"valign\":\"middle\",\"width\":100,\"x\":4.5,\"xanchor\":\"right\",\"y\":-0.5,\"yanchor\":\"bottom\"},{\"align\":\"right\",\"bgcolor\":\"rgba(128.0, 128.0, 0.0, 0.5)\",\"borderpad\":0,\"borderwidth\":0,\"font\":{\"color\":\"black\",\"size\":11},\"height\":13,\"hovertext\":\"SET\\u003cbr\\u003eWriter of histone Me\",\"name\":\"lol\",\"opacity\":1.0,\"showarrow\":false,\"text\":\"SET\",\"textangle\":90,\"valign\":\"middle\",\"width\":100,\"x\":5.5,\"xanchor\":\"right\",\"y\":-0.5,\"yanchor\":\"bottom\"},{\"align\":\"right\",\"bgcolor\":\"rgba(211.0, 211.0, 211.0, 0.5)\",\"borderpad\":0,\"borderwidth\":0,\"font\":{\"color\":\"black\",\"size\":11},\"height\":13,\"hovertext\":\"MTA_R1\\u003cbr\\u003eOther\",\"name\":\"lol\",\"opacity\":1.0,\"showarrow\":false,\"text\":\"MTA_R1\",\"textangle\":90,\"valign\":\"middle\",\"width\":100,\"x\":6.5,\"xanchor\":\"right\",\"y\":-0.5,\"yanchor\":\"bottom\"},{\"align\":\"right\",\"bgcolor\":\"rgba(165.0, 42.0, 42.0, 0.5)\",\"borderpad\":0,\"borderwidth\":0,\"font\":{\"color\":\"black\",\"size\":11},\"height\":13,\"hovertext\":\"Myb_DNA-binding\\u003cbr\\u003eDNA binding\",\"name\":\"lol\",\"opacity\":1.0,\"showarrow\":false,\"text\":\"Myb_DNA-binding\",\"textangle\":90,\"valign\":\"middle\",\"width\":100,\"x\":7.5,\"xanchor\":\"right\",\"y\":-0.5,\"yanchor\":\"bottom\"},{\"align\":\"right\",\"bgcolor\":\"rgba(211.0, 211.0, 211.0, 0.5)\",\"borderpad\":0,\"borderwidth\":0,\"font\":{\"color\":\"black\",\"size\":11},\"height\":13,\"hovertext\":\"BAH\\u003cbr\\u003eOther\",\"name\":\"lol\",\"opacity\":1.0,\"showarrow\":false,\"text\":\"BAH\",\"textangle\":90,\"valign\":\"middle\",\"width\":100,\"x\":8.5,\"xanchor\":\"right\",\"y\":-0.5,\"yanchor\":\"bottom\"},{\"align\":\"right\",\"bgcolor\":\"rgba(211.0, 211.0, 211.0, 0.5)\",\"borderpad\":0,\"borderwidth\":0,\"font\":{\"color\":\"black\",\"size\":11},\"height\":13,\"hovertext\":\"ELM2\\u003cbr\\u003eOther\",\"name\":\"lol\",\"opacity\":1.0,\"showarrow\":false,\"text\":\"ELM2\",\"textangle\":90,\"valign\":\"middle\",\"width\":100,\"x\":9.5,\"xanchor\":\"right\",\"y\":-0.5,\"yanchor\":\"bottom\"},{\"align\":\"right\",\"bgcolor\":\"rgba(165.0, 42.0, 42.0, 0.5)\",\"borderpad\":0,\"borderwidth\":0,\"font\":{\"color\":\"black\",\"size\":11},\"height\":13,\"hovertext\":\"GATA\\u003cbr\\u003eDNA binding\",\"name\":\"lol\",\"opacity\":1.0,\"showarrow\":false,\"text\":\"GATA\",\"textangle\":90,\"valign\":\"middle\",\"width\":100,\"x\":10.5,\"xanchor\":\"right\",\"y\":-0.5,\"yanchor\":\"bottom\"},{\"align\":\"right\",\"bgcolor\":\"rgba(165.0, 42.0, 42.0, 0.5)\",\"borderpad\":0,\"borderwidth\":0,\"font\":{\"color\":\"black\",\"size\":11},\"height\":13,\"hovertext\":\"zf-HC5HC2H\\u003cbr\\u003eDNA binding\",\"name\":\"lol\",\"opacity\":1.0,\"showarrow\":false,\"text\":\"zf-HC5HC2H\",\"textangle\":90,\"valign\":\"middle\",\"width\":100,\"x\":11.5,\"xanchor\":\"right\",\"y\":-0.5,\"yanchor\":\"bottom\"},{\"align\":\"right\",\"bgcolor\":\"rgba(128.0, 128.0, 0.0, 0.5)\",\"borderpad\":0,\"borderwidth\":0,\"font\":{\"color\":\"black\",\"size\":11},\"height\":13,\"hovertext\":\"FYRC\\u003cbr\\u003eWriter of histone Me\",\"name\":\"lol\",\"opacity\":1.0,\"showarrow\":false,\"text\":\"FYRC\",\"textangle\":90,\"valign\":\"middle\",\"width\":100,\"x\":12.5,\"xanchor\":\"right\",\"y\":-0.5,\"yanchor\":\"bottom\"},{\"align\":\"right\",\"bgcolor\":\"rgba(128.0, 128.0, 0.0, 0.5)\",\"borderpad\":0,\"borderwidth\":0,\"font\":{\"color\":\"black\",\"size\":11},\"height\":13,\"hovertext\":\"FYRN\\u003cbr\\u003eWriter of histone Me\",\"name\":\"lol\",\"opacity\":1.0,\"showarrow\":false,\"text\":\"FYRN\",\"textangle\":90,\"valign\":\"middle\",\"width\":100,\"x\":13.5,\"xanchor\":\"right\",\"y\":-0.5,\"yanchor\":\"bottom\"},{\"align\":\"right\",\"bgcolor\":\"rgba(165.0, 42.0, 42.0, 0.5)\",\"borderpad\":0,\"borderwidth\":0,\"font\":{\"color\":\"black\",\"size\":11},\"height\":13,\"hovertext\":\"zf-CXXC\\u003cbr\\u003eDNA binding\",\"name\":\"lol\",\"opacity\":1.0,\"showarrow\":false,\"text\":\"zf-CXXC\",\"textangle\":90,\"valign\":\"middle\",\"width\":100,\"x\":14.5,\"xanchor\":\"right\",\"y\":-0.5,\"yanchor\":\"bottom\"},{\"align\":\"right\",\"bgcolor\":\"rgba(165.0, 42.0, 42.0, 0.5)\",\"borderpad\":0,\"borderwidth\":0,\"font\":{\"color\":\"black\",\"size\":11},\"height\":13,\"hovertext\":\"PHD_4\\u003cbr\\u003eDNA binding\",\"name\":\"lol\",\"opacity\":1.0,\"showarrow\":false,\"text\":\"PHD_4\",\"textangle\":90,\"valign\":\"middle\",\"width\":100,\"x\":15.5,\"xanchor\":\"right\",\"y\":-0.5,\"yanchor\":\"bottom\"},{\"align\":\"right\",\"bgcolor\":\"rgba(211.0, 211.0, 211.0, 0.5)\",\"borderpad\":0,\"borderwidth\":0,\"font\":{\"color\":\"black\",\"size\":11},\"height\":13,\"hovertext\":\"F-box\\u003cbr\\u003eOther\",\"name\":\"lol\",\"opacity\":1.0,\"showarrow\":false,\"text\":\"F-box\",\"textangle\":90,\"valign\":\"middle\",\"width\":100,\"x\":16.5,\"xanchor\":\"right\",\"y\":-0.5,\"yanchor\":\"bottom\"},{\"align\":\"right\",\"bgcolor\":\"rgba(211.0, 211.0, 211.0, 0.5)\",\"borderpad\":0,\"borderwidth\":0,\"font\":{\"color\":\"black\",\"size\":11},\"height\":13,\"hovertext\":\"JHD\\u003cbr\\u003eOther\",\"name\":\"lol\",\"opacity\":1.0,\"showarrow\":false,\"text\":\"JHD\",\"textangle\":90,\"valign\":\"middle\",\"width\":100,\"x\":17.5,\"xanchor\":\"right\",\"y\":-0.5,\"yanchor\":\"bottom\"},{\"align\":\"right\",\"bgcolor\":\"rgba(255.0, 0.0, 0.0, 0.5)\",\"borderpad\":0,\"borderwidth\":0,\"font\":{\"color\":\"black\",\"size\":11},\"height\":13,\"hovertext\":\"Bromodomain\\u003cbr\\u003eWriter of histone Ac\",\"name\":\"lol\",\"opacity\":1.0,\"showarrow\":false,\"text\":\"Bromodomain\",\"textangle\":90,\"valign\":\"middle\",\"width\":100,\"x\":18.5,\"xanchor\":\"right\",\"y\":-0.5,\"yanchor\":\"bottom\"},{\"align\":\"right\",\"bgcolor\":\"rgba(165.0, 42.0, 42.0, 0.5)\",\"borderpad\":0,\"borderwidth\":0,\"font\":{\"color\":\"black\",\"size\":11},\"height\":13,\"hovertext\":\"AWS\\u003cbr\\u003eDNA binding\",\"name\":\"lol\",\"opacity\":1.0,\"showarrow\":false,\"text\":\"AWS\",\"textangle\":90,\"valign\":\"middle\",\"width\":100,\"x\":19.5,\"xanchor\":\"right\",\"y\":-0.5,\"yanchor\":\"bottom\"},{\"align\":\"right\",\"bgcolor\":\"rgba(255.0, 255.0, 0.0, 0.5)\",\"borderpad\":0,\"borderwidth\":0,\"font\":{\"color\":\"black\",\"size\":11},\"height\":13,\"hovertext\":\"PWWP\\u003cbr\\u003eReader of histone Me\",\"name\":\"lol\",\"opacity\":1.0,\"showarrow\":false,\"text\":\"PWWP\",\"textangle\":90,\"valign\":\"middle\",\"width\":100,\"x\":20.5,\"xanchor\":\"right\",\"y\":-0.5,\"yanchor\":\"bottom\"},{\"align\":\"right\",\"bgcolor\":\"rgba(165.0, 42.0, 42.0, 0.5)\",\"borderpad\":0,\"borderwidth\":0,\"font\":{\"color\":\"black\",\"size\":11},\"height\":13,\"hovertext\":\"zf-HC5HC2H_2\\u003cbr\\u003eDNA binding\",\"name\":\"lol\",\"opacity\":1.0,\"showarrow\":false,\"text\":\"zf-HC5HC2H_2\",\"textangle\":90,\"valign\":\"middle\",\"width\":100,\"x\":21.5,\"xanchor\":\"right\",\"y\":-0.5,\"yanchor\":\"bottom\"},{\"align\":\"right\",\"bgcolor\":\"rgba(255.0, 255.0, 0.0, 0.5)\",\"borderpad\":0,\"borderwidth\":0,\"font\":{\"color\":\"black\",\"size\":11},\"height\":13,\"hovertext\":\"PHD_2\\u003cbr\\u003eReader of histone Me\",\"name\":\"lol\",\"opacity\":1.0,\"showarrow\":false,\"text\":\"PHD_2\",\"textangle\":90,\"valign\":\"middle\",\"width\":100,\"x\":22.5,\"xanchor\":\"right\",\"y\":-0.5,\"yanchor\":\"bottom\"},{\"align\":\"right\",\"bgcolor\":\"rgba(221.0, 160.0, 221.0, 0.5)\",\"borderpad\":0,\"borderwidth\":0,\"font\":{\"color\":\"black\",\"size\":11},\"height\":13,\"hovertext\":\"EPL1\\u003cbr\\u003eEraser of histone Ac\",\"name\":\"lol\",\"opacity\":1.0,\"showarrow\":false,\"text\":\"EPL1\",\"textangle\":90,\"valign\":\"middle\",\"width\":100,\"x\":23.5,\"xanchor\":\"right\",\"y\":-0.5,\"yanchor\":\"bottom\"},{\"align\":\"right\",\"bgcolor\":\"rgba(255.0, 255.0, 0.0, 0.5)\",\"borderpad\":0,\"borderwidth\":0,\"font\":{\"color\":\"black\",\"size\":11},\"height\":13,\"hovertext\":\"Tudor_2\\u003cbr\\u003eReader of histone Me\",\"name\":\"lol\",\"opacity\":1.0,\"showarrow\":false,\"text\":\"Tudor_2\",\"textangle\":90,\"valign\":\"middle\",\"width\":100,\"x\":24.5,\"xanchor\":\"right\",\"y\":-0.5,\"yanchor\":\"bottom\"},{\"align\":\"right\",\"bgcolor\":\"rgba(0.0, 0.0, 255.0, 0.5)\",\"borderpad\":0,\"borderwidth\":0,\"font\":{\"color\":\"black\",\"size\":11},\"height\":13,\"hovertext\":\"Pkinase\\u003cbr\\u003eWriter of (histone) Ph\",\"name\":\"lol\",\"opacity\":1.0,\"showarrow\":false,\"text\":\"Pkinase\",\"textangle\":90,\"valign\":\"middle\",\"width\":100,\"x\":25.5,\"xanchor\":\"right\",\"y\":-0.5,\"yanchor\":\"bottom\"},{\"align\":\"right\",\"bgcolor\":\"rgba(0.0, 0.0, 255.0, 0.5)\",\"borderpad\":0,\"borderwidth\":0,\"font\":{\"color\":\"black\",\"size\":11},\"height\":13,\"hovertext\":\"Pkinase_C\\u003cbr\\u003eWriter of (histone) Ph\",\"name\":\"lol\",\"opacity\":1.0,\"showarrow\":false,\"text\":\"Pkinase_C\",\"textangle\":90,\"valign\":\"middle\",\"width\":100,\"x\":26.5,\"xanchor\":\"right\",\"y\":-0.5,\"yanchor\":\"bottom\"},{\"align\":\"right\",\"bgcolor\":\"rgba(165.0, 42.0, 42.0, 0.5)\",\"borderpad\":0,\"borderwidth\":0,\"font\":{\"color\":\"black\",\"size\":11},\"height\":13,\"hovertext\":\"WSD\\u003cbr\\u003eDNA binding\",\"name\":\"lol\",\"opacity\":1.0,\"showarrow\":false,\"text\":\"WSD\",\"textangle\":90,\"valign\":\"middle\",\"width\":100,\"x\":27.5,\"xanchor\":\"right\",\"y\":-0.5,\"yanchor\":\"bottom\"},{\"align\":\"right\",\"bgcolor\":\"rgba(95.0, 158.0, 160.0, 0.5)\",\"borderpad\":0,\"borderwidth\":0,\"font\":{\"color\":\"black\",\"size\":11},\"height\":13,\"hovertext\":\"Hist_deacetyl\\u003cbr\\u003eReader of histone Ac\",\"name\":\"lol\",\"opacity\":1.0,\"showarrow\":false,\"text\":\"Hist_deacetyl\",\"textangle\":90,\"valign\":\"middle\",\"width\":100,\"x\":28.5,\"xanchor\":\"right\",\"y\":-0.5,\"yanchor\":\"bottom\"},{\"align\":\"right\",\"bgcolor\":\"rgba(221.0, 160.0, 221.0, 0.5)\",\"borderpad\":0,\"borderwidth\":0,\"font\":{\"color\":\"black\",\"size\":11},\"height\":13,\"hovertext\":\"zf-MYST\\u003cbr\\u003eEraser of histone Ac\",\"name\":\"lol\",\"opacity\":1.0,\"showarrow\":false,\"text\":\"zf-MYST\",\"textangle\":90,\"valign\":\"middle\",\"width\":100,\"x\":29.5,\"xanchor\":\"right\",\"y\":-0.5,\"yanchor\":\"bottom\"},{\"align\":\"right\",\"bgcolor\":\"rgba(221.0, 160.0, 221.0, 0.5)\",\"borderpad\":0,\"borderwidth\":0,\"font\":{\"color\":\"black\",\"size\":11},\"height\":13,\"hovertext\":\"MOZ_SAS\\u003cbr\\u003eEraser of histone Ac\",\"name\":\"lol\",\"opacity\":1.0,\"showarrow\":false,\"text\":\"MOZ_SAS\",\"textangle\":90,\"valign\":\"middle\",\"width\":100,\"x\":30.5,\"xanchor\":\"right\",\"y\":-0.5,\"yanchor\":\"bottom\"},{\"align\":\"right\",\"bgcolor\":\"rgba(0.0, 0.0, 255.0, 0.5)\",\"borderpad\":0,\"borderwidth\":0,\"font\":{\"color\":\"black\",\"size\":11},\"height\":13,\"hovertext\":\"PI3_PI4_kinase\\u003cbr\\u003eWriter of (histone) Ph\",\"name\":\"lol\",\"opacity\":1.0,\"showarrow\":false,\"text\":\"PI3_PI4_kinase\",\"textangle\":90,\"valign\":\"middle\",\"width\":100,\"x\":31.5,\"xanchor\":\"right\",\"y\":-0.5,\"yanchor\":\"bottom\"},{\"align\":\"right\",\"bgcolor\":\"rgba(211.0, 211.0, 211.0, 0.5)\",\"borderpad\":0,\"borderwidth\":0,\"font\":{\"color\":\"black\",\"size\":11},\"height\":13,\"hovertext\":\"PAS_11\\u003cbr\\u003eOther\",\"name\":\"lol\",\"opacity\":1.0,\"showarrow\":false,\"text\":\"PAS_11\",\"textangle\":90,\"valign\":\"middle\",\"width\":100,\"x\":32.5,\"xanchor\":\"right\",\"y\":-0.5,\"yanchor\":\"bottom\"},{\"align\":\"right\",\"bgcolor\":\"rgba(211.0, 211.0, 211.0, 0.5)\",\"borderpad\":0,\"borderwidth\":0,\"font\":{\"color\":\"black\",\"size\":11},\"height\":13,\"hovertext\":\"PAS\\u003cbr\\u003eOther\",\"name\":\"lol\",\"opacity\":1.0,\"showarrow\":false,\"text\":\"PAS\",\"textangle\":90,\"valign\":\"middle\",\"width\":100,\"x\":33.5,\"xanchor\":\"right\",\"y\":-0.5,\"yanchor\":\"bottom\"},{\"align\":\"right\",\"bgcolor\":\"rgba(211.0, 211.0, 211.0, 0.5)\",\"borderpad\":0,\"borderwidth\":0,\"font\":{\"color\":\"black\",\"size\":11},\"height\":13,\"hovertext\":\"FATC\\u003cbr\\u003eOther\",\"name\":\"lol\",\"opacity\":1.0,\"showarrow\":false,\"text\":\"FATC\",\"textangle\":90,\"valign\":\"middle\",\"width\":100,\"x\":34.5,\"xanchor\":\"right\",\"y\":-0.5,\"yanchor\":\"bottom\"},{\"align\":\"right\",\"bgcolor\":\"rgba(211.0, 211.0, 211.0, 0.5)\",\"borderpad\":0,\"borderwidth\":0,\"font\":{\"color\":\"black\",\"size\":11},\"height\":13,\"hovertext\":\"UCH\\u003cbr\\u003eOther\",\"name\":\"lol\",\"opacity\":1.0,\"showarrow\":false,\"text\":\"UCH\",\"textangle\":90,\"valign\":\"middle\",\"width\":100,\"x\":35.5,\"xanchor\":\"right\",\"y\":-0.5,\"yanchor\":\"bottom\"},{\"align\":\"right\",\"bgcolor\":\"rgba(211.0, 211.0, 211.0, 0.5)\",\"borderpad\":0,\"borderwidth\":0,\"font\":{\"color\":\"black\",\"size\":11},\"height\":13,\"hovertext\":\"DDT\\u003cbr\\u003eOther\",\"name\":\"lol\",\"opacity\":1.0,\"showarrow\":false,\"text\":\"DDT\",\"textangle\":90,\"valign\":\"middle\",\"width\":100,\"x\":36.5,\"xanchor\":\"right\",\"y\":-0.5,\"yanchor\":\"bottom\"},{\"align\":\"right\",\"bgcolor\":\"rgba(165.0, 42.0, 42.0, 0.5)\",\"borderpad\":0,\"borderwidth\":0,\"font\":{\"color\":\"black\",\"size\":11},\"height\":13,\"hovertext\":\"zf-C3HC4_2\\u003cbr\\u003eDNA binding\",\"name\":\"lol\",\"opacity\":1.0,\"showarrow\":false,\"text\":\"zf-C3HC4_2\",\"textangle\":90,\"valign\":\"middle\",\"width\":100,\"x\":37.5,\"xanchor\":\"right\",\"y\":-0.5,\"yanchor\":\"bottom\"},{\"align\":\"right\",\"bgcolor\":\"rgba(211.0, 211.0, 211.0, 0.5)\",\"borderpad\":0,\"borderwidth\":0,\"font\":{\"color\":\"black\",\"size\":11},\"height\":13,\"hovertext\":\"zf-UBP\\u003cbr\\u003eOther\",\"name\":\"lol\",\"opacity\":1.0,\"showarrow\":false,\"text\":\"zf-UBP\",\"textangle\":90,\"valign\":\"middle\",\"width\":100,\"x\":38.5,\"xanchor\":\"right\",\"y\":-0.5,\"yanchor\":\"bottom\"},{\"align\":\"right\",\"bgcolor\":\"rgba(255.0, 255.0, 0.0, 0.5)\",\"borderpad\":0,\"borderwidth\":0,\"font\":{\"color\":\"black\",\"size\":11},\"height\":13,\"hovertext\":\"C5HCH\\u003cbr\\u003eReader of histone Me\",\"name\":\"lol\",\"opacity\":1.0,\"showarrow\":false,\"text\":\"C5HCH\",\"textangle\":90,\"valign\":\"middle\",\"width\":100,\"x\":39.5,\"xanchor\":\"right\",\"y\":-0.5,\"yanchor\":\"bottom\"},{\"align\":\"right\",\"bgcolor\":\"rgba(211.0, 211.0, 211.0, 0.5)\",\"borderpad\":0,\"borderwidth\":0,\"font\":{\"color\":\"black\",\"size\":11},\"height\":13,\"hovertext\":\"BRK\\u003cbr\\u003eOther\",\"name\":\"lol\",\"opacity\":1.0,\"showarrow\":false,\"text\":\"BRK\",\"textangle\":90,\"valign\":\"middle\",\"width\":100,\"x\":40.5,\"xanchor\":\"right\",\"y\":-0.5,\"yanchor\":\"bottom\"},{\"align\":\"right\",\"bgcolor\":\"rgba(211.0, 211.0, 211.0, 0.5)\",\"borderpad\":0,\"borderwidth\":0,\"font\":{\"color\":\"black\",\"size\":11},\"height\":13,\"hovertext\":\"C1_1\\u003cbr\\u003eOther\",\"name\":\"lol\",\"opacity\":1.0,\"showarrow\":false,\"text\":\"C1_1\",\"textangle\":90,\"valign\":\"middle\",\"width\":100,\"x\":41.5,\"xanchor\":\"right\",\"y\":-0.5,\"yanchor\":\"bottom\"},{\"align\":\"right\",\"bgcolor\":\"rgba(211.0, 211.0, 211.0, 0.5)\",\"borderpad\":0,\"borderwidth\":0,\"font\":{\"color\":\"black\",\"size\":11},\"height\":13,\"hovertext\":\"Mtf2_C\\u003cbr\\u003eOther\",\"name\":\"lol\",\"opacity\":1.0,\"showarrow\":false,\"text\":\"Mtf2_C\",\"textangle\":90,\"valign\":\"middle\",\"width\":100,\"x\":42.5,\"xanchor\":\"right\",\"y\":-0.5,\"yanchor\":\"bottom\"},{\"align\":\"right\",\"bgcolor\":\"rgba(165.0, 42.0, 42.0, 0.5)\",\"borderpad\":0,\"borderwidth\":0,\"font\":{\"color\":\"black\",\"size\":11},\"height\":13,\"hovertext\":\"SWIRM\\u003cbr\\u003eDNA binding\",\"name\":\"lol\",\"opacity\":1.0,\"showarrow\":false,\"text\":\"SWIRM\",\"textangle\":90,\"valign\":\"middle\",\"width\":100,\"x\":43.5,\"xanchor\":\"right\",\"y\":-0.5,\"yanchor\":\"bottom\"},{\"align\":\"right\",\"bgcolor\":\"rgba(211.0, 211.0, 211.0, 0.5)\",\"borderpad\":0,\"borderwidth\":0,\"font\":{\"color\":\"black\",\"size\":11},\"height\":13,\"hovertext\":\"RAWUL\\u003cbr\\u003eOther\",\"name\":\"lol\",\"opacity\":1.0,\"showarrow\":false,\"text\":\"RAWUL\",\"textangle\":90,\"valign\":\"middle\",\"width\":100,\"x\":44.5,\"xanchor\":\"right\",\"y\":-0.5,\"yanchor\":\"bottom\"},{\"align\":\"right\",\"bgcolor\":\"rgba(255.0, 192.0, 203.0, 0.5)\",\"borderpad\":0,\"borderwidth\":0,\"font\":{\"color\":\"black\",\"size\":11},\"height\":13,\"hovertext\":\"HSA\\u003cbr\\u003eChromarin remodelers\",\"name\":\"lol\",\"opacity\":1.0,\"showarrow\":false,\"text\":\"HSA\",\"textangle\":90,\"valign\":\"middle\",\"width\":100,\"x\":45.5,\"xanchor\":\"right\",\"y\":-0.5,\"yanchor\":\"bottom\"},{\"align\":\"right\",\"bgcolor\":\"rgba(95.0, 158.0, 160.0, 0.5)\",\"borderpad\":0,\"borderwidth\":0,\"font\":{\"color\":\"black\",\"size\":11},\"height\":13,\"hovertext\":\"HDAC4_Gln\\u003cbr\\u003eReader of histone Ac\",\"name\":\"lol\",\"opacity\":1.0,\"showarrow\":false,\"text\":\"HDAC4_Gln\",\"textangle\":90,\"valign\":\"middle\",\"width\":100,\"x\":46.5,\"xanchor\":\"right\",\"y\":-0.5,\"yanchor\":\"bottom\"},{\"align\":\"right\",\"bgcolor\":\"rgba(255.0, 192.0, 203.0, 0.5)\",\"borderpad\":0,\"borderwidth\":0,\"font\":{\"color\":\"black\",\"size\":11},\"height\":13,\"hovertext\":\"Chromo_shadow\\u003cbr\\u003eChromarin remodelers\",\"name\":\"lol\",\"opacity\":1.0,\"showarrow\":false,\"text\":\"Chromo_shadow\",\"textangle\":90,\"valign\":\"middle\",\"width\":100,\"x\":47.5,\"xanchor\":\"right\",\"y\":-0.5,\"yanchor\":\"bottom\"},{\"align\":\"right\",\"bgcolor\":\"rgba(211.0, 211.0, 211.0, 0.5)\",\"borderpad\":0,\"borderwidth\":0,\"font\":{\"color\":\"black\",\"size\":11},\"height\":13,\"hovertext\":\"ECH_1\\u003cbr\\u003eOther\",\"name\":\"lol\",\"opacity\":1.0,\"showarrow\":false,\"text\":\"ECH_1\",\"textangle\":90,\"valign\":\"middle\",\"width\":100,\"x\":48.5,\"xanchor\":\"right\",\"y\":-0.5,\"yanchor\":\"bottom\"},{\"align\":\"right\",\"bgcolor\":\"rgba(128.0, 128.0, 0.0, 0.5)\",\"borderpad\":0,\"borderwidth\":0,\"font\":{\"color\":\"black\",\"size\":11},\"height\":13,\"hovertext\":\"Pre-SET\\u003cbr\\u003eWriter of histone Me\",\"name\":\"lol\",\"opacity\":1.0,\"showarrow\":false,\"text\":\"Pre-SET\",\"textangle\":90,\"valign\":\"middle\",\"width\":100,\"x\":49.5,\"xanchor\":\"right\",\"y\":-0.5,\"yanchor\":\"bottom\"},{\"align\":\"right\",\"bgcolor\":\"rgba(211.0, 211.0, 211.0, 0.5)\",\"borderpad\":0,\"borderwidth\":0,\"font\":{\"color\":\"black\",\"size\":11},\"height\":13,\"hovertext\":\"BET\\u003cbr\\u003eOther\",\"name\":\"lol\",\"opacity\":1.0,\"showarrow\":false,\"text\":\"BET\",\"textangle\":90,\"valign\":\"middle\",\"width\":100,\"x\":50.5,\"xanchor\":\"right\",\"y\":-0.5,\"yanchor\":\"bottom\"},{\"align\":\"right\",\"bgcolor\":\"rgba(255.0, 192.0, 203.0, 0.5)\",\"borderpad\":0,\"borderwidth\":0,\"font\":{\"color\":\"black\",\"size\":11},\"height\":13,\"hovertext\":\"DPF1-3_N\\u003cbr\\u003eChromarin remodelers\",\"name\":\"lol\",\"opacity\":1.0,\"showarrow\":false,\"text\":\"DPF1-3_N\",\"textangle\":90,\"valign\":\"middle\",\"width\":100,\"x\":51.5,\"xanchor\":\"right\",\"y\":-0.5,\"yanchor\":\"bottom\"},{\"align\":\"right\",\"bgcolor\":\"rgba(165.0, 42.0, 42.0, 0.5)\",\"borderpad\":0,\"borderwidth\":0,\"font\":{\"color\":\"black\",\"size\":11},\"height\":13,\"hovertext\":\"zf-C2H2\\u003cbr\\u003eDNA binding\",\"name\":\"lol\",\"opacity\":1.0,\"showarrow\":false,\"text\":\"zf-C2H2\",\"textangle\":90,\"valign\":\"middle\",\"width\":100,\"x\":52.5,\"xanchor\":\"right\",\"y\":-0.5,\"yanchor\":\"bottom\"},{\"align\":\"right\",\"bgcolor\":\"rgba(211.0, 211.0, 211.0, 0.5)\",\"borderpad\":0,\"borderwidth\":0,\"font\":{\"color\":\"black\",\"size\":11},\"height\":13,\"hovertext\":\"zf-MYND\\u003cbr\\u003eOther\",\"name\":\"lol\",\"opacity\":1.0,\"showarrow\":false,\"text\":\"zf-MYND\",\"textangle\":90,\"valign\":\"middle\",\"width\":100,\"x\":53.5,\"xanchor\":\"right\",\"y\":-0.5,\"yanchor\":\"bottom\"},{\"align\":\"right\",\"bgcolor\":\"rgba(255.0, 255.0, 0.0, 0.5)\",\"borderpad\":0,\"borderwidth\":0,\"font\":{\"color\":\"black\",\"size\":11},\"height\":13,\"hovertext\":\"PHD\\u003cbr\\u003eReader of histone Me\",\"name\":\"lol\",\"opacity\":1.0,\"showarrow\":false,\"text\":\"PHD\",\"textangle\":90,\"valign\":\"middle\",\"width\":100,\"x\":54.5,\"xanchor\":\"right\",\"y\":-0.5,\"yanchor\":\"bottom\"},{\"align\":\"right\",\"bgcolor\":\"rgba(255.0, 192.0, 203.0, 0.5)\",\"borderpad\":0,\"borderwidth\":0,\"font\":{\"color\":\"black\",\"size\":11},\"height\":13,\"hovertext\":\"Helicase_C\\u003cbr\\u003eChromarin remodelers\",\"name\":\"lol\",\"opacity\":1.0,\"showarrow\":false,\"text\":\"Helicase_C\",\"textangle\":90,\"valign\":\"middle\",\"width\":100,\"x\":55.5,\"xanchor\":\"right\",\"y\":-0.5,\"yanchor\":\"bottom\"},{\"align\":\"right\",\"bgcolor\":\"rgba(255.0, 192.0, 203.0, 0.5)\",\"borderpad\":0,\"borderwidth\":0,\"font\":{\"color\":\"black\",\"size\":11},\"height\":13,\"hovertext\":\"SNF2-rel_dom\\u003cbr\\u003eChromarin remodelers\",\"name\":\"lol\",\"opacity\":1.0,\"showarrow\":false,\"text\":\"SNF2-rel_dom\",\"textangle\":90,\"valign\":\"middle\",\"width\":100,\"x\":56.5,\"xanchor\":\"right\",\"y\":-0.5,\"yanchor\":\"bottom\"},{\"align\":\"right\",\"bgcolor\":\"rgba(255.0, 255.0, 0.0, 0.5)\",\"borderpad\":0,\"borderwidth\":0,\"font\":{\"color\":\"black\",\"size\":11},\"height\":13,\"hovertext\":\"Chromo\\u003cbr\\u003eReader of histone Me\",\"name\":\"lol\",\"opacity\":1.0,\"showarrow\":false,\"text\":\"Chromo\",\"textangle\":90,\"valign\":\"middle\",\"width\":100,\"x\":57.5,\"xanchor\":\"right\",\"y\":-0.5,\"yanchor\":\"bottom\"},{\"align\":\"right\",\"bgcolor\":\"rgba(255.0, 192.0, 203.0, 0.5)\",\"borderpad\":0,\"borderwidth\":0,\"font\":{\"color\":\"black\",\"size\":11},\"height\":13,\"hovertext\":\"DUF1087\\u003cbr\\u003eChromarin remodelers\",\"name\":\"lol\",\"opacity\":1.0,\"showarrow\":false,\"text\":\"DUF1087\",\"textangle\":90,\"valign\":\"middle\",\"width\":100,\"x\":58.5,\"xanchor\":\"right\",\"y\":-0.5,\"yanchor\":\"bottom\"},{\"align\":\"right\",\"bgcolor\":\"rgba(211.0, 211.0, 211.0, 0.5)\",\"borderpad\":0,\"borderwidth\":0,\"font\":{\"color\":\"black\",\"size\":11},\"height\":13,\"hovertext\":\"CHDNT\\u003cbr\\u003eOther\",\"name\":\"lol\",\"opacity\":1.0,\"showarrow\":false,\"text\":\"CHDNT\",\"textangle\":90,\"valign\":\"middle\",\"width\":100,\"x\":59.5,\"xanchor\":\"right\",\"y\":-0.5,\"yanchor\":\"bottom\"},{\"align\":\"right\",\"bgcolor\":\"rgba(211.0, 211.0, 211.0, 0.5)\",\"borderpad\":0,\"borderwidth\":0,\"font\":{\"color\":\"black\",\"size\":11},\"height\":13,\"hovertext\":\"CHDCT2\\u003cbr\\u003eOther\",\"name\":\"lol\",\"opacity\":1.0,\"showarrow\":false,\"text\":\"CHDCT2\",\"textangle\":90,\"valign\":\"middle\",\"width\":100,\"x\":60.5,\"xanchor\":\"right\",\"y\":-0.5,\"yanchor\":\"bottom\"},{\"align\":\"right\",\"bgcolor\":\"rgba(255.0, 192.0, 203.0, 0.5)\",\"borderpad\":0,\"borderwidth\":0,\"font\":{\"color\":\"black\",\"size\":11},\"height\":13,\"hovertext\":\"CHDII_SANT-like\\u003cbr\\u003eChromarin remodelers\",\"name\":\"lol\",\"opacity\":1.0,\"showarrow\":false,\"text\":\"CHDII_SANT-like\",\"textangle\":90,\"valign\":\"middle\",\"width\":100,\"x\":61.5,\"xanchor\":\"right\",\"y\":-0.5,\"yanchor\":\"bottom\"},{\"showarrow\":false,\"text\":\"Conditional probability\",\"textangle\":90,\"x\":1.12,\"xref\":\"paper\",\"y\":0.5,\"yref\":\"paper\",\"font\":{\"size\":16}},{\"align\":\"center\",\"bgcolor\":\"rgba(128.0, 128.0, 0.0, 0.5)\",\"borderpad\":0,\"borderwidth\":0,\"font\":{\"color\":\"black\",\"size\":11},\"height\":13,\"name\":\"lol\",\"opacity\":1.0,\"showarrow\":false,\"text\":\"Writer of histone Me\",\"textangle\":0,\"valign\":\"middle\",\"width\":130,\"x\":11.5,\"xanchor\":\"right\",\"y\":63,\"yanchor\":\"bottom\"},{\"align\":\"center\",\"bgcolor\":\"rgba(0.0, 128.0, 0.0, 0.5)\",\"borderpad\":0,\"borderwidth\":0,\"font\":{\"color\":\"black\",\"size\":11},\"height\":13,\"name\":\"lol\",\"opacity\":1.0,\"showarrow\":false,\"text\":\"Eraser of histone Me\",\"textangle\":0,\"valign\":\"middle\",\"width\":130,\"x\":23.5,\"xanchor\":\"right\",\"y\":63,\"yanchor\":\"bottom\"},{\"align\":\"center\",\"bgcolor\":\"rgba(255.0, 255.0, 0.0, 0.5)\",\"borderpad\":0,\"borderwidth\":0,\"font\":{\"color\":\"black\",\"size\":11},\"height\":13,\"name\":\"lol\",\"opacity\":1.0,\"showarrow\":false,\"text\":\"Reader of histone Me\",\"textangle\":0,\"valign\":\"middle\",\"width\":130,\"x\":35.5,\"xanchor\":\"right\",\"y\":63,\"yanchor\":\"bottom\"},{\"align\":\"center\",\"bgcolor\":\"rgba(255.0, 0.0, 0.0, 0.5)\",\"borderpad\":0,\"borderwidth\":0,\"font\":{\"color\":\"black\",\"size\":11},\"height\":13,\"name\":\"lol\",\"opacity\":1.0,\"showarrow\":false,\"text\":\"Writer of histone Ac\",\"textangle\":0,\"valign\":\"middle\",\"width\":130,\"x\":47.5,\"xanchor\":\"right\",\"y\":63,\"yanchor\":\"bottom\"},{\"align\":\"center\",\"bgcolor\":\"rgba(221.0, 160.0, 221.0, 0.5)\",\"borderpad\":0,\"borderwidth\":0,\"font\":{\"color\":\"black\",\"size\":11},\"height\":13,\"name\":\"lol\",\"opacity\":1.0,\"showarrow\":false,\"text\":\"Eraser of histone Ac\",\"textangle\":0,\"valign\":\"middle\",\"width\":130,\"x\":59.5,\"xanchor\":\"right\",\"y\":63,\"yanchor\":\"bottom\"},{\"align\":\"center\",\"bgcolor\":\"rgba(95.0, 158.0, 160.0, 0.5)\",\"borderpad\":0,\"borderwidth\":0,\"font\":{\"color\":\"black\",\"size\":11},\"height\":13,\"name\":\"lol\",\"opacity\":1.0,\"showarrow\":false,\"text\":\"Reader of histone Ac\",\"textangle\":0,\"valign\":\"middle\",\"width\":130,\"x\":11.5,\"xanchor\":\"right\",\"y\":65,\"yanchor\":\"bottom\"},{\"align\":\"center\",\"bgcolor\":\"rgba(0.0, 0.0, 255.0, 0.5)\",\"borderpad\":0,\"borderwidth\":0,\"font\":{\"color\":\"black\",\"size\":11},\"height\":13,\"name\":\"lol\",\"opacity\":1.0,\"showarrow\":false,\"text\":\"Writer of (histone) Ph\",\"textangle\":0,\"valign\":\"middle\",\"width\":130,\"x\":23.5,\"xanchor\":\"right\",\"y\":65,\"yanchor\":\"bottom\"},{\"align\":\"center\",\"bgcolor\":\"rgba(255.0, 192.0, 203.0, 0.5)\",\"borderpad\":0,\"borderwidth\":0,\"font\":{\"color\":\"black\",\"size\":11},\"height\":13,\"name\":\"lol\",\"opacity\":1.0,\"showarrow\":false,\"text\":\"Chromarin remodelers\",\"textangle\":0,\"valign\":\"middle\",\"width\":130,\"x\":35.5,\"xanchor\":\"right\",\"y\":65,\"yanchor\":\"bottom\"},{\"align\":\"center\",\"bgcolor\":\"rgba(165.0, 42.0, 42.0, 0.5)\",\"borderpad\":0,\"borderwidth\":0,\"font\":{\"color\":\"black\",\"size\":11},\"height\":13,\"name\":\"lol\",\"opacity\":1.0,\"showarrow\":false,\"text\":\"DNA binding\",\"textangle\":0,\"valign\":\"middle\",\"width\":130,\"x\":47.5,\"xanchor\":\"right\",\"y\":65,\"yanchor\":\"bottom\"},{\"align\":\"center\",\"bgcolor\":\"rgba(211.0, 211.0, 211.0, 0.5)\",\"borderpad\":0,\"borderwidth\":0,\"font\":{\"color\":\"black\",\"size\":11},\"height\":13,\"name\":\"lol\",\"opacity\":1.0,\"showarrow\":false,\"text\":\"Other\",\"textangle\":0,\"valign\":\"middle\",\"width\":130,\"x\":59.5,\"xanchor\":\"right\",\"y\":65,\"yanchor\":\"bottom\"}],\"plot_bgcolor\":\"white\",\"dragmode\":false},                        {\"responsive\": true}                    ).then(function(){\n",
       "                            \n",
       "var gd = document.getElementById('219129f4-1de6-4fba-a390-59dedf05e9db');\n",
       "var x = new MutationObserver(function (mutations, observer) {{\n",
       "        var display = window.getComputedStyle(gd).display;\n",
       "        if (!display || display === 'none') {{\n",
       "            console.log([gd, 'removed!']);\n",
       "            Plotly.purge(gd);\n",
       "            observer.disconnect();\n",
       "        }}\n",
       "}});\n",
       "\n",
       "// Listen for the removal of the full notebook cells\n",
       "var notebookContainer = gd.closest('#notebook-container');\n",
       "if (notebookContainer) {{\n",
       "    x.observe(notebookContainer, {childList: true});\n",
       "}}\n",
       "\n",
       "// Listen for the clearing of the current output cell\n",
       "var outputEl = gd.closest('.output');\n",
       "if (outputEl) {{\n",
       "    x.observe(outputEl, {childList: true});\n",
       "}}\n",
       "\n",
       "                        })                };                });            </script>        </div>"
      ]
     },
     "metadata": {},
     "output_type": "display_data"
    }
   ],
   "source": [
    "import plotly.graph_objects as go\n",
    "from plotly.subplots import make_subplots\n",
    "import matplotlib.colors as mcolors\n",
    "\n",
    "\n",
    "n_rows, n_cols = df_cooc.shape\n",
    "n_rows, n_cols = df_cooc.shape\n",
    "x = np.arange(n_cols)\n",
    "y = np.arange(n_rows)\n",
    "\n",
    "x, y = np.meshgrid(x, y)\n",
    "\n",
    "x = x.flatten()\n",
    "y = y.flatten()\n",
    "\n",
    "\n",
    "sizes = df_cooc_num.values.flatten()\n",
    "colors = df_cooc.values.flatten()\n",
    "mask = colors >0.01\n",
    "\n",
    "fig = go.Figure(\n",
    "    data=[\n",
    "        go.Scatter(\n",
    "            x=x[mask],\n",
    "            y=y[mask],\n",
    "            text=[\n",
    "                f\"{percent:.2f}%, {num:n} proteins\"\n",
    "                for num, percent in zip(sizes[mask], colors[mask])\n",
    "            ],\n",
    "            mode=\"markers\",\n",
    "            marker=dict(\n",
    "                color=colors[mask],\n",
    "                size=np.log(sizes[mask]*10)*10,\n",
    "                showscale=True,\n",
    "                # opacity=1,\n",
    "                colorscale=\"blues\",\n",
    "                cmax=1,\n",
    "                cmin=0,\n",
    "                colorbar=dict(        \n",
    "                    len=0.5,                 # Colorbar length (fraction of plot height)\n",
    "                )\n",
    "                # colorscale=[(0, \"white\"),(100, \"blue\")]\n",
    "                # size_max=30\n",
    "            ),\n",
    "        )\n",
    "    #     go.Heatmap(\n",
    "    #     z=df_cooc.values,\n",
    "    #     x=df_cooc.columns, \n",
    "    #     y=df_cooc.index, \n",
    "    #     colorscale='blues',\n",
    "    # ),\n",
    "    ]\n",
    ")\n",
    "def get_annot(posx,posy, text,ori,bg_color,width=100,align='right',hover=True):\n",
    "    c = mcolors.to_rgb(bg_color)\n",
    "    return dict(\n",
    "        x=posx,\n",
    "        y=posy,\n",
    "        text=text,\n",
    "        showarrow=False,\n",
    "        font=dict(\n",
    "            # family=\"Courier New, monospace\",\n",
    "            size=11,\n",
    "            color=\"black\"\n",
    "            ),\n",
    "        align=align,\n",
    "        valign='middle',\n",
    "        height=13,\n",
    "        width=width,\n",
    "        xanchor='right',\n",
    "        yanchor='bottom',\n",
    "        textangle=0 if ori=='h' else 90,\n",
    "        borderwidth=0,\n",
    "        borderpad=0,\n",
    "        # bordercolor=f'rgba({c[0]}, {c[1]}, {c[2]}, 0.5)',\n",
    "        bgcolor=f'rgba({c[0]*255}, {c[1]*255}, {c[2]*255}, 0.5)',\n",
    "        opacity=1.0,\n",
    "        hovertext=f'{text}<br>{color_to_cat[bg_color]}' if hover else None,\n",
    "        name='lol'\n",
    "        )\n",
    "annotations_y = [ get_annot(-0.5,pos+0.5,text,'h',color_nodes[text]) for pos,text in enumerate(df_cooc.index)]\n",
    "annotations_x = [ get_annot(pos+0.5,-0.5,text,'v',color_nodes[text]) for pos,text in enumerate(df_cooc.columns)]\n",
    "annotations_x.append(\n",
    "    dict(\n",
    "            text=\"Conditional probability\",\n",
    "            font_size=16,\n",
    "            # font_family='arial',\n",
    "            # font_color='red',\n",
    "            textangle=90,\n",
    "            showarrow=False,\n",
    "            # ^^ appearance\n",
    "            xref=\"paper\",\n",
    "            yref=\"paper\",\n",
    "            x=1.12,\n",
    "            y=0.5,\n",
    "            # ^^ position\n",
    "        )\n",
    ")\n",
    "fig.update_traces(\n",
    "    mode=\"markers\",\n",
    "    marker=dict(sizemode=\"area\", sizeref=0.6, line_width=1, line_color=\"DarkSlateGrey\"),\n",
    ")\n",
    "annotations_legend1 = [get_annot(11.5+ pos*12,63,text,'h',color,width=130,align='center',hover=False) for pos,(text,color) in enumerate(color_cats[:5])]\n",
    "annotations_legend2 = [get_annot(11.5+pos*12,65,text,'h',color,width=130,align='center',hover=False) for pos,(text,color) in enumerate(color_cats[5:])]\n",
    "fig.update_layout(height=1000, width=1000,\n",
    "                 xaxis=dict(\n",
    "                     # tickmode=\"array\",\n",
    "                    tickmode='array',\n",
    "                    tickvals=list(range(len(df_cooc.columns))),\n",
    "                    ticktext=df_cooc.columns,\n",
    "                    constrain='domain',\n",
    "                    scaleanchor='y', \n",
    "                    # title='Protein domains and families (by Pfam)',\n",
    "                    showticklabels=False,\n",
    "                    automargin=True,\n",
    "                ),\n",
    "                yaxis=dict(\n",
    "                    tickmode='array',\n",
    "                    tickvals=list(range(len(df_cooc.index))),\n",
    "                    ticktext=df_cooc.index,\n",
    "                    autorange='reversed',\n",
    "                    scaleanchor='x', \n",
    "                    constrain='domain',\n",
    "                    title='Protein domains and families (by Pfam)',\n",
    "                    showticklabels=False,\n",
    "                    automargin=True\n",
    "                ),\n",
    "                  annotations=annotations_y+annotations_x+annotations_legend1+annotations_legend2,\n",
    "                  margin=dict(l=30, r=100, t=1, b=1),\n",
    "                  plot_bgcolor=\"white\",\n",
    "                  dragmode=False\n",
    "                )\n",
    "config = {\n",
    "    'scrollZoom': False,  # Disable scroll to zoom\n",
    "    'modeBarButtonsToRemove': ['zoom2d'],\n",
    "    'displayModeBar': False,  # Hide the mode bar (toolbar)\n",
    "    'doubleClick': False,  # Disable double click to reset zoom\n",
    "    'editable': False,  # Disable edits like moving title and axes\n",
    "    'staticPlot': False  # Disable all interactivity (makes the plot static)\n",
    "}\n",
    "fig.write_html(\"PfamvsPfam_plot.html\", full_html=False,div_id='PfamvsPfam_plot',include_plotlyjs='js/plotly-2.35.2.min.js',config=config)\n",
    "fig.show()"
   ]
  },
  {
   "cell_type": "code",
   "execution_count": null,
   "id": "ad2d05a5-df46-4144-80cc-78d650fb8cd6",
   "metadata": {},
   "outputs": [],
   "source": []
  }
 ],
 "metadata": {
  "kernelspec": {
   "display_name": ".conda-interactome_website",
   "language": "python",
   "name": "conda-env-.conda-interactome_website-py"
  },
  "language_info": {
   "codemirror_mode": {
    "name": "ipython",
    "version": 3
   },
   "file_extension": ".py",
   "mimetype": "text/x-python",
   "name": "python",
   "nbconvert_exporter": "python",
   "pygments_lexer": "ipython3",
   "version": "3.13.0"
  }
 },
 "nbformat": 4,
 "nbformat_minor": 5
}
